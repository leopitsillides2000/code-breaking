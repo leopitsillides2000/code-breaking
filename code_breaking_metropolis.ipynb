{
  "nbformat": 4,
  "nbformat_minor": 0,
  "metadata": {
    "colab": {
      "provenance": [],
      "collapsed_sections": [
        "Hj0w0NezEjzL",
        "jJ-iJMysqp_k",
        "S-BrGFoLaQbo",
        "RVWCJc7k7nS9",
        "G15nQNlYUa0f",
        "DlkKRKPEGyG3",
        "QbDYd9n721Af",
        "kRPv67Mn3mIh",
        "i0F4aWJz4fzJ",
        "eTq82ZHL4tpr",
        "EaDEH7wE42mp",
        "KbVFCJWV5uVN",
        "Ryb98M7DtTbz",
        "W6gEoVQuLVVs",
        "C3Drsaw2lgoI",
        "I0zMEpQKN3rf",
        "_9CgKEc0qPge",
        "xpv-uPXPCs-I",
        "48QllN0TGQdL",
        "tDOr-DEWHFx0"
      ],
      "include_colab_link": true
    },
    "kernelspec": {
      "display_name": "Python 3",
      "language": "python",
      "name": "python3"
    },
    "language_info": {
      "codemirror_mode": {
        "name": "ipython",
        "version": 3
      },
      "file_extension": ".py",
      "mimetype": "text/x-python",
      "name": "python",
      "nbconvert_exporter": "python",
      "pygments_lexer": "ipython3",
      "version": "3.9.4"
    }
  },
  "cells": [
    {
      "cell_type": "markdown",
      "metadata": {
        "id": "view-in-github",
        "colab_type": "text"
      },
      "source": [
        "<a href=\"https://colab.research.google.com/github/leopitsillides2000/code-breaking/blob/main/code_breaking_metropolis.ipynb\" target=\"_parent\"><img src=\"https://colab.research.google.com/assets/colab-badge.svg\" alt=\"Open In Colab\"/></a>"
      ]
    },
    {
      "cell_type": "markdown",
      "metadata": {
        "id": "Hj0w0NezEjzL"
      },
      "source": [
        "## Code Breaking with Statistical Physics (Group 15)"
      ]
    },
    {
      "cell_type": "markdown",
      "metadata": {
        "id": "jJ-iJMysqp_k"
      },
      "source": [
        "#Table of Contents:\n",
        "\n",
        "1. [Introduction](#Introduction)\n",
        "  1. [Importing Modules](#Modules)\n",
        "  2. [Global Variables](#Global)\n",
        "2. [Core questions](#Core)\n",
        "  1. [Question 1](#Q1)\n",
        "  2. [Question 2](#Q2)\n",
        "  3. [Question 3](#Q3)\n",
        "  4. [Question 4](#Q4)\n",
        "  5. [Question 5](#Q5)\n",
        "  6. [Question 6](#Q6)\n",
        "3. [Improvements](#Improvements)\n",
        "  1. [Precalculation](#Precalculation)\n",
        "  2. [Metropolis algorithm](#Metropolis-1)\n",
        "  3. [Metropolis 2 alogrithm](#Metropolis-2)\n",
        "4. [T-value optimisation](#T-optimisation)\n",
        "5. [Statistics](#Extensions)\n",
        "6. [Decoding messages](#Decoding)\n",
        "7. [Conclusion](#Conclusion)\n",
        "8. [Bibliography](#Bibliography)"
      ]
    },
    {
      "cell_type": "markdown",
      "metadata": {
        "id": "S-BrGFoLaQbo"
      },
      "source": [
        "<a id=Introduction></a>\n",
        "# Introduction\n",
        "\n"
      ]
    },
    {
      "cell_type": "markdown",
      "metadata": {
        "id": "0dIKQr0P0Iva"
      },
      "source": [
        "In this project, we want to explore a number of different aspects of code breaking. First of all, we will look at a number of basic methods of solving codes, including ciphers which are cyclic permutations of the characters, and using the frequency of characters from a sample text to determine how frequently we expect characters to come up within the codes. \n",
        "\n",
        "We will then explore one particular algorithm for code breaking, which is known as the Metropolis algorithm. A score is assigned to the code how plausible it is as a piece of English text, and then the roles of two characters are swapped and the score computed again. If the score of the changed cipher is better, then we replace it, and if not then we have a certain probability of replacing it anyway. \n",
        "\n",
        "Following this, we will explore the Metropolis algorithm further, making improvements and changes to our algorithm so that we can solve more difficult and different codes. This includes codes in different languages, and codes which are shorter in length. We will do this by adapting our Metropolis algorithm to look at differernt size n-grams to see which kind are best for different lengths of codes, and by exploring the best way of dealing with T, a very important factor in determining the probability that a worse score is accepted anyway. Finally, we will try and use our improved algorithms to break a number of codes."
      ]
    },
    {
      "cell_type": "markdown",
      "metadata": {
        "id": "RVWCJc7k7nS9"
      },
      "source": [
        "##Importing Modules<a id=Modules></a>"
      ]
    },
    {
      "cell_type": "markdown",
      "metadata": {
        "id": "H6AruCI70D9V"
      },
      "source": [
        "To begin our code, we have to import several modules for use through the project:\n",
        "\n",
        "1.   The library `requests` has been used to get a text from a website, and include it within a string which we can easily manipulate. For our project, it has been used to obtain the text from Moby Dick (and as an extension, Jane Eyre in French) and add it to a string so that it can be manipulated and analysed.\n",
        "2. We have used `re` to be able to manipulate strings, and more specifically to replace certain characters within them. We have used it to remove all punctuation from the Moby Dick text, so it is in a format we can more easily deal with when calculating the probabilities of bigrams. Additionally, we have used the `findall` function to help us find all of the occurrences of a certain pattern of characters within a passage of text.  \n",
        "3.   `numpy` has lots of handy tools for mathematical coding. More specifically, we have used the logarithm and exponential functions within our metropolis algorithm. Also, `numpy` has a random implementation that we used instead of importing `random`. Further in <a href=#statistics>statistics</a> section we use variance and mean of `numpy`.\n",
        "4.   `matplotlib` is required for the graphing that we will be doing within <a href=#statistics>statistics</a>.\n",
        "5. `time` is required for timing how long some of the algorithms run for."
      ]
    },
    {
      "cell_type": "code",
      "metadata": {
        "id": "yO3_KsOy2g1j"
      },
      "source": [
        "import numpy as np, re, requests, time, matplotlib.pyplot as plt"
      ],
      "execution_count": null,
      "outputs": []
    },
    {
      "cell_type": "markdown",
      "metadata": {
        "id": "G15nQNlYUa0f"
      },
      "source": [
        "##Global Variables <a id='Global' ></a>"
      ]
    },
    {
      "cell_type": "markdown",
      "metadata": {
        "id": "z8Y31R647kTi"
      },
      "source": [
        "Below we have defined a few global variables which we will use throughout the whole project. `codedMsg` is a list including all of the codes that we wish to decode, which makes life more simple when putting the codes through the algorithms below as we can simply use `codedMsg[i]` for the $(\\texttt{i+1})^{\\texttt{th}}$ coded messages. \n",
        "\n",
        "Additionally, `symbols` is a string with all capital letters of the alphabet and space, which has been used throughout the project to create dictionaries for counting the frequency of letters occurring."
      ]
    },
    {
      "cell_type": "code",
      "metadata": {
        "id": "MANb3KYP7aOw"
      },
      "source": [
        "codedMsg = ['GPKZFER JRSER EKWIGIWKWVRZ YZRCWMWCRSEVRYWEWISCRGLIGFJWRGIFYISDD EYRCSEYLSYWRGPKZFEJRVWJ YERGZ CFJFGZPRWDGZSJ QWJRUFVWRIWSVST C KPRN KZR KJREFKSTCWRLJWRFXRJ YE X USEKR EVWEKSK FER KJRCSEYLSYWRUFEJKILUKJRSEVRFTAWUKRFI WEKWVRSGGIFSUZRS DRKFRZWCGRGIFYISDDWIJRNI KWRUCWSIRCFY USCRUFVWRXFIRJDSCCRSEVRCSIYWRJUSCWRGIFAWUKJ', 'RECFV KUWE VJCRWQFCRCFICYWEZRWKLVJWQF SCRRZ ALVWJLAACFWNATZVW NFWIZRZT FWELYWVCSTWNRWLVTE NBEWZTWHLRWCLRMWS FWJCWHE WUACHWEZJWR WHCVVWT WRCCWTELTWECWHLRWQF S NAYVMWCPKZTCYWTECWJ JCATWTELTWEZVT AWKNGZTTWRWGF LYWGLKUWELYWYZRLQQCLFCYWTEF NBEWTECWY FWJMWK JFLYCWFNRECYWT WTECWTLGVCWVLZYW NTWLVVWTECWRVZQRW SWQLQCFWK ATLZAZABWYLAKZABWJCAWZAWSF ATW SWEZJWLAYWTEFCHWEZJRCVSWZAT WLAWZATFZKLTCWLAYWCVLG FLTCWKLVKNVLTZ AWS FWTH WE NFRWZWHLTKECYWEZJWLRWECWK ICFCYWRECCTWLSTCFWRECCTW SWQLQCFWHZTEWSZBNFCRWLAYWVCTTCFRWR WK JQVCTCVMWLGR FGCYWZAWEZRWTLRUWTELTWECWELYWCIZYCATVMWS FB TTCAWJMWQFCRCAKCWR JCTZJCRWECWHLRWJLUZABWQF BFCRRWLAYWHEZRTVCYWLAYWRLABWLTWEZRWH FUWR JCTZJCRWECWHLRWQNDDVCYWLAYWH NVYWRZTWS FWV ABWRQCVVRWHZTEWLWSNFF HCYWGF HWLAYWLWILKLATWCMCWSZALVVMWECWRQFLABWSF JWEZRWKELZFWHZTEWLWKFMW SWRLTZRSLKTZ AWLAYWHLVUCYWNQWLAYWY HAWTECWF JWFNGGZABWEZRWELAYRWT BCTECFWTECAWECWHF TCWLWV ABWTCVCBFLJWNQ AWLWKLGVCWS FJWZSWJMWLARHCFWT WTEZRWZRWLRWZWE QCWM NWHZVVWELICWLWICFMWQFCTTMWKLRCWT WLYYWT WM NFWK VVCKTZ AWHLTR AWRLZYWECWZWCPQCKTWTELTWHCWRELVVWGCWLGVCWT WB WY HAWT WA FS VUWT J FF HWLAYWT WTLUCW NFWSFZCAYWR JCWICFMWYCSZAZTCWACHRWLRWT WTECWRCKFCTW SWEZRWLAA MLAKCWZWK ASCRRWTELTWZWHLRWSZVVCYWHZTEWKNFZ RZTMWGNTWZWHLRWLHLFCWTELTWE VJCRWVZUCYWT WJLUCWEZRWYZRKV RNFCRWLTWEZRW HAWTZJCWLAYWZAWEZRW HAWHLMWR WZWHLZTCYWNATZVWZTWRE NVYWRNZTWEZJWT WTLUCWJCWZAT WEZRWK ASZYCAKCWGNTWTECFCWHLRWLWYCVLMWZAWTELTWLARHCFZABWTCVCBFLJWLAYWTH WYLMRW SWZJQLTZCAKCWS VV HCYWYNFZABWHEZKEWE VJCRWQFZKUCYWNQWEZRWCLFRWLTWCICFMWFZABW SWTECWGCVVW AWTECWCICAZABW SWTECWRCK AYWTECFCWKLJCWLWVCTTCFWSF JWEZVT AWKNGZTTWLVVWHLRWXNZCTWHZTEWEZJWRLICWTELTWLWV ABWZARKFZQTZ AWELYWLQQCLFCYWTELTWJ FAZABWNQ AWTECWQCYCRTLVW SWTECWRNAYZLVWECWZAKV RCYWLWK QMW SWZTWHEZKEWZRWECFCWFCQF YNKCYWCVRZCWQFCQLFCWT WJCCTWTEMWB YWE VJCRWGCATW ICFWTEZRWBF TCRXNCWSFZCDCWS FWR JCWJZANTCRWLAYWTECAWRNYYCAVMWRQFLABWT WEZRWSCCTWHZTEWLAWCPKVLJLTZ AW SWRNFQFZRCWLAYWYZRJLMWEZRWSLKCWHLRWELBBLFYWHZTEWLAPZCTM', 'TULOMREMAEKBLRSWCTMWBIHB BTN KKUT NBTULOMRB DWBKSYMBYSWMRDBTULOMRKBJUNNBRMQM NBKE EUKEUT NBUDPSRY EUSDB ISCEBEOMBLN UDEMAEB DWBEO EBUDPSRY EUSDBT DBSPEMDBIMBCKMWBESBIRM XBEOMBTULOMRB PEMRBEOMBWUKTSQMRHBSPBPRMVCMDTHB D NHKUKBIHBEOMB R IBY EOMY EUTU DB DWBLSNHY EOB NBXUDWUB NKSBXDSJDB KB NXUDWCKBUDBEOMBDUDEOBTMDECRHBDM RNHB NNBKCTOBTULOMRKBTSCNWBIMBIRSXMDBIHB DBUDPSRYMWB EE TXMRBKCTOBTN KKUT NBTULOMRKBKEUNNBMDGSHBLSLCN RUEHBESW HBEOSCFOBYSKENHB KBLCZZNMKB NBXUDWUBJRSEMB BISSXBSDBTRHLESFR LOHBMDEUENMWBRUK N OBPUBUKEUXOR GB NBYC YY BY DCKTRULEBPSRBEOMBWMTULOMRUDFBTRHLESFR LOUTBYMKK FMKBJOUTOBWMKTRUIMWBEOMBPURKEBXDSJDBCKMBSPBPRMVCMDTHB D NHKUKB DWBTRHLE D NHKUKBEMTODUVCMKB DBUYLSRE DEBTSDERUICEUSDBSPBUIDB WN DBJ KBSDBK YLNMBKUZMBPSRBCKMBSPBPRMVCMDTHB D NHKUK', 'RJLHXTNERXWZEWZSXLESNIFWX TEKJAAS NYSVEWZSECYWKZEKJTVYAW TWVERSLSELYTTXTNETYPDSLVEDJVH AXVVELJASER VED VXK AAIEWJECJEWZSEK AKYA WXJTVEWZSEVYPVEDSLCJRVHXEV XCEVJERZSTEWZSEVWSLTEK PSEULSSEJTEPJTC IEPJLTXTNERSEK AKYA WSCEWZ WERSEVZJYACEASWEWJTTSVEJUER WSLED AA VWEXTE WEWZSELS LEJUEWZSEOSVVSAEWJEFYVZEWZSEVWSLTECJRTE TCEAXUWEWZSEDJR', 'IZWLXSZF QEFLZTQUVLSZMIHZCIVLUZEDDZIUPZXLYAHLPZCQZLICZECZMIHZC QAO CZ QMLWLXZC ICZECHZIBBLCECLZTEO CZKLZHCETADICLPZKSZIZBEULIBBDL', 'RVRRKZHKTVYPJCGVCHGVGXECUKRKZGRSKZKWGVGRSPKAGVCHGVGHZVLJCAYOGRZET KRKZGSKWGTOGSKZJGAVPZOGHVCHOGRPQUYPCLGRSKGAVCQOGJAGSPWGYVHOGAZPKCHGRSKGCOT SGPCGOKYYJMGQVCGMKGWKKGRSKGTVWRKZGWRZJUKGMSVRGVGNEVKZKGAKYYJM', 'LOJ WUZCWKCTFHHFHTWUZFHQWMZEUW EAWKCWUZCWCHV', 'EYENXRPSURPGUUIRKSUGURSHYY NXRCUUIREPRCHBIRENBRMAOKUGIRKUGURS NX NXROREHABRFEAUBONRBGUKROHPRSURBGONURENBRPORSUGRJ JURKEIRI NX NXRORPKEIRJ CGOFSRIENXRIPGEPSIJUWIRENBRGUUAIRISURB GABRPSUYREMMRMHRFAUEGAWRORKSUNRPSUGURFEYRERWUAARORMOGU XNRIVHUUAIRPSEPRBENXRSUGRPEJIEAPUUG URO', 'WDYRDYLDQCSLR KTYDPYZ LXSKTYWDYQ U KTYZOITYGIDYCDYJSILPTYLDUDKOTYCIQYKQTP QPYODYPDRZTYCDQPDQCLDYODTYJL GIDRDQPTYSLH QKGIDTYCDTYMSKTDLKDTYCSIULKLYODTYADINYZSILYXKNDLYODYB ODKCSTJSZDYCDYOSMTJILKPDYCDYHSYPDLYHLYJDYIQDYOIDILYRSRDQP QYDYCDYJSQTJKDQJDYODYTSRRDKOYSIYDP KDQPYZOSQHYTYODTYRDIMODTYO YJF RMLDYODYPSIPYCSQPYWDYQDP KTYGIIQDYZDPKPDYZ LPKDYDPY YOKQTDQTKMKOKPDYCIGIDOYWDYLDPSILQ KTYUKPDYRIQKL', 'GYYUXPUXGTBQTDFU', 'ZVVFEKTFZKKO', 'RIZOGS BXTPK YWH JQNE LUC MADFV']\n",
        "symbols = ' ABCDEFGHIJKLMNOPQRSTUVWXYZ'"
      ],
      "execution_count": null,
      "outputs": []
    },
    {
      "cell_type": "markdown",
      "metadata": {
        "id": "iWLFlTMWV8hl"
      },
      "source": [
        "A function used throughout the project to measure time it takes to perform a certain function:"
      ]
    },
    {
      "cell_type": "code",
      "metadata": {
        "id": "miqtkP6KWEcr"
      },
      "source": [
        "time_measurements = {}\n",
        "# small function to measure time of the given algorithm\n",
        "def measure_time(func):\n",
        "    def wrap(*args, **kwargs):\n",
        "        global time_measurements\n",
        "        start = time.time()\n",
        "        result = func(*args, **kwargs)\n",
        "        end = time.time()\n",
        "        time_measurements[func.__name__] = time_measurements.get(func.__name__,[]) + [end-start]  \n",
        "        return result\n",
        "    return wrap"
      ],
      "execution_count": null,
      "outputs": []
    },
    {
      "cell_type": "markdown",
      "metadata": {
        "id": "31fS0iQlCimX"
      },
      "source": [
        "The function `measure_time` allows us to store the values of how long a function takes to run, by writing @measure_time before a function. \n",
        "\n",
        "It works for by logging the time when the function starts, allows the function to run, and then logs the time when the function finishes. Then, it adds to the dictionary `time_measurements`, with the key being the name of the function, and the value being the time taken between the function starting and ending. This allows us to easily recall how long it took to run."
      ]
    },
    {
      "cell_type": "markdown",
      "metadata": {
        "id": "pTGoD_flY9OB"
      },
      "source": [
        "We need the below code to set the state for the seed generation random variable."
      ]
    },
    {
      "cell_type": "code",
      "metadata": {
        "id": "tJ7c5P-cY6Xb"
      },
      "source": [
        "state = (3, (2147483648, 3567812383, 1729019890, 1637816241, 3488138722, 1974281159, 3741403301, 4149085213, 294967390, 2361562605, 1650483437, 2452221510, 1980224725, 3260997856, 4271412942, 198555492, 343216728, 132021603, 2614205138, 3921762468, 1909443860, 4089932979, 2673236719, 1208100211, 984708807, 283495841, 610937309, 779393271, 4199214196, 3928778887, 3542724121, 4027525058, 173209204, 255647760, 418962483, 2025816433, 4089435999, 2128475727, 3902810581, 1392149412, 548729732, 3709927389, 4124478751, 1133657504, 2585279577, 1819006752, 2877910389, 2588834254, 2541894808, 2707568619, 1799273057, 2566891215, 514448765, 1031377537, 2420068780, 2007301693, 161607361, 1403360292, 3002005472, 2794177368, 3907252034, 1479588329, 239476916, 1089375882, 1432473085, 4282216039, 733084307, 3033442014, 1397194019, 1961233622, 1185090217, 2304949738, 3973733249, 3456873610, 219857351, 3584980609, 1891580365, 3716322994, 3941507295, 1411319613, 2084992224, 11512551, 2954972273, 1135907946, 4255730918, 3959690998, 306774861, 2063102980, 4097666539, 1963211288, 991896060, 280215645, 4265782956, 1041858543, 4111943829, 1452200685, 1953342318, 4202348104, 155518846, 476286099, 3941426781, 3105287091, 1035046978, 1659200225, 891304848, 1512600591, 4141118664, 3537656378, 2917852866, 4166927319, 1257924597, 3048936810, 2084832396, 2008810790, 133610127, 2483397198, 2868715245, 1764730631, 2237472982, 1255507260, 3985997735, 31261045, 1828313212, 3597603707, 103865701, 2115662327, 2086060351, 642939403, 3953760574, 3631977623, 2189882864, 2046945024, 703680121, 2527784161, 2203261581, 122785280, 356863414, 496932578, 3342892767, 1698297190, 2854402070, 2788114353, 98913659, 1461619361, 1004874058, 4118950608, 2469825370, 376216695, 1576165726, 2295973314, 2749320588, 3894706558, 31406543, 3402854158, 4289824030, 1084289086, 1478448435, 1926838017, 4000544180, 175243469, 554663630, 418620499, 597249098, 2666754270, 1868834522, 556700173, 839921833, 1989607497, 2185426898, 406774517, 4125363974, 1989995764, 296189898, 3766227941, 2364897472, 188983648, 214567342, 3964357897, 632727233, 231473673, 1990072647, 3685151343, 4065614038, 2110335025, 3564688072, 1252513615, 788760511, 2575503035, 1541549930, 777834539, 3944762241, 3301639555, 1862805153, 785565040, 1067976560, 717117723, 1062940740, 1861592534, 2918236758, 1099872244, 189397952, 1934041990, 2139753336, 1638445649, 4117950556, 965020468, 2688244340, 191495137, 1516446898, 1485477945, 3961503514, 2673868006, 2857812875, 806549110, 4090946742, 3048608143, 3876323601, 1815415320, 285478053, 3197786703, 4053543255, 773970270, 810955838, 2808684345, 937401355, 2385556947, 3181858088, 2715719509, 857310649, 3285911932, 1705924031, 2088231470, 44218786, 3582066072, 3567250908, 109396011, 2364060384, 3735139866, 3406594206, 4165184824, 162320350, 2101680729, 3139399131, 2298873529, 2754892182, 1090962771, 3570152981, 3481361820, 1827548915, 256828245, 2962125332, 3925775671, 2848750480, 2416186382, 3888043955, 2477638490, 1490560102, 2774051307, 2533968764, 2174574487, 1186836711, 2595491831, 803763674, 45554390, 3221752597, 3275618367, 2487266615, 1577687516, 3399834001, 3774442298, 1863790674, 2338243381, 4183551577, 1323469664, 510876966, 2634313465, 1437457625, 852345176, 3027055482, 364523909, 3458534286, 2416225412, 3257194138, 1681228766, 1928296747, 512053537, 2761019719, 261834040, 3030006706, 2418893514, 35228292, 3025399645, 3552022748, 2358683628, 2434978697, 3474196267, 167689724, 3574373661, 426108906, 3930194703, 785321379, 651460034, 2597328764, 2073452760, 3237274614, 474662499, 3976316992, 3083345987, 1278324188, 4174137419, 667088420, 713845537, 2562587143, 2508992169, 3585686471, 3479380341, 690673338, 3854049392, 2971601121, 2908792781, 1835160630, 2809003722, 304986136, 3419522601, 1682013924, 3504083545, 4235227625, 3815260753, 3204188472, 2931141319, 2384221935, 3963754936, 897704642, 3433705375, 403682705, 1197681713, 4123616454, 3656677523, 3131774262, 1395618509, 4259616163, 1612228983, 3740398145, 664354813, 1791627173, 311359496, 2121390136, 960757454, 3336649264, 2301243093, 965367243, 3281591503, 543008940, 4071298881, 4191008128, 2919956385, 3560168418, 856214539, 3189357697, 3350935278, 3243177328, 3142944592, 922722370, 3758307020, 1086949302, 1633997241, 2726370084, 3318509527, 1254899540, 2885990701, 3310672668, 848773370, 385875653, 3316366072, 395153956, 4072420877, 490131823, 417871793, 1129256156, 225849599, 610704852, 1741554576, 1795466126, 4204703544, 1141478999, 4016326649, 200126897, 2655909357, 3274582250, 2667679061, 266600511, 348668254, 794978763, 2441072877, 254585835, 2546339207, 4072327658, 2564393344, 4017622814, 488679756, 1949774489, 4189487932, 834927607, 3950366968, 50743936, 3506364, 612925320, 4273476516, 1678936931, 1551521211, 1803542787, 3842791313, 871940135, 2463519244, 1067961448, 1677090083, 498955154, 4115022568, 2370813268, 4065640543, 2376302534, 1048792777, 2653712691, 1495920862, 81248887, 4095444062, 1574842129, 2988858683, 616847384, 1711231814, 1676764921, 4047221985, 2680754252, 495678094, 1684785202, 3137973494, 1112300416, 1888895048, 341956671, 1804235305, 2623562475, 772703992, 3223717770, 428983504, 2876929594, 3088672715, 1221103184, 2282713663, 2374088212, 3903454229, 1437769374, 3353081750, 1703439977, 4288173944, 3107982054, 3588590004, 3285416615, 2644829701, 2633373339, 1765151958, 1256330906, 241232287, 2431808889, 2208836436, 2410647044, 2699900054, 1017882481, 1565163482, 2905420305, 2278802864, 2960391612, 3344301315, 1456111528, 401741543, 1750604840, 2857800673, 2353190198, 3503035634, 336970563, 1305855119, 3227511607, 896728131, 867873453, 804589722, 2145369535, 1385769665, 3081170153, 514580181, 3938431476, 1634735913, 2838435334, 1523072077, 2485503061, 4124747873, 1970157412, 2310340962, 2183100354, 3562568290, 1551331808, 4079435237, 878710014, 4145953499, 3061127626, 370331553, 2800185623, 885322365, 61854110, 1451478388, 3280405765, 1179422985, 770543423, 3157086442, 142968818, 3775672372, 3510936582, 1893475389, 3178938066, 2489202076, 1090943394, 767196490, 3422253452, 1069870991, 1472177994, 2501664278, 2732470693, 2038189905, 3494797325, 2291978945, 1873994106, 3727372456, 2379539054, 3575769233, 723265349, 939057566, 2601946946, 1250313943, 509384049, 3574755140, 697222460, 503009357, 2006531359, 1837621202, 165397748, 1308644162, 3729361968, 2410734256, 871651979, 1432430139, 3253253855, 2082122613, 3523879121, 3149128765, 4020929327, 3617639040, 3113433896, 1731595380, 790190168, 462835217, 683528763, 1041651631, 3537659353, 3263126830, 3569805476, 948172708, 890807990, 883046284, 749774045, 2889741850, 1097207695, 124913855, 1775972632, 82401764, 762483024, 2797958062, 3126726807, 2417961912, 1034239934, 3634220332, 2330619127, 1622790269, 347462846, 3920586038, 3920266405, 1623446865, 1544127245, 2365208631, 2109787373, 1310864359, 2030443412, 1523209165, 1844380100, 1684057112, 3161096249, 3407868508, 1067357139, 1473802285, 7724525, 2875646065, 982497105, 388524786, 2617357658, 4011690240, 2419946763, 4020683316, 2371680884, 1883894444, 3276488893, 3399369961, 1283508143, 310765650, 3980837241, 3177178598, 5903192, 5317158, 46646420, 3241651803, 2204972039, 1302417345, 2562803383, 2947702950, 8257054, 4017594818, 4145688415, 2399869033, 624), None)"
      ],
      "execution_count": null,
      "outputs": []
    },
    {
      "cell_type": "markdown",
      "metadata": {
        "id": "DlkKRKPEGyG3"
      },
      "source": [
        "#Core question 1 to 6<a id=Core></a>"
      ]
    },
    {
      "cell_type": "markdown",
      "metadata": {
        "id": "QbDYd9n721Af"
      },
      "source": [
        "##Question 1<a id=Q1></a>\n"
      ]
    },
    {
      "cell_type": "markdown",
      "metadata": {
        "id": "KLDpsx5th8Ri"
      },
      "source": [
        "For Question 1, we simply need to write some code which performs a cyclic shift of the 27 characters. We define a function `core1` below:"
      ]
    },
    {
      "cell_type": "code",
      "metadata": {
        "id": "haBeELO73P46",
        "colab": {
          "base_uri": "https://localhost:8080/"
        },
        "outputId": "46ce720d-df69-45ca-fb82-858f68c00a74"
      },
      "source": [
        "\n",
        "\n",
        "def core1(code, symbols, interactive=False):\n",
        "    # function can have interactive input or can consider all the variations\n",
        "\n",
        "    mapping = symbols\n",
        "    i = 0\n",
        "\n",
        "    if interactive:\n",
        "        print('Press enter to accept default message or enter message with only a-z and space symbols')\n",
        "        print('Press enter to terminate cipher rotation')\n",
        "        inp = input('Enter coded message: ').upper()\n",
        "        # replacing coded message with passed if input is empty\n",
        "        code = code if inp == '' else inp\n",
        "\n",
        "    while True:\n",
        "        if interactive:\n",
        "            inp = input('Enter shift: ')  # number to shift by\n",
        "            # if nothing is passed stop\n",
        "            if inp == '': break\n",
        "            # if not number repeat request\n",
        "            if int(inp) is int: continue\n",
        "            # validate i and make sure 0 <= i < 27\n",
        "            i = abs(int(inp)) % len(mapping)\n",
        "        else:\n",
        "            i += 1\n",
        "            if i > len(mapping):\n",
        "                break\n",
        "        cipher = mapping[-i:] + mapping[0:-i]  # cyclic shift\n",
        "        decoded = ''.join([mapping[cipher.index(letter)] for letter in code])\n",
        "        print(i, ':', decoded[:60])\n"
      ],
      "execution_count": null,
      "outputs": [
        {
          "output_type": "stream",
          "text": [
            "0.00018668174743652344\n"
          ],
          "name": "stdout"
        }
      ]
    },
    {
      "cell_type": "markdown",
      "metadata": {
        "id": "1evkJ25XBey6"
      },
      "source": [
        "For this function, we begin by simply calling the mapping the original symbol list, and setting a counting variable `i` equal to zero. Then, if we want the interactive version, a question is asked first if they want to input their own code. If not, we just use the code as the variable in the question.\n",
        " \n",
        "We then ask for the input of an integer to be the shift. The way we perform the cyclic shift of the cipher is by slicing the last `i` characters of the string `mapping`, adding it to a new list called `cipher`, and then adding the first characters of `mapping` that hadn't already been sliced to the list. Finally, a new string `decoded` is defined. For each letter in the code, we find the index within the cipher of each letter, then find the mapping corresponding to that index. We then join these together to become one string, `decoded`.\n",
        "\n",
        "If the interactive option hasn't been chosen, then the above is done for all i between 0 and 26, and the output for each is printed."
      ]
    },
    {
      "cell_type": "markdown",
      "metadata": {
        "id": "mWigjiyUqOuz"
      },
      "source": [
        "We print below the shifted text for message 1:"
      ]
    },
    {
      "cell_type": "code",
      "metadata": {
        "colab": {
          "base_uri": "https://localhost:8080/"
        },
        "id": "H-RHJAPz3SF1",
        "outputId": "3229b898-ffc8-4822-9171-b06a0e618590"
      },
      "source": [
        "core1(codedMsg[0], symbols)"
      ],
      "execution_count": null,
      "outputs": [
        {
          "output_type": "stream",
          "text": [
            "1 : HQL GFSAKSTFSAFLXJHJXLXWS AZ SDXNXDSTFWSZXFXJTDSHMJHGKXSHJGZ\n",
            "2 : IRMAHGTBLTUGTBGMYKIKYMYXTAB ATEYOYETUGXT YGYKUETINKIHLYTIKH \n",
            "3 : JSNBIHUCMUVHUCHNZLJLZNZYUBCABUFZPZFUVHYUAZHZLVFUJOLJIMZUJLIA\n",
            "4 : KTOCJIVDNVWIVDIO MKM O ZVCDBCVG Q GVWIZVB I MWGVKPMKJN VKMJB\n",
            "5 : LUPDKJWEOWXJWEJPANLNAPA WDECDWHARAHWXJ WCAJANXHWLQNLKOAWLNKC\n",
            "6 : MVQELKXFPXYKXFKQBOMOBQBAXEFDEXIBSBIXYKAXDBKBOYIXMROMLPBXMOLD\n",
            "7 : NWRFMLYGQYZLYGLRCPNPCRCBYFGEFYJCTCJYZLBYECLCPZJYNSPNMQCYNPME\n",
            "8 : OXSGNMZHRZ MZHMSDQOQDSDCZGHFGZKDUDKZ MCZFDMDQ KZOTQONRDZOQNF\n",
            "9 : PYTHON IS AN INTERPRETED HIGH LEVEL AND GENERAL PURPOSE PROG\n",
            "10 : QZUIPOAJTABOAJOUFSQSFUFEAIJHIAMFWFMABOEAHFOFSBMAQVSQPTFAQSPH\n",
            "11 : R VJQPBKUBCPBKPVGTRTGVGFBJKIJBNGXGNBCPFBIGPGTCNBRWTRQUGBRTQI\n",
            "12 : SAWKRQCLVCDQCLQWHUSUHWHGCKLJKCOHYHOCDQGCJHQHUDOCSXUSRVHCSURJ\n",
            "13 : TBXLSRDMWDERDMRXIVTVIXIHDLMKLDPIZIPDERHDKIRIVEPDTYVTSWIDTVSK\n",
            "14 : UCYMTSENXEFSENSYJWUWJYJIEMNLMEQJ JQEFSIELJSJWFQEUZWUTXJEUWTL\n",
            "15 : VDZNUTFOYFGTFOTZKXVXKZKJFNOMNFRKAKRFGTJFMKTKXGRFV XVUYKFVXUM\n",
            "16 : WE OVUGPZGHUGPU LYWYL LKGOPNOGSLBLSGHUKGNLULYHSGWAYWVZLGWYVN\n",
            "17 : XFAPWVHQ HIVHQVAMZXZMAMLHPQOPHTMCMTHIVLHOMVMZITHXBZXW MHXZWO\n",
            "18 : YGBQXWIRAIJWIRWBN Y NBNMIQRPQIUNDNUIJWMIPNWN JUIYC YXANIY XP\n",
            "19 : ZHCRYXJSBJKXJSXCOAZAOCONJRSQRJVOEOVJKXNJQOXOAKVJZDAZYBOJZAYQ\n",
            "20 :  IDSZYKTCKLYKTYDPB BPDPOKSTRSKWPFPWKLYOKRPYPBLWK EB ZCPK BZR\n",
            "21 : AJET ZLUDLMZLUZEQCACQEQPLTUSTLXQGQXLMZPLSQZQCMXLAFCA DQLAC S\n",
            "22 : BKFUA MVEMN MV FRDBDRFRQMUVTUMYRHRYMN QMTR RDNYMBGDBAERMBDAT\n",
            "23 : CLGVBANWFNOANWAGSECESGSRNVWUVNZSISZNOARNUSASEOZNCHECBFSNCEBU\n",
            "24 : DMHWCBOXGOPBOXBHTFDFTHTSOWXVWO TJT OPBSOVTBTFP ODIFDCGTODFCV\n",
            "25 : ENIXDCPYHPQCPYCIUGEGUIUTPXYWXPAUKUAPQCTPWUCUGQAPEJGEDHUPEGDW\n",
            "26 : FOJYEDQZIQRDQZDJVHFHVJVUQYZXYQBVLVBQRDUQXVDVHRBQFKHFEIVQFHEX\n",
            "27 : GPKZFER JRSER EKWIGIWKWVRZ YZRCWMWCRSEVRYWEWISCRGLIGFJWRGIFY\n"
          ],
          "name": "stdout"
        }
      ]
    },
    {
      "cell_type": "markdown",
      "metadata": {
        "id": "oCBr2TXakSUL"
      },
      "source": [
        "From inspection of all of the shifts above, it is clear to see that a shift of 9 results in the text being decoded as it is the only one which makes any sense. So for Code 1, the decoded text is:\n",
        "\n",
        "PYTHON IS AN INTERPRETED HIGH LEVEL AND GENERAL PURPOSE PROGRAMMING LANGUAGE PYTHONS DESIGN PHILOSOPHY EMPHASIZES CODE READABILITY WITH ITS NOTABLE USE OF SIGNIFICANT INDENTATION ITS LANGUAGE CONSTRUCTS AND OBJECT ORIENTED APPROACH AIM TO HELP PROGRAMMERS WRITE CLEAR LOGICAL CODE FOR SMALL AND LARGE SCALE PROJECTS\n",
        "\n",
        "Additionally, using this raw decoded text, we can give a best guess for a properly punctuated and cased message:\n",
        "\n",
        "\"Python is an interpreted, high level, and general purpose programming language. Python's design philosophy emphasizes code readability with its notable use of significant indentation its language constructs and object oriented approach aim to help programmers write clear, logical code for small and large scale projects.\" "
      ]
    },
    {
      "cell_type": "markdown",
      "metadata": {
        "id": "kRPv67Mn3mIh"
      },
      "source": [
        "##Question 2 <a id=Q2></a>"
      ]
    },
    {
      "cell_type": "markdown",
      "metadata": {
        "id": "CrFFnVMprNUh"
      },
      "source": [
        "For this question, we need to download a large body of English text, which can be used later for analysis regarding the frequencies of single characters, bigrams, and larger combinations of characters. In order to process the text in the way that we want to, we have written a function `processText`, which takes the url of a website with the text wanted as a parameter, manipulates the text to remove all characters in a way that makes the remaining text still make sense (despite not being gramatically correct), and then writes it to a text document so that it can be easily recalled for analysis."
      ]
    },
    {
      "cell_type": "code",
      "metadata": {
        "id": "ED6RLS55sqfr"
      },
      "source": [
        "def processText(url):\n",
        "    # getting sample text from given URL\n",
        "    text = requests.get(url).text\n",
        "    # Transforming text to uppercase\n",
        "    text = text.upper()\n",
        "    # Removing characters that are not A-Z or space\n",
        "    text = re.sub(r'[^A-Z \\-]', \"\", text)\n",
        "    # Splitting up hyphenated words\n",
        "    text = text.replace('-',' ')\n",
        "    # Remove repeating spaces\n",
        "    text = \" \".join(text.split())\n",
        "\n",
        "    with open('text.txt', 'w', errors='ignore') as file:\n",
        "      # Saving the formated text to a file\n",
        "      file.write(text)"
      ],
      "execution_count": null,
      "outputs": []
    },
    {
      "cell_type": "markdown",
      "metadata": {
        "id": "NNeF8c1YsxBl"
      },
      "source": [
        "In order for the text to still make sense, we have has to make some changes to the way by which we remove characters connecting words. Apostrophes can be removed and replaced with nothing, as it is easy to read some text with them removed. However, hyphens more commonly connect two different words which would very rarely be seen connected. So instead, we replace them with a space to put them as two different words. Initially, to achieve this, we used `re` to convert hyphens to spaces. This is inefficient and involved importing a separate module, so instead we have used `.replace()` which gave the same results."
      ]
    },
    {
      "cell_type": "markdown",
      "metadata": {
        "id": "SmZCAZScxA6b"
      },
      "source": [
        "The function `core2` below performs `processText` upon the website, and prints the first 80 characters of the text as well. \n"
      ]
    },
    {
      "cell_type": "code",
      "metadata": {
        "id": "Jnsx-8Ic3rU9"
      },
      "source": [
        "def core2(url, n):\n",
        "    processText(url)\n",
        "    # read first n characters of the formatted text\n",
        "    print(open('text.txt', 'r').read()[:n])\n"
      ],
      "execution_count": null,
      "outputs": []
    },
    {
      "cell_type": "code",
      "metadata": {
        "colab": {
          "base_uri": "https://localhost:8080/"
        },
        "id": "pcoCYGdd4FiK",
        "outputId": "be3f1cb0-54cf-4023-d4c2-d8f2d310ddd5"
      },
      "source": [
        "core2('http://www.gutenberg.org/files/2701/2701-0.txt', 80)"
      ],
      "execution_count": null,
      "outputs": [
        {
          "output_type": "stream",
          "text": [
            "THE PROJECT GUTENBERG EBOOK OF MOBY DICK OR THE WHALE BY HERMAN MELVILLETHIS EBO\n"
          ],
          "name": "stdout"
        }
      ]
    },
    {
      "cell_type": "markdown",
      "metadata": {
        "id": "Emd_kosglXZ0"
      },
      "source": [
        "For use later in the project, we define a new string `sample_text`, which contains the processed text of Moby Dick:"
      ]
    },
    {
      "cell_type": "code",
      "metadata": {
        "id": "_aqNiCoqlrRJ"
      },
      "source": [
        "sample_text = open('text.txt', 'r').read()"
      ],
      "execution_count": null,
      "outputs": []
    },
    {
      "cell_type": "markdown",
      "metadata": {
        "id": "i0F4aWJz4fzJ"
      },
      "source": [
        "##Question 3<a id=Q3></a>\n"
      ]
    },
    {
      "cell_type": "markdown",
      "metadata": {
        "id": "XxnqvbRacY8t"
      },
      "source": [
        "For this section, we want to compare the frequency of individual characters in our sample text (Moby Dick) to the frequency of the characters in the coded message. The most frequent letter in the text will be mapped to the most frequent letter in the coded message, and following on with the least common letter in the sample text being mapped the letter that appears the least in the coded text.\n",
        "\n",
        "In order to do this, we first need to define a few functions to assist us:"
      ]
    },
    {
      "cell_type": "code",
      "metadata": {
        "id": "-bXTdNS0fquG"
      },
      "source": [
        "def decode(coded, mapping):\n",
        "    # decoding the message using given cipher\n",
        "    decoded = ''\n",
        "    for l in coded:\n",
        "        # converts letter using mapping then adds it to the empty string\n",
        "        decoded += mapping[l] \n",
        "    return decoded"
      ],
      "execution_count": null,
      "outputs": []
    },
    {
      "cell_type": "markdown",
      "metadata": {
        "id": "slwpELydfrF1"
      },
      "source": [
        "`decode` takes a coded message, and decodes it given a dictionary with the mapping of the letters. Note that for the rest of the project, we will be making any swaps of letters to the cipher and then applying the cipher to the message each time, rather than making a swap of symbols within the function itself each time. This allows us to more easily keep track of the swaps in letters that we have made."
      ]
    },
    {
      "cell_type": "code",
      "metadata": {
        "id": "YUYdkwhC4JMS"
      },
      "source": [
        "@measure_time\n",
        "def freq(text):\n",
        "    # calculate frequency of letters in text\n",
        "    global symbols\n",
        "    # creating dictionary to count\n",
        "    freq_l = dict.fromkeys(symbols, 0)\n",
        "\n",
        "    for l in freq_l.keys():  # counting each letter\n",
        "        freq_l[l] = text.count(l)\n",
        "\n",
        "    return freq_l"
      ],
      "execution_count": null,
      "outputs": []
    },
    {
      "cell_type": "markdown",
      "metadata": {
        "id": "pIKki7FN4Jc-"
      },
      "source": [
        "`freq` returns a dictionary containing all of the 27 characters as keys, and for each of them the value is the number of times that character appears in the text that we want to analyse. For example, we if we run the function on the string `\"BANANAS\"` we get the following dictionary."
      ]
    },
    {
      "cell_type": "code",
      "metadata": {
        "colab": {
          "base_uri": "https://localhost:8080/"
        },
        "id": "MtVsrNNRntBC",
        "outputId": "21105708-dff4-4283-d7b8-4f54bde82f9f"
      },
      "source": [
        "freq(\"BANANAS\")"
      ],
      "execution_count": null,
      "outputs": [
        {
          "output_type": "execute_result",
          "data": {
            "text/plain": [
              "{' ': 0,\n",
              " 'A': 3,\n",
              " 'B': 1,\n",
              " 'C': 0,\n",
              " 'D': 0,\n",
              " 'E': 0,\n",
              " 'F': 0,\n",
              " 'G': 0,\n",
              " 'H': 0,\n",
              " 'I': 0,\n",
              " 'J': 0,\n",
              " 'K': 0,\n",
              " 'L': 0,\n",
              " 'M': 0,\n",
              " 'N': 2,\n",
              " 'O': 0,\n",
              " 'P': 0,\n",
              " 'Q': 0,\n",
              " 'R': 0,\n",
              " 'S': 1,\n",
              " 'T': 0,\n",
              " 'U': 0,\n",
              " 'V': 0,\n",
              " 'W': 0,\n",
              " 'X': 0,\n",
              " 'Y': 0,\n",
              " 'Z': 0}"
            ]
          },
          "metadata": {
            "tags": []
          },
          "execution_count": 24
        }
      ]
    },
    {
      "cell_type": "markdown",
      "metadata": {
        "id": "Bh8GoRVpoS2Q"
      },
      "source": [
        "Finally, we define the function `match`, which uses the `freq` function within it:"
      ]
    },
    {
      "cell_type": "code",
      "metadata": {
        "id": "t1yMZYHTL_Go"
      },
      "source": [
        "@measure_time\n",
        "def match(code):\n",
        "    # count frequencies in sample text and message\n",
        "    main_f = freq(sample_text)\n",
        "    coded_f = freq(code)\n",
        "\n",
        "    # sorting both ciphers by frequency\n",
        "    main_f = dict(sorted(main_f.items(), key=lambda item: item[1]))\n",
        "    coded_f = dict(sorted(coded_f.items(), key=lambda item: item[1]))\n",
        "\n",
        "    # mapping sorted lists to create cipher\n",
        "    mapping = {}\n",
        "    for l1, l2 in zip(coded_f, main_f):\n",
        "        mapping[l1] = l2\n",
        "\n",
        "    return mapping"
      ],
      "execution_count": null,
      "outputs": []
    },
    {
      "cell_type": "markdown",
      "metadata": {
        "id": "JD4qngNHpUPU"
      },
      "source": [
        "`match` assigns the most frequent character in the sample text that we are using to the most frequent character in the code, the second most frequent in the sample text to the second most frequent character in the code, and contiues for all 27. It starts by using `freq` to get the dictionaries of the number of times each character comes up in the sample text and the code, then sorts the dictionaries by the frequency of the characters in each of them. The way these lines of code work is:\n",
        "1. The `{key:value}` pairs within the frequency count dictionary are converted to tuples i.e. `(key, value)`. \n",
        "2. These are then sorted by the second input in the tuple (the value), in this case the frequency. \n",
        "3. Finally, we define a new dictionary, which has the keys in order of frequency characters in the code, and the values as the characters in the sample text, organised the same way. \n",
        "\n",
        "We return a mapping, which can then be used in conjunction with `decode` above to work out the message."
      ]
    },
    {
      "cell_type": "markdown",
      "metadata": {
        "id": "QV2xGeRSBZ-q"
      },
      "source": [
        "Using these 3 functions together, we define a function `core3`, which maps the $k^{th}$ most common character of the message to the $k^{th}$ most common character in English, for each $k$ between 1 and 27."
      ]
    },
    {
      "cell_type": "code",
      "metadata": {
        "id": "IKbkGuOt4gxl"
      },
      "source": [
        "def core3(code):\n",
        "    # create best match cipher\n",
        "    cipher = match(code)\n",
        "    # display message\n",
        "    print(decode(code, cipher))"
      ],
      "execution_count": null,
      "outputs": []
    },
    {
      "cell_type": "markdown",
      "metadata": {
        "id": "1wDskZloCHha"
      },
      "source": [
        "For this, we simply find the mapping of the most frequent characters using `match`, and then print the message decoded with this cipher. \n",
        "\n",
        "We apply this function to the second message, with the result below:"
      ]
    },
    {
      "cell_type": "code",
      "metadata": {
        "colab": {
          "base_uri": "https://localhost:8080/"
        },
        "id": "ubM89KmE4jaw",
        "outputId": "dc120da9-2d61-416a-f6a8-d778325dce66"
      },
      "source": [
        "core3(codedMsg[1])"
      ],
      "execution_count": null,
      "outputs": [
        {
          "output_type": "stream",
          "text": [
            "ISERLOCV SOLMEI FREIERKED SNI CALM FROWEIINOHAL MAHHER GHTNL OGR KNINTOR SAD LEWT GI ALTSOGPS NT UAI EAIY WOR ME USO VHEU SNM IO UELL TO IEE TSAT SE UAI FROWOGHDLY EQCNTED TSE MOMEHT TSAT SNLTOH CGBNTT I BROAD BACV SAD DNIAFFEARED TSROGPS TSE DOR MY COMRADE RGISED TO TSE TABLE LAND OGT ALL TSE ILNFI OW FAFER COHTANHNHP DAHCNHP MEH NH WROHT OW SNM AHD TSREU SNMIELW NHTO AH NHTRNCATE AHD ELABORATE CALCGLATNOH WOR TUO SOGRI N UATCSED SNM AI SE COKERED ISEET AWTER ISEET OW FAFER UNTS WNPGREI AHD LETTERI IO COMFLETELY ABIORBED NH SNI TAIV TSAT SE SAD EKNDEHTLY WORPOTTEH MY FREIEHCE IOMETNMEI SE UAI MAVNHP FROPREII AHD USNITLED AHD IAHP AT SNI UORV IOMETNMEI SE UAI FGJJLED AHD UOGLD INT WOR LOHP IFELLI UNTS A WGRROUED BROU AHD A KACAHT EYE WNHALLY SE IFRAHP WROM SNI CSANR UNTS A CRY OW IATNIWACTNOH AHD UALVED GF AHD DOUH TSE ROM RGBBNHP SNI SAHDI TOPETSER TSEH SE UROTE A LOHP TELEPRAM GFOH A CABLE WORM NW MY AHIUER TO TSNI NI AI N SOFE YOG UNLL SAKE A KERY FRETTY CAIE TO ADD TO YOGR COLLECTNOH UATIOH IAND SE N EQFECT TSAT UE ISALL BE ABLE TO PO DOUH TO HORWOLV TOMORROU AHD TO TAVE OGR WRNEHD IOME KERY DEWNHNTE HEUI AI TO TSE IECRET OW SNI AHHOYAHCE N COHWEII TSAT N UAI WNLLED UNTS CGRNOINTY BGT N UAI AUARE TSAT SOLMEI LNVED TO MAVE SNI DNICLOIGREI AT SNI OUH TNME AHD NH SNI OUH UAY IO N UANTED GHTNL NT ISOGLD IGNT SNM TO TAVE ME NHTO SNI COHWNDEHCE BGT TSERE UAI A DELAY NH TSAT AHIUERNHP TELEPRAM AHD TUO DAYI OW NMFATNEHCE WOLLOUED DGRNHP USNCS SOLMEI FRNCVED GF SNI EARI AT EKERY RNHP OW TSE BELL OH TSE EKEHNHP OW TSE IECOHD TSERE CAME A LETTER WROM SNLTOH CGBNTT ALL UAI XGNET UNTS SNM IAKE TSAT A LOHP NHICRNFTNOH SAD AFFEARED TSAT MORHNHP GFOH TSE FEDEITAL OW TSE IGHDNAL SE NHCLOIED A COFY OW NT USNCS NI SERE REFRODGCED ELINE FREFARE TO MEET TSY POD SOLMEI BEHT OKER TSNI PROTEIXGE WRNEJE WOR IOME MNHGTEI AHD TSEH IGDDEHLY IFRAHP TO SNI WEET UNTS AH EQCLAMATNOH OW IGRFRNIE AHD DNIMAY SNI WACE UAI SAPPARD UNTS AHQNETY\n"
          ],
          "name": "stdout"
        }
      ]
    },
    {
      "cell_type": "markdown",
      "metadata": {
        "id": "kMbvzH28ChLW"
      },
      "source": [
        "It is clear to see that this is by no means perfect, but that it does begin to form some words which are almost readable, and most definitely guessable. This approach doesn't work by itself, but it gives a good guess which can be fully decoded using human involvement."
      ]
    },
    {
      "cell_type": "markdown",
      "metadata": {
        "id": "eTq82ZHL4tpr"
      },
      "source": [
        "##Question 4<a id=Q4></a>"
      ]
    },
    {
      "cell_type": "markdown",
      "metadata": {
        "id": "8I2_283UC9GZ"
      },
      "source": [
        "Having made a guess using the letter frequencies, we want to be able to adjust the code ourselves by swapping the roles of two characters. In order to do this, we first define a function `swap`:"
      ]
    },
    {
      "cell_type": "code",
      "metadata": {
        "id": "L08VHFrDDOtA"
      },
      "source": [
        "def swap(mapping, letter):\n",
        "    # takes cipher (mapping) as dictionary and letter as list of two characters\n",
        "\n",
        "    # FIX as otherwise causes problems\n",
        "    mapping_new = mapping.copy()\n",
        "\n",
        "    # creating cipher inverse for easy retrieval of letter which maps\n",
        "    inv_map = {v: k for k, v in mapping_new.items()}\n",
        "\n",
        "    # B -> A, D -> C\n",
        "    A, C = letter\n",
        "    # finding what maps to the letters given\n",
        "    B = inv_map[A]\n",
        "    D = inv_map[C]\n",
        "    # remapping letters\n",
        "    mapping_new[D] = A\n",
        "    mapping_new[B] = C\n",
        "\n",
        "    return mapping_new"
      ],
      "execution_count": null,
      "outputs": []
    },
    {
      "cell_type": "markdown",
      "metadata": {
        "id": "1CiOflkbG-GL"
      },
      "source": [
        "We begin by making a copy of the mapping, the reason being that when running our swap function within the Metropolis algorithm, not only the intended mapping would change but also any mapping that we had previously set equal to that mapping. This meant that our Metropolis algorithm would make swaps even when the conditions determined it not to and, consequently, wouldn’t converge. We then make a dictionary called `inv_map`, which is the opposite way to the mapping dictionary returned in `match` above: it has the character mapped to as the keys, and the original characters which have been mapped as the values. This allows us to work the other way. `mapping` tells us where each character in the original code has gone to, `inv_map` tells us where each character in the cipher has come from.\n",
        "\n",
        "Following this, we simply look in our inverse mapping for what the letters we now want to swap were in the original coded message, and then swap their roles. \n",
        "\n",
        "This has then adjusted our cipher to account for our human interaction and word recognition, and so we can now combine this with the previous question to define a new function `core4`: "
      ]
    },
    {
      "cell_type": "code",
      "metadata": {
        "id": "QqKwcOCq4ujr"
      },
      "source": [
        "def core4(code):\n",
        "    # create best match cipher\n",
        "    cipher = match(code)\n",
        "    # display reasonable chunk of the message\n",
        "    print(decode(code, cipher)[:170])\n",
        "\n",
        "    # allows for using input to swap letters\n",
        "    inp = input('Enter letters to swap comma separated, or press enter to exit: ')\n",
        "    while inp != '':\n",
        "        try:\n",
        "            # swap letters to create a new cipher\n",
        "            cipher = swap(cipher, inp.upper().split(','))\n",
        "            # display reasonable chunk of the message\n",
        "            print(decode(code, cipher)[:170])\n",
        "        except:\n",
        "            print('Invalid input')\n",
        "\n",
        "        inp = input('Swap letters, or press enter to exit: ')\n",
        "\n",
        "    return decode(code,cipher)"
      ],
      "execution_count": null,
      "outputs": []
    },
    {
      "cell_type": "markdown",
      "metadata": {
        "id": "6PBwwDdvNG3R"
      },
      "source": [
        "We begin by repeating the contents of `core3`: we find a guess based on letter frequencies, and then print out the guess of the decoded message. Following this, we require a user input for the two letters that we want to swap the roles of (for example, if we wanted to swap the letters A and B, we would give A,B as our input). The function `swap` is then applied to it with these characters, and the decoded message with these roles swapped is then printed. The user can continue to make swaps to the decoded message, until they are happy with the output, at which point they simply press enter to leave the process."
      ]
    },
    {
      "cell_type": "markdown",
      "metadata": {
        "id": "Vwy7fAfPOmhZ"
      },
      "source": [
        "We apply our `core4` function to message 2, and notice that by recognising particular words (MANNER is useful at the start of this), and then continuing to recognise other words, we can end up with the decoded message.\n",
        "\n",
        "We see that by swapping (in this order): N and H, P and F, F and W, V and K, I and S, H and I, U and G, W and G, J and Z, Q and X\n",
        "(as input `n,h` , `p,f`, etc). It is important not to space out the commas, as space is a character that we can swap itself.  "
      ]
    },
    {
      "cell_type": "code",
      "metadata": {
        "colab": {
          "base_uri": "https://localhost:8080/",
          "height": 194
        },
        "id": "TgTi3fay4u22",
        "outputId": "3e1dfc71-e03e-43b5-bbfd-d1eaddea05c7"
      },
      "source": [
        "core4(codedMsg[1])"
      ],
      "execution_count": null,
      "outputs": [
        {
          "output_type": "stream",
          "text": [
            "ISERLOCV SOLMEI FREIERKED SNI CALM FROWEIINOHAL MAHHER GHTNL OGR KNINTOR SAD LEWT GI ALTSOGPS NT UAI EAIY WOR ME USO VHEU SNM IO UELL TO IEE TSAT SE UAI FROWOGHDLY EQCNTE\n",
            "Enter letters to swap comma separated, or press enter to exit: \n"
          ],
          "name": "stdout"
        },
        {
          "output_type": "execute_result",
          "data": {
            "application/vnd.google.colaboratory.intrinsic+json": {
              "type": "string"
            },
            "text/plain": [
              "'ISERLOCV SOLMEI FREIERKED SNI CALM FROWEIINOHAL MAHHER GHTNL OGR KNINTOR SAD LEWT GI ALTSOGPS NT UAI EAIY WOR ME USO VHEU SNM IO UELL TO IEE TSAT SE UAI FROWOGHDLY EQCNTED TSE MOMEHT TSAT SNLTOH CGBNTT I BROAD BACV SAD DNIAFFEARED TSROGPS TSE DOR MY COMRADE RGISED TO TSE TABLE LAND OGT ALL TSE ILNFI OW FAFER COHTANHNHP DAHCNHP MEH NH WROHT OW SNM AHD TSREU SNMIELW NHTO AH NHTRNCATE AHD ELABORATE CALCGLATNOH WOR TUO SOGRI N UATCSED SNM AI SE COKERED ISEET AWTER ISEET OW FAFER UNTS WNPGREI AHD LETTERI IO COMFLETELY ABIORBED NH SNI TAIV TSAT SE SAD EKNDEHTLY WORPOTTEH MY FREIEHCE IOMETNMEI SE UAI MAVNHP FROPREII AHD USNITLED AHD IAHP AT SNI UORV IOMETNMEI SE UAI FGJJLED AHD UOGLD INT WOR LOHP IFELLI UNTS A WGRROUED BROU AHD A KACAHT EYE WNHALLY SE IFRAHP WROM SNI CSANR UNTS A CRY OW IATNIWACTNOH AHD UALVED GF AHD DOUH TSE ROM RGBBNHP SNI SAHDI TOPETSER TSEH SE UROTE A LOHP TELEPRAM GFOH A CABLE WORM NW MY AHIUER TO TSNI NI AI N SOFE YOG UNLL SAKE A KERY FRETTY CAIE TO ADD TO YOGR COLLECTNOH UATIOH IAND SE N EQFECT TSAT UE ISALL BE ABLE TO PO DOUH TO HORWOLV TOMORROU AHD TO TAVE OGR WRNEHD IOME KERY DEWNHNTE HEUI AI TO TSE IECRET OW SNI AHHOYAHCE N COHWEII TSAT N UAI WNLLED UNTS CGRNOINTY BGT N UAI AUARE TSAT SOLMEI LNVED TO MAVE SNI DNICLOIGREI AT SNI OUH TNME AHD NH SNI OUH UAY IO N UANTED GHTNL NT ISOGLD IGNT SNM TO TAVE ME NHTO SNI COHWNDEHCE BGT TSERE UAI A DELAY NH TSAT AHIUERNHP TELEPRAM AHD TUO DAYI OW NMFATNEHCE WOLLOUED DGRNHP USNCS SOLMEI FRNCVED GF SNI EARI AT EKERY RNHP OW TSE BELL OH TSE EKEHNHP OW TSE IECOHD TSERE CAME A LETTER WROM SNLTOH CGBNTT ALL UAI XGNET UNTS SNM IAKE TSAT A LOHP NHICRNFTNOH SAD AFFEARED TSAT MORHNHP GFOH TSE FEDEITAL OW TSE IGHDNAL SE NHCLOIED A COFY OW NT USNCS NI SERE REFRODGCED ELINE FREFARE TO MEET TSY POD SOLMEI BEHT OKER TSNI PROTEIXGE WRNEJE WOR IOME MNHGTEI AHD TSEH IGDDEHLY IFRAHP TO SNI WEET UNTS AH EQCLAMATNOH OW IGRFRNIE AHD DNIMAY SNI WACE UAI SAPPARD UNTS AHQNETY'"
            ]
          },
          "metadata": {
            "tags": []
          },
          "execution_count": 30
        }
      ]
    },
    {
      "cell_type": "markdown",
      "metadata": {
        "id": "E7yXigv3c1gH"
      },
      "source": [
        "We can see that the decoded message is:\n",
        "\n",
        "SHERLOCK HOLMES PRESERVED HIS CALM PROFESSIONAL MANNER UNTIL OUR VISITOR HAD LEFT US ALTHOUGH IT WAS EASY FOR ME WHO KNEW HIM SO WELL TO SEE THAT HE WAS PROFOUNDLY EXCITED THE MOMENT THAT HILTON CUBITT S BROAD BACK HAD DISAPPEARED THROUGH THE DOR MY COMRADE RUSHED TO THE TABLE LAID OUT ALL THE SLIPS OF PAPER CONTAINING DANCING MEN IN FRONT OF HIM AND THREW HIMSELF INTO AN INTRICATE AND ELABORATE CALCULATION FOR TWO HOURS I WATCHED HIM AS HE COVERED SHEET AFTER SHEET OF PAPER WITH FIGURES AND LETTERS SO COMPLETELY ABSORBED IN HIS TASK THAT HE HAD EVIDENTLY FORGOTTEN MY PRESENCE SOMETIMES HE WAS MAKING PROGRESS AND WHISTLED AND SANG AT HIS WORK SOMETIMES HE WAS PUZZLED AND WOULD SIT FOR LONG SPELLS WITH A FURROWED BROW AND A VACANT EYE FINALLY HE SPRANG FROM HIS CHAIR WITH A CRY OF SATISFACTION AND WALKED UP AND DOWN THE ROM RUBBING HIS HANDS TOGETHER THEN HE WROTE A LONG TELEGRAM UPON A CABLE FORM IF MY ANSWER TO THIS IS AS I HOPE YOU WILL HAVE A VERY PRETTY CASE TO ADD TO YOUR COLLECTION WATSON SAID HE I EXPECT THAT WE SHALL BE ABLE TO GO DOWN TO NORFOLK TOMORROW AND TO TAKE OUR FRIEND SOME VERY DEFINITE NEWS AS TO THE SECRET OF HIS ANNOYANCE I CONFESS THAT I WAS FILLED WITH CURIOSITY BUT I WAS AWARE THAT HOLMES LIKED TO MAKE HIS DISCLOSURES AT HIS OWN TIME AND IN HIS OWN WAY SO I WAITED UNTIL IT SHOULD SUIT HIM TO TAKE ME INTO HIS CONFIDENCE BUT THERE WAS A DELAY IN THAT ANSWERING TELEGRAM AND TWO DAYS OF IMPATIENCE FOLLOWED DURING WHICH HOLMES PRICKED UP HIS EARS AT EVERY RING OF THE BELL ON THE EVENING OF THE SECOND THERE CAME A LETTER FROM HILTON CUBITT ALL WAS QUIET WITH HIM SAVE THAT A LONG INSCRIPTION HAD APPEARED THAT MORNING UPON THE PEDESTAL OF THE SUNDIAL HE INCLOSED A COPY OF IT WHICH IS HERE REPRODUCED ELSIE PREPARE TO MEET THY GOD HOLMES BENT OVER THIS GROTESQUE FRIEZE FOR SOME MINUTES AND THEN SUDDENLY SPRANG TO HIS FEET WITH AN EXCLAMATION OF SURPRISE AND DISMAY HIS FACE WAS HAGGARD WITH ANXIETY"
      ]
    },
    {
      "cell_type": "markdown",
      "metadata": {
        "id": "53IrNyT5fuSr"
      },
      "source": [
        "We also give a best guess at a fully punctuated message:\n",
        "\n",
        "\"Sherlock Holmes preserved his calm professional manner until our visitor had left us, although it was easy for me, who knew him so well, to see that he was profoundly excited. The moment that Hilton Cubitt’s broad back had disappeared through the door my comrade rushed to the table, laid out all the slips of paper containing dancing men in front of him, and threw himself into an\n",
        "intricate and elaborate calculation. For two hours I watched him as he covered sheet after sheet of paper with figures and letters, so completely absorbed in his task that he had evidently forgotten my presence. Sometimes he was making progress\n",
        "and whistled and sang at his work; sometimes he was puzzled, and would sit for long spells with a furrowed brow and a vacant eye. Finally he sprang from his chair with a cry of satisfaction, and walked up and down the room rubbing his hands together. Then he wrote a long telegram upon a cable form. “If my answer to this is as I hope, you will have a very pretty case to add to your collection, Watson,” said he. “I expect that we shall be able to\n",
        "go down to Norfolk tomorrow, and to take our friend some very definite news as to the secret of his annoyance.” I confess that I was filled with curiosity, but I was aware that Holmes liked to make his disclosures at his own time and in his own way; so I\n",
        "waited until it should suit him to take me into his confidence.\n",
        "But there was a delay in that answering telegram, and two days of impatience followed, during which Holmes pricked up his ears at every ring of the bell. On the evening of the second there\n",
        "came a letter from Hilton Cubitt. All was quiet with him, save that a long inscription had appeared that morning upon the pedestal of the sun-dial. He inclosed a copy of it, which is here reproduced: Elsie prepare to meet thy god. Holmes bent over this grotesque frieze for some minutes, and then suddenly sprang to his feet with an exclamation of surprise and dismay. His face\n",
        "was haggard with anxiety.\""
      ]
    },
    {
      "cell_type": "markdown",
      "metadata": {
        "id": "uBo_8VZDfx2k"
      },
      "source": [
        "So using the combination of most frequent letter occurences and human interaction by swapping the roles of two characters at a time, we have been able to decode the second message."
      ]
    },
    {
      "cell_type": "markdown",
      "metadata": {
        "id": "EaDEH7wE42mp"
      },
      "source": [
        "##Question 5<a id=Q5></a>\n"
      ]
    },
    {
      "cell_type": "markdown",
      "metadata": {
        "id": "46cOxlmQgbFm"
      },
      "source": [
        "We now want to use some ideas from statistical physics to make a better algorithm for decoding the messages. We want to define a score to each message, with the following formula:\n",
        "\n",
        "$$ \\begin{equation} \n",
        "S(m) = \\sum_{j=1}^{n-1} \\log\\, p(i_j,i_{j+1})\n",
        "\\tag{1} \\end{equation}$$\n",
        "\n",
        "where\n",
        "\n",
        "$$\\begin{equation}\n",
        "p(i,j) := \\frac{\\mbox{frequency}(ij)+1}{\\mbox{frequency}(i)} \n",
        "\\tag{2} \n",
        "%\\label{prob} \n",
        "\\end{equation}.$$"
      ]
    },
    {
      "cell_type": "markdown",
      "metadata": {
        "id": "z7L-nWQhjuXr"
      },
      "source": [
        "We first want to define a new function `count_freq`, which creates a dictionary counting the number of times an n-gram appears within a text, given a list of n-grams as an input. For example, if we are looking for bigrams, it will count the number of times that \"  \" (double space), \" A\", \" B\" etc come up all the way up to \"ZY\", \"ZZ\". There are $27^2$ of these total."
      ]
    },
    {
      "cell_type": "code",
      "metadata": {
        "id": "Hp5BeBmegcE0"
      },
      "source": [
        "@measure_time\n",
        "def count_freq(text, n_gram_list):\n",
        "    # n_gram_list is a list of letter combinations that must be counted in given text\n",
        "\n",
        "    # counting each n-gram apperance\n",
        "    counts = {}\n",
        "    for k in n_gram_list:\n",
        "        # recoding number of fount n-gram's apperances in the text\n",
        "        counts[k] = len(re.findall('(?='+k+')', text))\n",
        "\n",
        "    return counts"
      ],
      "execution_count": null,
      "outputs": []
    },
    {
      "cell_type": "markdown",
      "metadata": {
        "id": "CZbuZyBopsnJ"
      },
      "source": [
        "We define a new dictionary `counts`, and for each n-gram we use the `findall` function from `re` to see all occurences of that n-gram within our sample text. The specific n-gram is our key, then we find the length of the the list that `findall` outputs, and makes that the value in the dictionary for the corresponding n-gram. For uni-grams, this achieves the same as the `freq` function above, but this allows us to use a similar concept for n-grams of $n \\geq 2 $, which is what we need to compute these scores.\n",
        "\n",
        "We needed to use the `findall` function from `re` to find the number of occurences of the bigrams, because the method we used with `count` didn't consider overlapping patterns.\n",
        "\n",
        "For example, with our previous method, if there was the pattern 'AAA', `count` would only register 'AA' once, despite the fact the pattern comes up twice - once with the first two characters, and once with the last two characters. We realised that patterns like this do not ordinarily occur within English text, but there may be some times where they do occur (\"Aaah!\", for example), so we wanted to make sure that there were no issues with this. This becomes more important when looking at n-grams where $n \\geq 3$. "
      ]
    },
    {
      "cell_type": "markdown",
      "metadata": {
        "id": "dPPdXmtVr2Pi"
      },
      "source": [
        "Using this improved function, we define a new function `core5`, which for a given passage of text computes a score measuring how plausable it is as a piece of English text, according to the formulae above:"
      ]
    },
    {
      "cell_type": "code",
      "metadata": {
        "id": "uevrMr9043mu"
      },
      "source": [
        "@measure_time\n",
        "def core5(code, symbols, text):\n",
        "    # generate bigrams by creating a list of all 2 character combinations\n",
        "    bi_gram_list = []\n",
        "    for a in symbols:\n",
        "        for b in symbols:\n",
        "            bi_gram_list.append(a+b)\n",
        "\n",
        "    # count frequenct of uni/bigrams in the text\n",
        "    uni_gram_count = count_freq(text, symbols)\n",
        "    bi_gram_count = count_freq(text, bi_gram_list)\n",
        "\n",
        "    def prob(i, j):\n",
        "        # Calculating probability of letter being followed by another letter\n",
        "        return (bi_gram_count[i+j] + 1)/uni_gram_count[i]\n",
        "\n",
        "    # S(m) function as in sheet, m is the decoded message\n",
        "\n",
        "    def S_original(m):\n",
        "        # total log probability of the message\n",
        "        total = 0\n",
        "        # going through given string by 2 letter\n",
        "        for r in range(len(m)-1):\n",
        "            # calculating log probability for given 2 letters\n",
        "            total += np.log(prob(m[r], m[r+1]))\n",
        "        return total\n",
        "\n",
        "    print(f'Score of message {code[:40]}...: {S_original(code)}')\n"
      ],
      "execution_count": null,
      "outputs": []
    },
    {
      "cell_type": "markdown",
      "metadata": {
        "id": "ZLZ50gh9takt"
      },
      "source": [
        "First of all, we create a list of all of the bigrams that exist by calculating all permutations of 2 characters from 27 symbols. We then apply the `count_freq` function to the `bi_gram_list` and the `symbols` (since it is a list/string with all of the unigrams), to make a dictionary of all the times each character and bigram appear in the sample text. \n",
        "\n",
        "We then define a function `prob`, which computes $p(i,j) \\, \\eqref{prob}$ for any two characters $i$ and $j$. \n",
        "\n",
        "Finally, we define a function `S_original`, which takes a message $m = i_1 i_2 ...i_n$, and computes the score of how plausible it is as English text, by applying `prob` to $i_j$ and $i_{j+1}$ each time in turn, and summing the logarithm of each of these until we have applied this to each character in the message. We have named it `S_original` as later when writing the Metropolis algorithm we adapt this code slightly, and so this causes less confusion with redefining functions."
      ]
    },
    {
      "cell_type": "markdown",
      "metadata": {
        "id": "VviDbseG1cai"
      },
      "source": [
        "We apply this function upon message 3 to compute a score for how plausable it is (takes approximately 14 seconds):"
      ]
    },
    {
      "cell_type": "code",
      "metadata": {
        "colab": {
          "base_uri": "https://localhost:8080/"
        },
        "id": "0cja00Fc43z0",
        "outputId": "fc6f6fad-abd6-436b-ae32-6653c918390b"
      },
      "source": [
        "core5(codedMsg[2],symbols,sample_text)"
      ],
      "execution_count": null,
      "outputs": [
        {
          "output_type": "stream",
          "text": [
            "Score of message TULOMREMAEKBLRSWCTMWBIHB BTN KKUT NBTULO...: -3522.2640764392504\n"
          ],
          "name": "stdout"
        }
      ]
    },
    {
      "cell_type": "code",
      "metadata": {
        "colab": {
          "base_uri": "https://localhost:8080/"
        },
        "id": "yavoddiDo38p",
        "outputId": "24d50062-f294-416f-ac00-de0b75269d51"
      },
      "source": [
        "print(time_measurements['core5'])"
      ],
      "execution_count": null,
      "outputs": [
        {
          "output_type": "stream",
          "text": [
            "[13.177571535110474]\n"
          ],
          "name": "stdout"
        }
      ]
    },
    {
      "cell_type": "markdown",
      "metadata": {
        "id": "4I70D_Ky3j6J"
      },
      "source": [
        "Currently, this means very little to us, as we have no comparison. But we can now use these scores to compare and improve the plausability of the message as English, and so get closer to the decoded message. "
      ]
    },
    {
      "cell_type": "markdown",
      "metadata": {
        "id": "KbVFCJWV5uVN"
      },
      "source": [
        "##Question 6<a id=Q6></a>"
      ]
    },
    {
      "cell_type": "markdown",
      "metadata": {
        "id": "TUzaYCA-70Va"
      },
      "source": [
        "We now want to write a function which implements the Metropolis algorithm on a code, using score above to work out if the code is an more likely to be an English text given a random swap. Before writing this function, we want to define some new functions, and develop some of the functions we have already written to make our Metropolis algorithm work and be more efficient."
      ]
    },
    {
      "cell_type": "code",
      "metadata": {
        "id": "kYcfFPXU9IiK"
      },
      "source": [
        "def gen_combs(symbols, n=1):\n",
        "    # Generates given symbol combination of size n\n",
        "\n",
        "    # intialise list\n",
        "    combination_list = symbols\n",
        "\n",
        "    for i in range(1, n):\n",
        "        intermediate_list = []\n",
        "        # for each combination in the list of combinations\n",
        "        for combination in combination_list:\n",
        "            # add another level (i-th) of letter combinations\n",
        "            for symbol in symbols:\n",
        "                # combine combination with the letter\n",
        "                intermediate_list.append(combination + symbol)\n",
        "        # set combinations of size i\n",
        "        combination_list = intermediate_list\n",
        "\n",
        "    return combination_list"
      ],
      "execution_count": null,
      "outputs": []
    },
    {
      "cell_type": "markdown",
      "metadata": {
        "id": "TbCVg45D9I16"
      },
      "source": [
        "`gen_combs` generates all of the symbol combinations of n characters for a given n. This means we can easily make a list of all n-grams that we can use to compute the score for a passage of text. This is an improvement upon the beginning of our code in `core5` where we just compute bigrams within it, and so we can continue to use this function for larger combinations of characters later."
      ]
    },
    {
      "cell_type": "code",
      "metadata": {
        "id": "jRyZZ3fl9r6B"
      },
      "source": [
        "@measure_time\n",
        "def new_freq(text, symbols, size):\n",
        "    # create a letter combination with frequency 0\n",
        "    counts = dict.fromkeys(gen_combs(symbols, size), 0)\n",
        "    # go value by value in given text by chunck of 'size' size\n",
        "    for i in range(len(text)-size+1):\n",
        "        # increment combination of letters in text starting at i and ending at i+size by 1\n",
        "        counts[text[i:i+size]] += 1\n",
        "\n",
        "    return counts"
      ],
      "execution_count": null,
      "outputs": []
    },
    {
      "cell_type": "markdown",
      "metadata": {
        "id": "dgkpssBQ9sDw"
      },
      "source": [
        "`new_freq` computes the frequency with which n-grams appear within a text. We begin by defining a new dictionary `counts`, which has all of the n-grams (based on the `size` variable), and sets each value equal to zero. We then go through the text and find all the occurences of each n-gram, and set the frequency of each of them to the value of the corresponding combination. This is a development of the function `count_freq`, but it makes the n-gram list itself using the function `gen_combs` and variable `size`, which simplifies the number of variables we need to have predefined for the function to work.\n",
        "\n",
        "We found from Question 5, that the `findall` function is inefficient. So we traverse text letter by letter instead to improve the speed of the algorithm in counting the occurrences of patterns, while still taking into account any overlaps."
      ]
    },
    {
      "cell_type": "code",
      "metadata": {
        "id": "8iSGNu909sRK"
      },
      "source": [
        "def S(m, exp):\n",
        "    # S(m) function as in sheet, m is the decoded message\n",
        "    # exp is a list that stores the unigram frequncies and bigram frequencies.\n",
        "    total = 0\n",
        "    for r in range(len(m)-1):\n",
        "        # calculate probability\n",
        "        prob = (exp[1][m[r]+m[r+1]] + 1) / exp[0][m[r]] \n",
        "        total += np.log(prob)\n",
        "\n",
        "    return total"
      ],
      "execution_count": null,
      "outputs": []
    },
    {
      "cell_type": "markdown",
      "metadata": {
        "id": "7DoeiG-I9sbW"
      },
      "source": [
        "Here, we have defined a new function `S`, which achieves the same outcome as `S_original` above, but does so using the `new_freq` dictionaries of our sample text. This means we do not have to compute these frequencies within the function and so alongside other functions which use the same input `exp`, it saves time on computing these again."
      ]
    },
    {
      "cell_type": "code",
      "metadata": {
        "id": "Q_djJKTw5vad"
      },
      "source": [
        "def randomSwap(mapping):\n",
        "    # preforming random swap of two leters in given cipher\n",
        "\n",
        "    # create a list of available symbols\n",
        "    options = list(mapping.keys())\n",
        "\n",
        "    # choose 2 random symbols\n",
        "    A = np.random.choice(options)\n",
        "    B = np.random.choice(options)\n",
        "\n",
        "    # return changed cipher mapping\n",
        "    return swap(mapping, [A, B])"
      ],
      "execution_count": null,
      "outputs": []
    },
    {
      "cell_type": "markdown",
      "metadata": {
        "id": "tBdh9xPU96PO"
      },
      "source": [
        "`randomSwap` uses the `swap` function that we have used above, and applies it to two randomly chosen characters. It does so by making a list of all of the keys in the mapping, then randomly choosing two characters from this list to swap the roles of. It then applies the `swap` function, to give the new mapping."
      ]
    },
    {
      "cell_type": "markdown",
      "metadata": {
        "id": "axDB7LsO57Oa"
      },
      "source": [
        "Having defined these functions, we are now ready to define our Metropollis algorithm. We compute the score $S(m)$ of a message $m$ with a given cipher, and then make a random swap of two characters within the cipher to produce a new message $m'$, and compute the socre $S(m')$. We then replace the mapping $m$ with $m'$ if $S(m) \\leq S(m')$. If $S(m) \\geq S(m')$, then we replace $m$ with $m'$ with probability\n",
        "$$\\begin{equation}\n",
        " \\mbox{exp}\\frac{S(m')-S(m)}{T}, \n",
        " \\tag{3} \\end{equation}$$ \n",
        " or otherwise we just keep $m$. We repeat this for many steps, printing the current guess.   \n"
      ]
    },
    {
      "cell_type": "code",
      "metadata": {
        "id": "aoq24Si9tgSg"
      },
      "source": [
        "@measure_time\n",
        "def metropolis_original(code, text, symbols, times, T_range):\n",
        "    \n",
        "    T_max, T_min = T_range\n",
        "    \n",
        "    exp = [new_freq(text, symbols, s) for s in [1, 2]]\n",
        "\n",
        "    # creating intial mapping as mapping onto itself\n",
        "    mapping = dict(zip(symbols, symbols))\n",
        "\n",
        "\n",
        "    # intialising values for the loop, where:\n",
        "    # p_coded is the best guess at decoding so far\n",
        "    # n_mapping is the best guess at mapping so far that creates p_coded\n",
        "    # pre_S is S(m) and cur_S is S(m')\n",
        "    p_coded = code\n",
        "    n_mapping = mapping\n",
        "    pre_S = S(p_coded, exp)\n",
        "    n_coded = decode(code, mapping)\n",
        "    cur_S = S(n_coded, exp)\n",
        "\n",
        "    for i in range(times):\n",
        "        # calculating T using cooling shedules\n",
        "        T = T_max-((T_max-T_min)*i/times)\n",
        "\n",
        "        # show every 1000th state of the message decoding (first 40 symbols)\n",
        "        #if show_steps and i % 1000 == 0:\n",
        "        ## Changed this so it outputs 100 steps in total\n",
        "        if i % (times/100) == 0:\n",
        "            print(n_coded[:40], round(cur_S))\n",
        "\n",
        "        # if previous score is worse than current make changes to the cipher\n",
        "        # or if a random chance mutation should happen\n",
        "        if cur_S > pre_S or np.random.uniform(0, 1) < np.exp(((cur_S - pre_S)/T)):\n",
        "            # there is improvement\n",
        "            p_coded = n_coded\n",
        "            pre_S = cur_S\n",
        "            mapping = n_mapping\n",
        "\n",
        "        # make a next guess\n",
        "        n_mapping = randomSwap(mapping)\n",
        "        n_coded = decode(code, n_mapping)\n",
        "        cur_S = S(n_coded, exp)\n",
        "\n",
        "\n",
        "    return p_coded, pre_S, mapping"
      ],
      "execution_count": null,
      "outputs": []
    },
    {
      "cell_type": "markdown",
      "metadata": {
        "id": "F5qUH0r2zI-g"
      },
      "source": [
        "Our Metropolis algorithm works as follows: \n",
        "\n",
        "We let `T_max` and `T_min` be the starting and ending values of T, as determined by T_range. \n",
        "\n",
        "We then compute `exp`, which is a list which contains two dictionaries: the first being the frequencies of unigrams, the second being the frequencies of the bigrams. \n",
        "\n",
        "Then we create an intial mapping, which in our case is just the coded message itself (A goes to A, B to B, etc). We now initialise our loop, setting new variables as our current code and mapping, and compute the scores of the original message and our mapping of it.\n",
        "\n",
        "Finally, the algorithm goes into a for loop, repeating for each step it takes. We compute our value of T for the given step, and then work out if we want to print our guess at the decoded message (doing so 100 times total). Next, if `cur_S` is larger than `pre_S`, or with the probability stated above, the mapping is replaced. Following this, another guess is made using `randomSwap`, decoding and then finding the score of this guess.\n",
        "\n",
        "After `times` number of iterations, we return the decoded message, the score associated with the message, and the mapping which takes us from our original coded message to the decoded one."
      ]
    },
    {
      "cell_type": "markdown",
      "metadata": {
        "id": "wFhMyto8zjeT"
      },
      "source": [
        "Below, we run the algorithm on message 2 (which we solved above), with 10000 steps (about 30 seconds):"
      ]
    },
    {
      "cell_type": "code",
      "metadata": {
        "colab": {
          "base_uri": "https://localhost:8080/"
        },
        "id": "0Qo3S-nr6HDp",
        "outputId": "e3d90c05-355d-4d13-8832-e6dfddaed797"
      },
      "source": [
        "print(metropolis_original(codedMsg[1], sample_text, symbols, 10000, [10,.1])[0])"
      ],
      "execution_count": null,
      "outputs": [
        {
          "output_type": "stream",
          "text": [
            "RECFV KUWE VJCRWQFCRCFICYWEZRWKLVJWQF SC -10101\n",
            "SYEOHPUK YPHQES TOESEOMEZ YCS UAHQ TOPIE -7326\n",
            "SYELGIMB YIGOES PLESELZEN YUS MAGO PLIFE -6190\n",
            "TPELGIMB PIGOET YLETELZED PKT MAGO YLIFE -6418\n",
            "TPJRNOUM PONWJT HRJTJRVJD PIT UANW HROFJ -7355\n",
            "TPERNOUK PONFET BRETERVED PIT UANF BROWE -5478\n",
            "THERNOWK HONBET PRETERVED HIT WANB PROFE -5421\n",
            "THERNOBK HONSET CRETERVED HIT BANS CROFE -5424\n",
            "TJERNOBK JONMET CRETERVED JIT BANM CROFE -5675\n",
            "TUERLOBK UOLMET CRETERVED UIT BALM CROFE -5372\n",
            "TNERLOCK NOLMET BRETERVED NIT CALM BROFE -5795\n",
            "THERLOPK HOLMET BRETERVED HIT PALM BROFE -4935\n",
            "THFRLOCK HOLMFT BRFTFRVFD HIT CALM BROEF -5939\n",
            "SHERLOCK HOLYES BRESERVED HIS CALY BROFE -4749\n",
            "SHERLOZK HOLMES PRESERVED HIS ZALM PROFE -4804\n",
            "SHERLOCK HOLMES PRESERVED HIS CALM PROJE -4771\n",
            "SHERLOCK HOLMES PRESERVEG HIS CALM PROFE -4648\n",
            "SHERLOCK HOLMES VRESERPED HIS CALM VROFE -4728\n",
            "SHERLOCKJHOLMESJPRESERVEDJHISJCALMJPROFE -8151\n",
            "SHEJLOCK HOLMES PJESEJVED HIS CALM PJOFE -5160\n",
            "SMERLOCK MOLHES PRESERVED MIS CALH PROFE -4957\n",
            "SHERLOCK HOLMES PRESERVED HIS CALM PROWE -4645\n",
            "SHERFOCK HOFMES PRESERVED HIS CAFM PROLE -4737\n",
            "SHERLOCK HOLMES PRESERFED HIS CALM PROVE -4716\n",
            "SHERLOCK HOLMES PRESERVED HIS CTLM PROFE -5416\n",
            "SHERLOCKWHOLMESWPRESERVEDWHISWCALMWPROFE -6398\n",
            "SHERLOCK HOLMES PRESERVED HIS CALM PROFE -4533\n",
            "SHERLOQK HOLMES PRESERVED HIS QALM PROFE -4871\n",
            "SHERLOCK HOLMES PRESERVED HIS CALM PROFE -4745\n",
            "SHERLOCK HOLMES PRESERVED HIS CALM PROFE -4533\n",
            "SHERLOCK HOLMES PRESERVED HIS CALM PROFE -4618\n",
            "SHERLJCK HJLMES PRESERVED HIS CALM PRJFE -5713\n",
            "SHERLCOK HCLMES PRESERVED HIS OALM PRCFE -5378\n",
            "SHERLOCK HOLMES PRESERVED HIS CALM PROFE -5105\n",
            "SHERLOCK HOLMES PRESERVED HIS CALM PROFE -5078\n",
            "SHEROLCK HLOMES PRESERVED HIS CAOM PRLFE -5111\n",
            "SHERLOCK HOLMES PRESERVED HIS CALM PROFE -5492\n",
            "SHERLJCK HJLMES PRESERVED HIS CALM PRJFE -5715\n",
            "SJERLOCK JOLMES PRESERVED JIS CALM PROFE -5192\n",
            "SHERLOCK HOLZES PRESERVED HIS CALZ PROFE -4754\n",
            "SHERLOCK HOLMES PRESERVEQ HIS CALM PROFE -5171\n",
            "SHERLOCKYHOLMESYPRESERVEDYHISYCALMYPROFE -6402\n",
            "SHERLZCK HZLMES PRESERVED HIS CALM PRZFE -5748\n",
            "SGERLOCK GOLMES PRESERVED GIS CALM PROFE -5108\n",
            "SHERLOCK HOLMES PRESERVED HIS CALM PROFE -4738\n",
            "SHERLOCK HOLMES PRESERVED HIS CALM PROFE -4738\n",
            "SHERLOCK HOLMES PRESERVED HIS CALM PROFE -4882\n",
            "SHERLOCK HOLMES PRESERGED HIS CALM PROFE -4739\n",
            "SHERLOCK HOLMES PRESERVED HIS CALM PROFE -4628\n",
            "SHERLOCK HOLMES PRESERVED HIS CALM PROFE -5077\n",
            "YHERLOCK HOLMEY PREYERVED HIY CALM PROFE -4917\n",
            "SHERLOCK HOLMES PRESERYED HIS CALM PROFE -4742\n",
            "SHERLOCK HOLMES PRESERVED HIS CULM PROFE -4887\n",
            "SHERLOCK HOLMES PRESERVET HIS CALM PROFE -4899\n",
            "SHERLOFK HOLMES PRESERVED HIS FALM PROCE -4672\n",
            "SHERLOCK HOLMES PRESERVED HIS CALM PROFE -4533\n",
            "SHERLOCK HOLMES PRESERVED HIS CALM PRONE -4975\n",
            "SHERLBCK HBLMES PRESERVED HIS CALM PRBFE -5320\n",
            "SHEVLOCK HOLMES PVESEVRED HIS CALM PVOFE -4984\n",
            "SVERLOCK VOLMES PRESERHED VIS CALM PROFE -5077\n",
            "SHERLOCK HOLDES PRESERVEM HIS CALD PROFE -4715\n",
            "SHJRLOCK HOLMJS PRJSJRVJD HIS CALM PROFJ -6503\n",
            "SHECLORK HOLMES PCESECVED HIS RALM PCOFE -4898\n",
            "SHERLOCK HOLMES PRESERVED HIS CALM PROXE -4830\n",
            "SCERLOHK COLMES PRESERVED CIS HALM PROFE -4929\n",
            "SHLREOCK HOEMLS PRLSLRVLD HIS CAEM PROFL -5380\n",
            "SHERLOCK HOLMES PRESERVEU HIS CALM PROFE -5017\n",
            "SPERLOCK POLMES HRESERVED PIS CALM HROFE -4981\n",
            "SHERLOCK HOLMES PRESERVED HIS CALM PROFE -4904\n",
            "SHERLOCK HOLMES PRESERVEQ HIS CALM PROFE -5173\n",
            "SHERLOCK HOLMES PRESERVED HIS CALM PROFE -4679\n",
            "SHERLOCK HOLMES PRESERVED HGS CALM PROFE -5234\n",
            "SHERLOCK HOLMES PRESERVED HIS CGLM PROFE -5352\n",
            "SHERLOCK HOLMES PRESERYED HIS CALM PROFE -4742\n",
            "SHERLOCKTHOLMESTPRESERVEDTHISTCALMTPROFE -5690\n",
            "SHERLZCK HZLMES PRESERVED HIS CALM PRZFE -5743\n",
            "SHELROCK HORMES PLESELVED HIS CARM PLOFE -4604\n",
            "SHERLOCK HOLMES PRESERVEY HIS CALM PROFE -4708\n",
            "SNERLOCK NOLMES PRESERVED NIS CALM PROFE -5600\n",
            "SHERLOPK HOLMES CRESERVED HIS PALM CROFE -4606\n",
            "SHERLOCW HOLMES PRESERVED HIS CALM PROFE -4740\n",
            "SHERLONK HOLMES PRESERVED HIS NALM PROFE -5125\n",
            "SHERLOCQ HOLMES PRESERVED HIS CALM PROFE -4668\n",
            "SHERLOCK HOLMES FRESERVED HIS CALM FROPE -4616\n",
            "SHERLOCT HOLMES PRESERVED HIS CALM PROFE -5150\n",
            "SHERLOCKJHOLMESJPRESERVEDJHISJCALMJPROFE -8122\n",
            "SHCRLOEK HOLMCS PRCSCRVCD HIS EALM PROFC -5874\n",
            "PHERLOCK HOLMEP SREPERVED HIP CALM SROFE -4814\n",
            "SHEGLOCK HOLMES PGESEGVED HIS CALM PGOFE -4907\n",
            "SHERFOCK HOFMES PRESERVED HIS CAFM PROLE -4737\n",
            "SHERLOCD HOLMES PRESERVEK HIS CALM PROFE -4766\n",
            "SHERLOCX HOLMES PRESERVED HIS CALM PROFE -4631\n",
            "JHERLOCK HOLMEJ PREJERVED HIJ CALM PROFE -5308\n",
            "SHERLOCK HOLMES PRESERVED HAS CILM PROFE -4686\n",
            "SWERLOCK WOLMES PRESERVED WIS CALM PROFE -4804\n",
            "SHPRLOCK HOLMPS ERPSPRVPD HIS CALM EROFP -5583\n",
            "SHERZOCK HOZMES PRESERVED HIS CAZM PROFE -4845\n",
            "SHERLOCK HOLMES PRESERVED HIS CALM PROFE -4533\n",
            "SHERLOCK HOLMES FRESERVED HIS CALM FROPE -4616\n",
            "SHERLOCK HOLMES PRESERVEZ HIS CALM PROFE -5023\n",
            "SHERLOCK HOLMES PRESERVED HIS CALM PROFESSIONAL MANNER UNTIL OUR VISITOR HAD LEFT US ALTHOUGH IT WAS EASY FOR ME WHO KNEW HIM SO WELL TO SEE THAT HE WAS PROFOUNDLY EXCITED THE MOMENT THAT HILTON CUBITT S BROAD BACK HAD DISAPPEARED THROUGH THE DOR MY COMRADE RUSHED TO THE TABLE LAID OUT ALL THE SLIPS OF PAPER CONTAINING DANCING MEN IN FRONT OF HIM AND THREW HIMSELF INTO AN INTRICATE AND ELABORATE CALCULATION FOR TWO HOURS I WATCHED HIM AS HE COVERED SHEET AFTER SHEET OF PAPER WITH FIGURES AND LETTERS SO COMPLETELY ABSORBED IN HIS TASK THAT HE HAD EVIDENTLY FORGOTTEN MY PRESENCE SOMETIMES HE WAS MAKING PROGRESS AND WHISTLED AND SANG AT HIS WORK SOMETIMES HE WAS PUZZLED AND WOULD SIT FOR LONG SPELLS WITH A FURROWED BROW AND A VACANT EYE FINALLY HE SPRANG FROM HIS CHAIR WITH A CRY OF SATISFACTION AND WALKED UP AND DOWN THE ROM RUBBING HIS HANDS TOGETHER THEN HE WROTE A LONG TELEGRAM UPON A CABLE FORM IF MY ANSWER TO THIS IS AS I HOPE YOU WILL HAVE A VERY PRETTY CASE TO ADD TO YOUR COLLECTION WATSON SAID HE I EXPECT THAT WE SHALL BE ABLE TO GO DOWN TO NORFOLK TOMORROW AND TO TAKE OUR FRIEND SOME VERY DEFINITE NEWS AS TO THE SECRET OF HIS ANNOYANCE I CONFESS THAT I WAS FILLED WITH CURIOSITY BUT I WAS AWARE THAT HOLMES LIKED TO MAKE HIS DISCLOSURES AT HIS OWN TIME AND IN HIS OWN WAY SO I WAITED UNTIL IT SHOULD SUIT HIM TO TAKE ME INTO HIS CONFIDENCE BUT THERE WAS A DELAY IN THAT ANSWERING TELEGRAM AND TWO DAYS OF IMPATIENCE FOLLOWED DURING WHICH HOLMES PRICKED UP HIS EARS AT EVERY RING OF THE BELL ON THE EVENING OF THE SECOND THERE CAME A LETTER FROM HILTON CUBITT ALL WAS QUIET WITH HIM SAVE THAT A LONG INSCRIPTION HAD APPEARED THAT MORNING UPON THE PEDESTAL OF THE SUNDIAL HE INCLOSED A COPY OF IT WHICH IS HERE REPRODUCED ELSIE PREPARE TO MEET THY GOD HOLMES BENT OVER THIS GROTESQUE FRIEZE FOR SOME MINUTES AND THEN SUDDENLY SPRANG TO HIS FEET WITH AN EXCLAMATION OF SURPRISE AND DISMAY HIS FACE WAS HAGGARD WITH ANXIETY\n"
          ],
          "name": "stdout"
        }
      ]
    },
    {
      "cell_type": "markdown",
      "metadata": {
        "id": "-4MV84r8suMM"
      },
      "source": [
        "The cell below shows the amount of time it takes for this algorithm to run."
      ]
    },
    {
      "cell_type": "code",
      "metadata": {
        "id": "a4ad2HyUqiDW"
      },
      "source": [
        "print(time_measurements['metropolis_original'])"
      ],
      "execution_count": null,
      "outputs": []
    },
    {
      "cell_type": "markdown",
      "metadata": {
        "id": "z94qONUxzrt_"
      },
      "source": [
        "We can clearly see that this algorithm works for this code, as it produces the same English text as we had last time."
      ]
    },
    {
      "cell_type": "markdown",
      "metadata": {
        "id": "wXCmGs5_uPeW"
      },
      "source": [
        "# Improvements<a id='Improvements'></a>"
      ]
    },
    {
      "cell_type": "markdown",
      "metadata": {
        "id": "mtcCql6G1gXX"
      },
      "source": [
        "While in questions 1-6 we built an understanding of Markov chain Monte Carlo methods and how we use it in cryptology with substitution cypher decoding, now we look at making algorithms more flexible and optimal."
      ]
    },
    {
      "cell_type": "markdown",
      "metadata": {
        "id": "Ryb98M7DtTbz"
      },
      "source": [
        "## Small improvements"
      ]
    },
    {
      "cell_type": "markdown",
      "metadata": {
        "id": "VfX5pSBKt0OV"
      },
      "source": [
        "For use in our newly improved Metropolis algorithm we have added the option to run the function with various T values (cooling schedules). The cooling schedules we will consider are written as follows:\n",
        "\n",
        "\n",
        "\n",
        "*   **Geometric reciprocal**: This is `T1` in the following cell and it depends on the maximum and minumum T value that we input.\n",
        "*   **Logarithmic**: This is `T2` in the following cell and it depends only on the maximum T input.\n",
        "*   **Linear**: This is `T3` in the following cell and it also depends, as we have already seen, on the maximum and minimum T value.\n",
        "*   **Geometric**: This is `T4` in the following cell and it, like the logarithmic, only depends on the maximum T value.\n",
        "\n",
        "All of the T functions depend on parameters that are fixed and parameters that must be updated within the runtime, where `params` is a list of parameters that this function depends on. For instance, `T1` depends on maximum value and minimum value so `[10,0.1]` must be passed.\n",
        "So the T function returns a function that sets the parameter values and takes `i` and `total` to change the value in accordance with the Metropolis algorithm.\n",
        "\n",
        "We have discussed this further in <a href=T-optimisation> Optimising T </a>."
      ]
    },
    {
      "cell_type": "code",
      "metadata": {
        "id": "1sQUVYlmkeoA"
      },
      "source": [
        "def T1(params): # geometric reciprocal\n",
        "    T_max, T_min = params\n",
        "    # returns a function with variables i and total\n",
        "    return lambda i, total: T_max*(T_min/T_max)**(i/total)\n",
        "\n",
        "def T2(params): # logarithmic\n",
        "    T_max = params[0]\n",
        "    return lambda i, total: T_max/(1 + np.log(1+i))\n",
        "\n",
        "def T3(params): # linear\n",
        "    T_max, T_min = params\n",
        "    return lambda i, total: T_max - i*(T_max-T_min)/total\n",
        "\n",
        "def T4(params): # My geometric\n",
        "    T_max = params[0]\n",
        "    return lambda i, total: T_max*0.9**i"
      ],
      "execution_count": null,
      "outputs": []
    },
    {
      "cell_type": "markdown",
      "metadata": {
        "id": "3G51ynMYysD-"
      },
      "source": [
        "Additionally, `processText` has been updated to account for other languages. Our original function only had the 26 letters and a space, whereas other languages have letters which are similar to English, but with accents or other difference. We replace these similar characters with the closest English equivalent. This comes in particularly useful for coded message 9 where we work out that the code is in another language."
      ]
    },
    {
      "cell_type": "code",
      "metadata": {
        "id": "ire2nkfTvBOW"
      },
      "source": [
        "def processAnyText(url, name=False, n=0, allowed='A-Z '):\n",
        "    # getting text and trim off text\n",
        "    raw_text = requests.get(url).text[n:]\n",
        "    # create a mapping of english looking letters into english letters\n",
        "    translation = str.maketrans(\"àáâãāæäåèéēėęêëìíîīįìïòóōøœôõöçćčñńùúūûüýÿßśšłžźż-\",\n",
        "                                \"aaaaaaaaeeeeeeeiiiiiiioooooooocccnnuuuuuyyssslzzz \")\n",
        "    # apply mapping of english resembling letters conversion\n",
        "    text = raw_text.translate(translation)\n",
        "    # hyphned words should be 2 separete words\n",
        "    text = text.replace('\\n', \" \")\n",
        "    # remove everything but accepted letters\n",
        "    text = re.sub(r'[^'+allowed+']', \"\", text.upper())\n",
        "    # remove repreating spaces\n",
        "    text = \" \".join(text.split())\n",
        "\n",
        "    # save file into a file if name is given\n",
        "    if name != False:\n",
        "        with open(name, 'w', errors='ignore') as f:\n",
        "            f.write(text)\n",
        "\n",
        "    return text"
      ],
      "execution_count": null,
      "outputs": []
    },
    {
      "cell_type": "markdown",
      "metadata": {
        "id": "xHfmRUbXz1q7"
      },
      "source": [
        "In addition to this, we have some extra parameters for the function. \n",
        "\n",
        "Where there may be multiple files with different languages being used, we allow for a name to be defined of the `.txt` document so that we can easily differentiate them. \n",
        "\n",
        "Also, some of the text documents may have other languages at the start (we came into this issue when downloading a French text, lots of the preamble was in English). So the parameter `n` allows us to remove the first n characters of the document to account for this."
      ]
    },
    {
      "cell_type": "code",
      "metadata": {
        "id": "ZQOu5VA8vPYZ"
      },
      "source": [
        "english_sample_text = processAnyText('http://www.gutenberg.org/files/2701/2701-0.txt')"
      ],
      "execution_count": null,
      "outputs": []
    },
    {
      "cell_type": "markdown",
      "metadata": {
        "id": "XFJcbMiZHSHS"
      },
      "source": [
        "Above we have imported the same text as before, but with the name `english_sample_text` to avoid confusion later. Since we are using Jupyter Notebook, the variables are saved within the environment so we do not need to save the file in general."
      ]
    },
    {
      "cell_type": "markdown",
      "metadata": {
        "id": "W6gEoVQuLVVs"
      },
      "source": [
        "## Improvements and optimisation for Metropolis algorithm"
      ]
    },
    {
      "cell_type": "markdown",
      "metadata": {
        "id": "mozTvIkirahm"
      },
      "source": [
        "The first and major change aimed at optimisation was precalculation of `p(i,j)` values rather than regenerating them each time so that we could pass a letter combination and return the probability right away.\n",
        "\n",
        "Additionally, since we are using the Jupyter Notebook environment, it is unnecessary to calculate all the probabilities separately within the Metropolis function. Instead, we precalculate all the probabilities and then pass the variable to the Metropolis algorithm as the variable would be held in memory of the Jupyter Notebook.\n",
        "\n",
        "Up to this point, we kept our probabilities as a one-dimensional dictionary which had all the probabilities stored in it as values. In practice, this structure is good enough if working with bigrams as if we have less than 100 symbols there won’t be more than 10000 entries in this dictionary. However, for generalisation purposes (i.e. introducing bigrams or developing specific methods) we found this system difficult to work with. Hence we’ve separated probability counting and letter combination function in its separate data structure called `Probs`.\n",
        "\n",
        "`Probs` take 3 arguments on initialisation which are:\n",
        "*   `size` - indicated up to which size to generate k-grams e.g. if n-gram must be calculated then n must be passed for the function. This must be an integer.\n",
        "*   `symbols` - this indicates which symbols we are considering in the text. This must be an alphanumeric string or list.\n",
        "*   `text` - sample text to parse to generate probability from. This must be an alphanumeric string."
      ]
    },
    {
      "cell_type": "markdown",
      "metadata": {
        "id": "JwMWToVdsv6O"
      },
      "source": [
        "This is what happens on instantiation of class `Probs`:\n",
        "\n",
        "1.   When the data structure `Probs` is instantiated the arguments size and symbols are assigned as class variables for further retrieval.\n",
        "\n",
        "2.   Further in the constructor a private method `generate` is called which creates four important variables. All but `combs` have a structure of a list with dictionaries inside the list. Each dictionary has all the combinations of given k-gram with a respective value stored in it:\n",
        " *  `freqs` - respective size of k-gram with its frequencies appearances in the given text,\n",
        " *   `probs`, - stores relative probabilities that is k-1 letter combinations being followed by a letter e.g. $P(ABC|AB)$.\n",
        " *   `absolute_probs` - stores absolute probabilities that is probability of first single letter being followed by a combination e.g. $P(ABC|A)$,\n",
        " *   `combs` - a list of lists where each list in the first level is the size of a pangram and the second level list contains all the permutations of the letter of given size.\n",
        "3.   `Probs` constructor calls on `gen_combs` to create all the permutations of letters of $n, n-1,..., 1$ by taking the argument `size` as the size of n-grams to which create permutations and `symbols`. Using for loops algorithm combines previous permutations with symbols available to create the next level of n-grams. This creates a variable `combs`.\n",
        "4.   Further algorithms calculate frequency of each letter permutation of each permutation size. This creates the variable `freqs`.\n",
        "5.   Now the algorithm considers non-trivial k-grams (k>1) to calculate $\\frac{p(i,x)}{p(i)}$ where $x = i+1, i+2, …, i+k$ letters and stores them in `absolute_probs`."
      ]
    },
    {
      "cell_type": "markdown",
      "metadata": {
        "id": "7vi2nJbHtbN2"
      },
      "source": [
        "All of the main variables that are accessed are sorted by value so that larger frequencies or greater probabilities are at the beginning of each dictionary.\n",
        "Also, the data structure has methods to simplify access to probabilities or frequencies by just passing the string of letters which are as follows:\n",
        "\n",
        "\n",
        "\n",
        "*   `get_freq` - which would take letter combination and return it's frequency in given text;\n",
        "*   `get_probs` - would return relative probability of given letter combination. That is for given k-gram, the probability of k-1 letters being followed by kth letter;\n",
        "*   `get_abs_p` - also just retieves `absolute_probs` from given combination;\n",
        "*   `format_input` - is used if string of letter combination is not within expected parameters i.e. is called outside of the Metropolis algorithm.\n",
        "\n"
      ]
    },
    {
      "cell_type": "code",
      "metadata": {
        "id": "9eVmz2PruC3b"
      },
      "source": [
        "class Probs:\n",
        "    def __init__(self, size, symbols, text):\n",
        "        \n",
        "        def gen_combs(symbols, n=1):\n",
        "            # Generates given symbol combination of size n\n",
        "            \n",
        "            # k-gram of length\n",
        "            if n < 2: return symbols\n",
        "\n",
        "            # collectiong all the combinations\n",
        "            all_combination_list = [symbols]\n",
        "\n",
        "            # intialise list\n",
        "            combination_list = symbols\n",
        "\n",
        "            for i in range(1, n):\n",
        "                intermidiate_list = []\n",
        "                # for each combination in the list of combinations\n",
        "                for coombination in combination_list:\n",
        "                    # add another level (i-th) of letter combinations\n",
        "                    for symbol in symbols:\n",
        "                        # combine coombination with the letter\n",
        "                        intermidiate_list.append(coombination + symbol)\n",
        "                # set combinations of size i\n",
        "                combination_list = intermidiate_list\n",
        "                all_combination_list.append(combination_list)\n",
        "\n",
        "            return all_combination_list\n",
        "        \n",
        "        def freq(text, combs, size):\n",
        "            # getting dictionary with letter combinations as keys and values as frequencies\n",
        "            counts = dict.fromkeys(combs, 1) # note start with 1 to make S(m)=p(AB)/p(A)\n",
        "            # iterating through text by chuncks of given size\n",
        "            for i in range(len(text)-size+1):\n",
        "                counts[text[i:i+size]] += 1\n",
        "            # sort frequencies by value\n",
        "            counts = dict(sorted(counts.items(), key=lambda item: item[1], reverse=True))\n",
        "            return counts\n",
        "\n",
        "        def generate(symbols, size, text):\n",
        "            # intialise probabilities\n",
        "            probs = [dict.fromkeys(symbols, 1.0)]\n",
        "            # if size == 1 then we cannot have absolute probabilities\n",
        "            absolute_probs = probs[:]\n",
        "            # count frequencies for all k-grams 1 <= k <= size\n",
        "            combs = gen_combs(symbols, size)\n",
        "            # counting frequencies for each k-gram\n",
        "            freqs = [freq(text, combs[k], k+1) for k in range(size)]\n",
        "\n",
        "            if size > 1:\n",
        "                n = len(symbols)\n",
        "                # calculating (p(AB)+1)/p(A) where A may be bigger than 1 letter i.e. A = KFC and thus AB = KFCB\n",
        "                for i in range(size-1):\n",
        "                    probs.append({})\n",
        "                    absolute_probs.append({})\n",
        "                    A, AB = combs[i:i+2]\n",
        "                    A_p, AB_p = freqs[i], freqs[i+1]\n",
        "                    # beaking AB list into chuncks which start with A\n",
        "                    AB = [AB[j:j+n] for j in range(0, len(AB), n)]\n",
        "                    # for each ABC: 100 + 1 normalise with AB: 20 + 1 => ABC / AB = 101/21\n",
        "                    for a,ab in zip(A, AB):\n",
        "                        # calculate for each AB* i.e. ABC/AB, ABD/AB, ...\n",
        "                        for ab_i in ab:\n",
        "                            probs[i+1][ab_i] = freqs[i+1][ab_i] / A_p[a]\n",
        "                            absolute_probs[i+1][ab_i] = freqs[i+1][ab_i] / freqs[0][ab_i[0]]\n",
        "                    # sort probabilities\n",
        "                    probs[i+1] = dict(sorted(probs[i+1].items(), key=lambda item: item[1], reverse=True))\n",
        "                    absolute_probs[i+1] = dict(sorted(absolute_probs[i+1].items(), key=lambda item: item[1], reverse=True))\n",
        "                                        \n",
        "            self.combs = combs\n",
        "            self.freqs = freqs\n",
        "            self.probs = probs\n",
        "            self.absolute_probs = absolute_probs\n",
        "\n",
        "        # validate size\n",
        "        if abs(int(size)) != size and size != 0: \n",
        "            print('Size of k-gram must be a positive non-zero integer')\n",
        "            return False\n",
        "        # validate symbols\n",
        "        if len(symbols) < 1:\n",
        "            print('There should at least one symbol')\n",
        "            return False\n",
        "\n",
        "        self.size = size\n",
        "        # accept only unique symbols\n",
        "        self.symbols = set(symbols)\n",
        "        generate(set(symbols), size, text)\n",
        "\n",
        "    def __str__(self):\n",
        "        # replace space with another symbol for easy reading\n",
        "        display = [x if x != ' ' else '·' for x in self.symbols]\n",
        "        return f'Use {self.size}-gram with symbols: {\",\".join(display)}'\n",
        "    \n",
        "    def format_input(self, inp):\n",
        "        inp = str(inp)\n",
        "        if len(inp) < 1 or len(inp) > self.size:\n",
        "            print('Invalid length')\n",
        "            return False\n",
        "        if not set(inp).issubset(set(self.symbols)):\n",
        "            print('Invalid symbols')\n",
        "            return False\n",
        "        return inp\n",
        "    \n",
        "    def get_freq(self, comb):\n",
        "        #comb = self.format_input(comb)\n",
        "        if comb == False: return False\n",
        "        return self.freqs[len(comb) - 1][comb]\n",
        "    \n",
        "    def get_prob(self, comb):\n",
        "        #comb = self.format_input(comb)\n",
        "        if comb == False: return False\n",
        "        return self.probs[len(comb) - 1][comb]\n",
        "    \n",
        "    def get_abs_p(self, comb):\n",
        "        #comb = self.format_input(comb)\n",
        "        if comb == False: return False\n",
        "        return self.absolute_probs[len(comb) - 1][comb]"
      ],
      "execution_count": null,
      "outputs": []
    },
    {
      "cell_type": "markdown",
      "metadata": {
        "id": "cJdYmBheGcBf"
      },
      "source": [
        "Thus, before the Metropolis algorithm is ran, probabilities must be calculated and passed as an argument to the Metropolis.\n",
        "\n",
        "This allows for more flexibility as calculated probabilities may be saved to separate file to be retreaved later on for quicker preformance of the algorithm as whole.\n",
        "\n",
        "Additionally, if the Metropolis is called multiple times to attack cyphered message with both trigrams and bigrams, the Metropolis algorithm won't need to calculate probabilities anew assuming intial proabilities were calculated to required n-gram size."
      ]
    },
    {
      "cell_type": "code",
      "metadata": {
        "id": "E1oZEKKScfcv"
      },
      "source": [
        "probsEnglish = Probs(4, symbols, english_sample_text)"
      ],
      "execution_count": null,
      "outputs": []
    },
    {
      "cell_type": "markdown",
      "metadata": {
        "id": "Q14CpmadHash"
      },
      "source": [
        "The above code instantiates English probabilities that rely on the Moby Dick text."
      ]
    },
    {
      "cell_type": "markdown",
      "metadata": {
        "id": "fcaY3kSlHmCm"
      },
      "source": [
        "The current way `Probs` is generated is inefficient as any `size` > 4 would take more than a minute as the algorithm scales as $O(a^{n})$ where $a$ is number of symbols used and in this project is 27.\n",
        "Additionally, current structure is redundant in information stored as `probs` are not used and both `absolute_probs` and `probs` are identical for first two entries in the list:"
      ]
    },
    {
      "cell_type": "code",
      "metadata": {
        "id": "ISPoB-SAmzZ3"
      },
      "source": [
        "probsEnglish.absolute_probs[:2] == probsEnglish.probs[:2]"
      ],
      "execution_count": null,
      "outputs": []
    },
    {
      "cell_type": "markdown",
      "metadata": {
        "id": "hToLglUPJpy-"
      },
      "source": [
        "Thus, a new revision of the algorithm is designed that only counts the appearances of letter combinations and records them in a tree data format as could be seen below."
      ]
    },
    {
      "cell_type": "code",
      "metadata": {
        "id": "gyb4UXR-KAAv"
      },
      "source": [
        "class Probs2:\n",
        "    @measure_time\n",
        "    def __init__(self, size, text):\n",
        "        def generate(size, text):\n",
        "            ## generates the tree of given sample text\n",
        "            # size - number up to which to count combination of letters (int)\n",
        "            # text - sample text in which to count combinations (formated string)\n",
        "            \n",
        "            # intialise root\n",
        "            freqs = {'freq':0}\n",
        "            # go through each letter in text by chuncks of 'size'\n",
        "            # last 'size - 1' are not considered and are negligible\n",
        "            for i in range(len(text)-size+1):\n",
        "                # initialise first branch\n",
        "                branch = freqs\n",
        "                # for each letter in string...\n",
        "                for l in text[i:i+size-1]:\n",
        "                    # create next level\n",
        "                    branch = branch.setdefault(l, {'freq':0,'prob':0})\n",
        "                # initialise meta variables if not present\n",
        "                branch[text[i+size-1]] = branch.get(text[i+size-1], {'prob':0})\n",
        "                # update the count of variables\n",
        "                branch[text[i+size-1]]['freq'] = 1 + branch[text[i+size-1]].get('freq', 0)\n",
        "\n",
        "            # finishing elements are incremented\n",
        "            # reset the branch\n",
        "            branch = freqs\n",
        "            # go through each letter\n",
        "            for l in text[len(text)-size+1:]:\n",
        "                # set or create a branch\n",
        "                branch = branch.setdefault(l, {'freq':0,'prob':0})\n",
        "                # increment said branch\n",
        "                branch['freq'] = 1 + branch.get('freq', 0)\n",
        "\n",
        "            return freqs\n",
        "        \n",
        "        def set_number(dic):\n",
        "            ## calculates sub-sizes of letter combinations\n",
        "            # dic - all combinations of letters that is dictionary\n",
        "            \n",
        "            value = 0\n",
        "            # for each letter in branch\n",
        "            for (k,v) in dic.items():\n",
        "                # check if reached the end or skip meta data\n",
        "                if isinstance(v, int) and not k in ['prob']:\n",
        "                    # incremenet by the number of letter instences\n",
        "                    value += v\n",
        "                # check if another branch\n",
        "                if isinstance(v, dict):\n",
        "                    # go to the next level of a branch\n",
        "                    dic[k] = set_number(dic[k].copy())\n",
        "                    # since branch has been calculated update value\n",
        "                    value += dic[k]['freq']\n",
        "            # set the value of the branch\n",
        "            dic['freq'] = value\n",
        "            return dic\n",
        "        \n",
        "        # depends on prob_count\n",
        "        def go_deeper(branch, a):\n",
        "            ## used in prob_count to travers nested dictionaries\n",
        "            # branch - sub-combination of letters that is dictionary\n",
        "            # a - frequency of root letter that is an integer\n",
        "            \n",
        "            # calculate probability of the branch\n",
        "            branch['prob'] = branch['freq'] / a\n",
        "            # check if there are more levels\n",
        "            for (k,v) in branch.items():\n",
        "                # if level exsists\n",
        "                if isinstance(v, dict):\n",
        "                    # call this function to count probabilities of that level\n",
        "                    go_deeper(branch[k], a)\n",
        "            # return the branch to update\n",
        "            return branch\n",
        "\n",
        "        def prob_count(dic):\n",
        "            ## calculates probabilities of each combination of letters\n",
        "            # dic - all combinations of letters that is dictionary\n",
        "            \n",
        "            # consider the first level (single letters)\n",
        "            for (k,v) in dic.items():\n",
        "                # go to sub-level\n",
        "                if isinstance(v, dict):\n",
        "                    # consider values of sub-level\n",
        "                    for (k2,v2) in v.items():\n",
        "                        # if there's another level\n",
        "                        if isinstance(v2, dict):\n",
        "                            # call go_deeper to calculate probabilities\n",
        "                            dic[k][k2] = go_deeper(v2, v['freq'])\n",
        "                # done with one root branch\n",
        "            return dic\n",
        "        \n",
        "        self.size = size\n",
        "        self.symbols = set(text)\n",
        "        self.data = prob_count(set_number(generate(size, text)))\n",
        "    \n",
        "    def get(self, comb, what='prob', zero=4.9406564584124654e-324):\n",
        "        ## method to get values\n",
        "        # comb - letter (from self.symbols) string\n",
        "        # what - string of either 'prob' or 'freq'\n",
        "        # zero - default minimum for less likely values\n",
        "\n",
        "        # define a zero value for probability\n",
        "        zero = zero if what == 'prob' else 0\n",
        "        # stop if an empty string is passed\n",
        "        if len(comb) == 0: return zero\n",
        "        \n",
        "        # rewritten retrieval\n",
        "        # set root\n",
        "        res = self.data\n",
        "        # for each letter in comb\n",
        "        for i in comb:\n",
        "            # descend down the branch\n",
        "            res = res.setdefault(i, {})\n",
        "            # terminate algorithm before it reached the end if there's nothing\n",
        "            if res == {}: return res.get(what, zero)\n",
        "        # return the value\n",
        "        return res.get(what, zero)"
      ],
      "execution_count": null,
      "outputs": []
    },
    {
      "cell_type": "markdown",
      "metadata": {
        "id": "Y2X6C-tTKKAK"
      },
      "source": [
        "The algorithm works by going through text letter by letter and considering chunks of size `size`.\n",
        "\n",
        "Each chunk is recorded in tree format as follows for example message `ALLLA` using bigrams:\n",
        "\n",
        "```\n",
        "{\n",
        "  A: { L },\n",
        "  L: { L, A }\n",
        "}\n",
        "```\n",
        "which would tell us that `L` is followed by either `L` or `A`.\n",
        "\n",
        "To indicate that `L` is followed by `L` twice, we've added metadata variable `freq` and later on `prob` to store probabilities.\n",
        "\n",
        "Thus, the structure looks as follows for the same conditions:\n",
        "\n",
        "\n",
        "```\n",
        "{\n",
        "  A: { L: {freq: 1} },\n",
        "  L: { L: {freq: 2}, A: {freq: 1} }\n",
        "}\n",
        "```\n",
        "This is what the `generate` function would return.\n",
        "\n",
        "Next, higher level frequencies are calculated by adding up sub frequencies. This is performed by `set_number` and would return the following dictionary:\n",
        "\n",
        "\n",
        "```\n",
        "{\n",
        "  A: { freq: 1, L: {freq: 1} },\n",
        "  L: { freq: 3, L: {freq: 2}, A: {freq: 1} }\n",
        "}\n",
        "```\n",
        "\n",
        "Hence we can now see that `L` appears 3 times while `LL` appears 2 times.\n",
        "\n",
        "The code clearly doesn't indicate correct number appearances of `A`. This happens as we consider code by chuncks of `size` which would not consider `size-1` letters at the end of the string. This is solved by a further for loop in `generate` function that goes through last `size-1` letters and increments their frequencies in higher levels of the dictionary.\n",
        "\n",
        "The probabilities are calculated with the `prob` function which takes the root frequency and, by traversing the tree with supporting recursive `go_deeper` function, calculates the  probability as follows:\n",
        "\n",
        "$$\\begin{equation}\n",
        "P(AB | A) = \\frac{\\mbox{frequency}(AB)}{\\mbox{frequency}(A)}\n",
        "%\\label{eq:prob_abs}\n",
        "\\tag{4}\n",
        "\\end{equation}$$\n",
        "\n",
        "where $A$ represents the first letter and $B$ represents the next $k-1$ letters in the k-gram.\n",
        "\n",
        "The example of code's output is:"
      ]
    },
    {
      "cell_type": "code",
      "metadata": {
        "id": "Z6iG2hsSKrAV"
      },
      "source": [
        "example = 'ALLA'\n",
        "Probs2(2, example).data"
      ],
      "execution_count": null,
      "outputs": []
    },
    {
      "cell_type": "markdown",
      "metadata": {
        "id": "r6qfI0wnMSxT"
      },
      "source": [
        "From the above result we see that AL appears once with $P(AL|A) = 1$ while L can be followed by either A or L as they are children of L. Hence their respective probabilities are $P(LA|L) = P(LL|L) = 0.5$ in the example text."
      ]
    },
    {
      "cell_type": "markdown",
      "metadata": {
        "id": "V0kg_P3TNIYm"
      },
      "source": [
        "However, if we need to check the coded message, which may have combinations that we don't have in the tree, we need to return a small value close to 0. Thus a method `get` is defined that takes letter combinations and a metadata variable that is requested which is either `prob` or `freq`. If the combination doesn't exist and the `prob` value is requested, currently the alogrithm returns the zero value passed as an argument or by default the smallest `Float64` value Python understands `4.9406564584124654e-324`.\n",
        "\n",
        "This allows us to define the sensitivity of the algorithm to impossible combinations by passing out a `zero` value.\n",
        "\n",
        "The example below considers the first message with new adapted `S(m)` function for `Probs2` called `S2` and old `S` function with `Probs`:"
      ]
    },
    {
      "cell_type": "code",
      "metadata": {
        "id": "pHrKLAca8Eie"
      },
      "source": [
        "def S(m, probs, size):\n",
        "    # S(m) function as in sheet, m is the decoded message\n",
        "    # probs are probabilities\n",
        "    # size is the k-gram size to work with\n",
        "    total = 0\n",
        "    for r in range(len(m)-size+1):\n",
        "        # calculate log-likelyhood of probability\n",
        "        total += np.log(probs.get_abs_p(m[r:r+size]))\n",
        "\n",
        "    return total"
      ],
      "execution_count": null,
      "outputs": []
    },
    {
      "cell_type": "code",
      "metadata": {
        "id": "rZ3k72dCdsTx"
      },
      "source": [
        "def S2(m, probs2, size, zero=4.9406564584124654e-324):\n",
        "    # S(m) function as in sheet, m is the decoded message\n",
        "    # probs are probabilities\n",
        "    # size is the k-gram size to work with\n",
        "    # zero defines how function defines 0 values for log\n",
        "    total = 0\n",
        "    for r in range(len(m)-size+1):\n",
        "        # calculate log-likelyhood of probability\n",
        "        total += np.log(probs2.get(m[r:r+size],'prob',zero))\n",
        "\n",
        "    return total"
      ],
      "execution_count": null,
      "outputs": []
    },
    {
      "cell_type": "markdown",
      "metadata": {
        "id": "2LIdWL17g4fg"
      },
      "source": [
        "First, we note that if no `zero` value is passed then the algorithm is at its most sensative level:"
      ]
    },
    {
      "cell_type": "code",
      "metadata": {
        "id": "Rvqxu6XQdYUt"
      },
      "source": [
        "S2(codedMsg[0],Probs2(2,english_sample_text),2)"
      ],
      "execution_count": null,
      "outputs": []
    },
    {
      "cell_type": "markdown",
      "metadata": {
        "id": "Gw2qBLIHhGGY"
      },
      "source": [
        "By defining a bigger `zero` value as in the example below we get a closer `S(m)` value to that of the original algorithm:"
      ]
    },
    {
      "cell_type": "code",
      "metadata": {
        "id": "-y3XiW6xf-Z5"
      },
      "source": [
        "S2(codedMsg[0],Probs2(2,english_sample_text),2,1e-50)"
      ],
      "execution_count": null,
      "outputs": []
    },
    {
      "cell_type": "markdown",
      "metadata": {
        "id": "mvmavQ3hhUrP"
      },
      "source": [
        "This still contrasts with how we calculated `S(m)` before:"
      ]
    },
    {
      "cell_type": "code",
      "metadata": {
        "id": "pF18bIAse0H3"
      },
      "source": [
        "S(codedMsg[0],probsEnglish, 2)"
      ],
      "execution_count": null,
      "outputs": []
    },
    {
      "cell_type": "markdown",
      "metadata": {
        "id": "QzmWN4DQhwT5"
      },
      "source": [
        "It must be noted that since the equation avoids zero values by setting 0 values itself, the equation $\\eqref{prob}$ doesn't have the adjustment by $1$ as the original $p(i,j)$ suggests."
      ]
    },
    {
      "cell_type": "markdown",
      "metadata": {
        "id": "qZ4xZD8ghfwW"
      },
      "source": [
        "---"
      ]
    },
    {
      "cell_type": "markdown",
      "metadata": {
        "id": "m1Kvswqjhh6y"
      },
      "source": [
        "Perfomance of the probability precalculating function has considerably improved, hence making any size of k-gram easy to calculate:"
      ]
    },
    {
      "cell_type": "code",
      "metadata": {
        "id": "vzXhY3Nohuyq"
      },
      "source": [
        "probsEnglish2 = Probs2(5,english_sample_text)"
      ],
      "execution_count": null,
      "outputs": []
    },
    {
      "cell_type": "code",
      "metadata": {
        "id": "zzBAkzgJ9CvF"
      },
      "source": [
        "print(time_measurements['__init__'][-1])"
      ],
      "execution_count": null,
      "outputs": []
    },
    {
      "cell_type": "markdown",
      "metadata": {
        "id": "KFeP5peAlJ7l"
      },
      "source": [
        "The example above on average runs below 5 seconds which is a considerable improvement compared to `Probs`, which for 5-grams takes about 2 minutes to calculate.\n",
        "\n",
        "However, the downside of the algorithm is that the recursive calls are present because of how dictionaries are called, making it difficult to work with a nested dictionary tree for which potentially an appropriate data structure should've been used.\n",
        "\n",
        "Further, the `get` method of `Probs2` was updated from:\n"
      ]
    },
    {
      "cell_type": "code",
      "metadata": {
        "id": "C0tG7VX_c_bF"
      },
      "source": [
        "def get_value(dic, comb, what, zero):\n",
        "    ## traverses nested dictionary from given path to return 'what' value\n",
        "    # dic - branch to go through\n",
        "    # comb - where to go\n",
        "    # what - what metadata to return\n",
        "    # zero - if passed redefines to given value as 0\n",
        "\n",
        "    # set a next character to move to\n",
        "    A = comb[0]\n",
        "    # if no such character sequence exsist return zero\n",
        "    if not A in dic: return zero\n",
        "    # if the last letter of combination is reached\n",
        "    if len(comb) == 1:\n",
        "        # return the value of requested data\n",
        "        return dic[A].get(what, 0) + zero\n",
        "    else:\n",
        "        # otherwise go one level further\n",
        "        return get_value(dic[A], comb[1:], what, zero)\n",
        "\n",
        "    return get_value(self.data, comb, what, zero)"
      ],
      "execution_count": null,
      "outputs": []
    },
    {
      "cell_type": "markdown",
      "metadata": {
        "id": "C3Drsaw2lgoI"
      },
      "source": [
        "## New Metropolis"
      ]
    },
    {
      "cell_type": "markdown",
      "metadata": {
        "id": "I0IWADJ4l6D3"
      },
      "source": [
        "The Metropolis algorithm has undergone a multitude of changes:\n",
        "1. The most important is that the Metropolis algorithm is abstracted from probability calculation, making it more flexible (independent of sample text and could be performed multiple times on the same message with different configurations).\n",
        "2. Variable size k indicates the size of k-grams that should be considered.\n",
        "3. The replicable result could be achieved with a seed being passed.\n",
        "4. The initial condition and function for T value calculation can be defined.\n",
        "5. It could be specified if the algorithm should be verbose, i.e. printing 100 messages throughout their decoding and telling which seed produced this result.\n",
        "6. Initial changes can be passed to the algorithm that won't be permutated by the algorithm through the `swap_letters` argument.\n",
        "7. The algorithm considers a heuristic that doesn't allow spaces at the beginning or the end of a coded message."
      ]
    },
    {
      "cell_type": "code",
      "metadata": {
        "id": "n0ApEZOxHQ8d"
      },
      "source": [
        "@measure_time\n",
        "def metropolis(code, probs, times, T_f, swap_letters = {}, verbose=False, size=2, seed=False):\n",
        "    \n",
        "    # generating seed if not created\n",
        "    if seed == False:\n",
        "       # Generating random of max size 2**63-1 as per Py_ssize_t 64bit\n",
        "      seed = np.random.randint(9223372036854775807, dtype=np.int64)\n",
        "      # telling what is our seed\n",
        "      if verbose: print('Seed:',seed)\n",
        "    \n",
        "    # fixing random from seed\n",
        "    rng = np.random.default_rng(np.random.SeedSequence(seed))\n",
        "    \n",
        "    # creating intial mapping as mapping onto itself\n",
        "    mapping = dict(zip(probs.symbols, probs.symbols))\n",
        "\n",
        "    \n",
        "    # swap_letters is an input dictionary {A:B} swap A to B\n",
        "    # If you want to fix set {A:A}\n",
        "    for x in swap_letters.keys():\n",
        "        mapping = swap(mapping, [x, swap_letters[x]])\n",
        "\n",
        "    # intialising values for the loop, where:\n",
        "    # p_coded is the best guess at decoding so far\n",
        "    # n_mapping is the best guess at mapping so far that creates p_coded\n",
        "    # pre_S is S(m) and cur_S is S(m')\n",
        "    p_coded = code\n",
        "    n_mapping = mapping\n",
        "    pre_S = S(p_coded, probs, size)\n",
        "    n_coded = decode(code, mapping)\n",
        "    cur_S = S(n_coded, probs, size)\n",
        "\n",
        "    # for graphing purposes\n",
        "    S_graph = []\n",
        "\n",
        "    for i in range(times):\n",
        "        # calculating T using given function with given limits\n",
        "        T = T_f(i,times)\n",
        "\n",
        "        # Outputs 100 steps in total of the message decoding (first 40 characters) evenly spread through the iterations\n",
        "        if verbose and i % (times/100) == 0:\n",
        "            print(n_coded[:40])\n",
        "\n",
        "        # if previous score is worse than current make changes to the cipher\n",
        "        # or if a random chance mutation should happen\n",
        "        if cur_S > pre_S or rng.uniform(0, 1) < np.exp(((cur_S - pre_S)/T)):\n",
        "            # there is improvement\n",
        "            p_coded = n_coded\n",
        "            pre_S = cur_S\n",
        "            mapping = n_mapping\n",
        "\n",
        "        # HEURISTIC: string can't start or end with space\n",
        "        # get indicators of first and last letter of the message\n",
        "        space = [n_coded[0], n_coded[-1]]\n",
        "\n",
        "        # make a next guess\n",
        "        n_mapping = randomSwap(rng, mapping, swap_letters.values(), space)\n",
        "        n_coded = decode(code, n_mapping)\n",
        "        cur_S = S(n_coded, probs, size)\n",
        "\n",
        "        # for graphing purposes recoding best score\n",
        "        S_graph.append(pre_S)\n",
        "\n",
        "    return p_coded, pre_S, mapping, S_graph"
      ],
      "execution_count": null,
      "outputs": []
    },
    {
      "cell_type": "markdown",
      "metadata": {
        "id": "SUZSCpZZ77AQ"
      },
      "source": [
        "Hence, the $S(m)$ function below is rewritten to retrieve necessary probabilities and calculate loglikelihood as follows (`Probs`):"
      ]
    },
    {
      "cell_type": "code",
      "metadata": {
        "id": "8y_zvBza_9kq"
      },
      "source": [
        "def S(m, probs, size):\n",
        "    # S(m) function as in sheet, m is the decoded message\n",
        "    # probs are probabilities\n",
        "    # size is the k-gram size to work with\n",
        "    total = 0\n",
        "    for r in range(len(m)-size+1):\n",
        "        # calculate log-likelyhood of probability\n",
        "        total += np.log(probs.get_abs_p(m[r:r+size]))\n",
        "\n",
        "    return total"
      ],
      "execution_count": null,
      "outputs": []
    },
    {
      "cell_type": "markdown",
      "metadata": {
        "id": "nien7-Wq_KUt"
      },
      "source": [
        "For backwards compatibility, we kept the `metropolis` with `Probs`, and introduced `metropolis2` to work with `Probs2`.  The main change within `metropolis2` from `metropolis` is that we use `Probs2`, which in turn means that we use `S2` rather than `S`:"
      ]
    },
    {
      "cell_type": "code",
      "metadata": {
        "id": "nn96PKZtsqgM"
      },
      "source": [
        "@measure_time\n",
        "def metropolis2(code, probs, times, T_f, swap_letters = {}, verbose=False, size=2, seed=False, zero=1e-50):\n",
        "    \n",
        "    # generating seed if not created\n",
        "    if seed == False:\n",
        "       # Generating random of max size 2**63-1 as per Py_ssize_t 64bit\n",
        "      seed = np.random.randint(9223372036854775807, dtype=np.int64)\n",
        "      # telling what is our seed\n",
        "      if verbose: print('Seed:',seed)\n",
        "    \n",
        "    # fixing random from seed\n",
        "    rng = np.random.default_rng(np.random.SeedSequence(seed))\n",
        "    \n",
        "    # creating intial mapping as mapping onto itself\n",
        "    mapping = dict(zip(probs.symbols, probs.symbols))\n",
        "\n",
        "    \n",
        "    # swap_letters is an input dictionary {A:B} swap A to B\n",
        "    # If you want to fix set {A:A}\n",
        "    for x in swap_letters.keys():\n",
        "        mapping = swap(mapping, [x, swap_letters[x]])\n",
        "\n",
        "    # intialising values for the loop, where:\n",
        "    # p_coded is the best guess at decoding so far\n",
        "    # n_mapping is the best guess at mapping so far that creates p_coded\n",
        "    # pre_S is S(m) and cur_S is S(m')\n",
        "    p_coded = code\n",
        "    n_mapping = mapping\n",
        "    pre_S = S2(p_coded, probs, size, zero)\n",
        "    n_coded = decode(code, mapping)\n",
        "    cur_S = S2(n_coded, probs, size, zero)\n",
        "\n",
        "    # for graphing purposes\n",
        "    S_graph = []\n",
        "\n",
        "    for i in range(times):\n",
        "        # calculating T using given function with given limits\n",
        "        T = T_f(i,times)\n",
        "\n",
        "        # Outputs 100 steps in total of the message decoding (first 40 characters) evenly spread through the iterations\n",
        "        if verbose and i % (times/100) == 0:\n",
        "            print(n_coded[:40], round(cur_S))\n",
        "\n",
        "        # if previous score is worse than current make changes to the cipher\n",
        "        # or if a random chance mutation should happen\n",
        "        if cur_S > pre_S or rng.uniform(0, 1) < np.exp(((cur_S - pre_S)/T)):\n",
        "            # there is improvement\n",
        "            p_coded = n_coded\n",
        "            pre_S = cur_S\n",
        "            mapping = n_mapping\n",
        "\n",
        "        # HEURISTIC: string can't start or end with space\n",
        "        # get indicators of first and last letter of the message\n",
        "        space = [n_coded[0], n_coded[-1]]\n",
        "\n",
        "        # make a next guess\n",
        "        n_mapping = randomSwap(rng, mapping, swap_letters.values(), space)\n",
        "        n_coded = decode(code, n_mapping)\n",
        "        cur_S = S2(n_coded, probs, size, zero)\n",
        "\n",
        "        # for graphing purposes recoding best score\n",
        "        S_graph.append(pre_S)\n",
        "\n",
        "    return p_coded, pre_S, mapping, S_graph"
      ],
      "execution_count": null,
      "outputs": []
    },
    {
      "cell_type": "markdown",
      "metadata": {
        "id": "efAu3v4Wvtmu"
      },
      "source": [
        "Also, the Metropolis algorithm can now take a mapping dictionary `fixed_symbols` that should not be rearranged and doesn't affect spaces with `space` argument, both of which affects the `randomSwap` function as follows:"
      ]
    },
    {
      "cell_type": "code",
      "metadata": {
        "id": "EgCsRewqv9Ko"
      },
      "source": [
        "def randomSwap(rng, mapping, fixed_symbols=[], space=[]):\n",
        "    # preforming random swap of two leters in given cipher\n",
        "\n",
        "    # create a list of available symbols\n",
        "    options = list(mapping.values())\n",
        "\n",
        "    if len(fixed_symbols) > 0:\n",
        "        # remove fixed symbols from options\n",
        "        options = [x for x in options if x not in fixed_symbols]\n",
        "\n",
        "    # choose 2 random symbols\n",
        "    A = rng.choice(options)\n",
        "    B = rng.choice(options)\n",
        "\n",
        "    # Heuristic that doesn't consider spaces at the end\n",
        "    if len(space) > 0 and (A == ' ' or B == ' '):\n",
        "      # find the letter which which space can't be swapped\n",
        "      C = [mapping[space[0]],mapping[space[1]]]\n",
        "      # if either A or B is one of those letters\n",
        "      if A in C or B in C:\n",
        "        options = [x for x in options if x not in ' ']\n",
        "        # change corresponding letter to a new letter that doesn't include space\n",
        "        if A == ' ': A = rng.choice(options)\n",
        "        if B == ' ': B = rng.choice(options)\n",
        "\n",
        "    # return changed cipher mapping\n",
        "    return swap(mapping, [A, B])"
      ],
      "execution_count": null,
      "outputs": []
    },
    {
      "cell_type": "markdown",
      "metadata": {
        "id": "ae79TUJzyRw3"
      },
      "source": [
        "Hence, call for `metropolis` now looks like this. We show here how the seed function works for bigrams and cooling schedule `T1`, and then for trigrams and cooling schedule `T2` without a seed:"
      ]
    },
    {
      "cell_type": "code",
      "metadata": {
        "id": "gg1VbFoTyiUn"
      },
      "source": [
        "metropolis(codedMsg[1], probsEnglish, 3000, T1([10,0.1]), {}, False, 2, 5901065372395247884)\n",
        "print('Found using bigrams: SHPRLOCK HOLMPS ERPSPRVPD HIS CALM EROFP... using seed')\n",
        "\n",
        "out = metropolis(codedMsg[1], probsEnglish, 2000, T2([10,0.1]), {}, False, 3)\n",
        "print('Found using trigrams and T2 (logorithmic function):', out[0][:40])"
      ],
      "execution_count": null,
      "outputs": []
    },
    {
      "cell_type": "code",
      "metadata": {
        "id": "A303vcdmCaYz"
      },
      "source": [
        "print(time_measurements['metropolis'][-2])\n",
        "print(time_measurements['metropolis'][-1])"
      ],
      "execution_count": null,
      "outputs": []
    },
    {
      "cell_type": "markdown",
      "metadata": {
        "id": "NXnXDec1xcR8"
      },
      "source": [
        "The same for `metrapolis2`:"
      ]
    },
    {
      "cell_type": "code",
      "metadata": {
        "id": "12b-b_-fxlfs"
      },
      "source": [
        "out = metropolis2(codedMsg[1], probsEnglish2, 3000, T1([10,0.1]), {}, False, 2, 2087561135203356823, 1e-50)\n",
        "print('Found using bigrams:', out[0][:40])\n",
        "\n",
        "out = metropolis2(codedMsg[1], probsEnglish2, 2000, T2([10,0.1]), {}, False, 3, False, 1e-10)\n",
        "print('Found using trigrams:', out[0][:40])"
      ],
      "execution_count": null,
      "outputs": []
    },
    {
      "cell_type": "code",
      "metadata": {
        "id": "n3hsvh07D9Q4"
      },
      "source": [
        "print(time_measurements['metropolis2'][-2])\n",
        "print(time_measurements['metropolis2'][-1])"
      ],
      "execution_count": null,
      "outputs": []
    },
    {
      "cell_type": "markdown",
      "metadata": {
        "id": "vO91Oo8UEPYz"
      },
      "source": [
        "We can see that, by using our own tree structure rather than the `collections` variation, the algorithm takes more time to retrieve values. However, it calculates n-grams more efficiently and gives us the option to control the sensitivity of impossible combinations."
      ]
    },
    {
      "cell_type": "markdown",
      "metadata": {
        "id": "I0zMEpQKN3rf"
      },
      "source": [
        "#Optimising T<a id=T-optimisation></a>"
      ]
    },
    {
      "cell_type": "markdown",
      "metadata": {
        "id": "T5L66mXsOH9_"
      },
      "source": [
        "Whilst running the Metropolis algorithm many times, we became aware that the T value (or cooling schedule) had a significant impact on the way that the algorithm converged. Not only does it affect the speed of convergence but also the amount the $S(m)$ score will acceptably deviate. This got us to thinking whether using a linearly decreasing T value was an optimal choice for our task.\n",
        "\n",
        "After some research into the topic of simulated annealing and cooling schedule optimisation we found several candidates for optimizing our T value.\n"
      ]
    },
    {
      "cell_type": "markdown",
      "metadata": {
        "id": "fki90dN9vXrB"
      },
      "source": [
        "\n",
        "Note: $T_{i}$ is the current temperature, $T_{max}$ and $T_{min}$ are the maximum and minimum temperatures, and $n$ is the total number of iterations."
      ]
    },
    {
      "cell_type": "markdown",
      "metadata": {
        "id": "qTkua09jbzjH"
      },
      "source": [
        "In paper (1) it discusses the use of different types of cooling schedules for simulated annealing. The main three discussed are:\n",
        "\n",
        "*   Linear: \n",
        "\n",
        "$$\\begin{equation}\n",
        "T_{i} = \\frac{i(T_{max}-T_{min})}{n}\n",
        "\\tag{5} \\end{equation}$$\n",
        "\n",
        "According to (1), a linear cooling schedule is an efficient way to tend to a local optimum but does necessarily ensure a global optimum is reached.\n",
        "\n",
        "*   Logarithmic:\n",
        "\n",
        "$$\\begin{equation}\n",
        "T_{i} = \\frac{T_{max}}{1 + log(1+i)}\n",
        "\\tag{6} \\end{equation}$$\n",
        "\n",
        "We adapted this slightly in our code to the one in (1) so the cooling schedule begins at T_max, a given maximal parameter, and decreases logarithmically from there. This, in theory, will converge to a global optimum but over an excessive amount of time. However, it will nearly converge, with slight deviation, in a very short and reasonable number of iterations.\n",
        "\n",
        "*   Geometric:\n",
        "\n",
        "$$\\begin{equation}\n",
        "T_{i} = T_{max}\\alpha^i\n",
        "\\tag{7} \\end{equation}$$\n",
        "\n",
        "The geometric cooling schedule, first proposed in (2), is faster than the logarithmic one due to the fact that it decreases at a geometric rate. This in turn should lead to faster convergence but may only converge to a local optimum. What is nice however about the geometric cooling schedule is that it involves another parameter $\\alpha \\in (0,1)$ that allows us to control how quickly the temperature decreases. The closer alpha gets to 1 the slower the decrease. In (3) it is discussed that $\\alpha$ should take values in the the interval $[0.8,1)$."
      ]
    },
    {
      "cell_type": "markdown",
      "metadata": {
        "id": "L3inLfrks5V8"
      },
      "source": [
        "The last cooling schedule, the Geometric reciprocal was given to us as an option and we will consider it in our tests with all the others.\n",
        "\n",
        "\n",
        "*   Geometric reciprocal:\n",
        "\n",
        "$$\\begin{equation}\n",
        "T_{max} \\left(\\frac{T_{min}}{T_{max}} \\right)^{i/n}\\tag{8} \\end{equation}$$\n",
        "\n",
        "This is a nice inbetween to the logarithmic and geometric cooling schedules. Unlike the logarithmic, it decreases at a reasonable rate but not nearly as fast as the geometric. This will hopefully lower the chance of getting trapped in a local optimum whilst increasing efficiency.\n",
        "\n"
      ]
    },
    {
      "cell_type": "markdown",
      "metadata": {
        "id": "ERCEEy3i6L7s"
      },
      "source": [
        "Here we will now graph and test the possible cooling schedules to compare how they develop over time and see which one will work most effectively within our `metropolis2` function.\n",
        "\n",
        "Note: For the following examples we have taken $\\alpha = 0.9$."
      ]
    },
    {
      "cell_type": "code",
      "metadata": {
        "id": "jx0E6DG6OHeh"
      },
      "source": [
        "# Comparing different cooling schedules\n",
        "# Initial values\n",
        "T_range = [10,0.1]\n",
        "times = 1000\n",
        "\n",
        "T1_val = T1(T_range) # geometric reciprocal\n",
        "T2_val = T2(T_range) # logarithmic\n",
        "T3_val = T3(T_range) # linear\n",
        "T4_val = T4(T_range) # geometric\n",
        "\n",
        "# Producing plots for each of the different cooling schedules\n",
        "plt.plot([T1_val(i, times) for i in range(times)], label = 'Geometric reciprocal')\n",
        "plt.plot([T2_val(i, times) for i in range(times)], label = 'Logarithmic')\n",
        "plt.plot([T3_val(i, times) for i in range(times)], label = 'Linear')\n",
        "plt.plot([T4_val(i, times) for i in range(times)], label = 'Geometric')\n",
        "plt.legend()\n",
        "plt.title('Comparison of the 4 cooling schedules')\n",
        "plt.ylabel('Temperature')\n",
        "plt.xlabel('Iterations')\n",
        "plt.show()"
      ],
      "execution_count": null,
      "outputs": []
    },
    {
      "cell_type": "markdown",
      "metadata": {
        "id": "hAsw4_nt_DzJ"
      },
      "source": [
        "This graph shows clearly the pros and cons of each cooling schedule as described above. "
      ]
    },
    {
      "cell_type": "markdown",
      "metadata": {
        "id": "OjSofezH7gpZ"
      },
      "source": [
        "This can be further understood by an example. Using coded message 8, we will show how the different cooling schedules affect the convergence of the $S(m)$ score.\n",
        "For this we must test them all using the same seed to prevent any difference in convergence from the random swaps.\n",
        "\n",
        "(The code below takes about 35 seconds to run)"
      ]
    },
    {
      "cell_type": "code",
      "metadata": {
        "id": "rXS-4bMb7iAr"
      },
      "source": [
        "# Initial values\n",
        "test_seed = 2344494493235\n",
        "msgNum = 8\n",
        "T_range = [10,0.1]\n",
        "times = 5000\n",
        "\n",
        "# Producing graphs comparing cooling schedules\n",
        "# Reproduced for n-grams with 1<n<5\n",
        "for gramNum in range(2,5):\n",
        "    # Running Geometric reciprocal cooling schedule\n",
        "    decodedMsg1, score1, cipher1, graph1 = metropolis(codedMsg[msgNum - 1], probsEnglish, times, T1(T_range), {}, False, gramNum, seed = test_seed)\n",
        "    plt.plot(graph1, label = 'Geometric reciprocal')\n",
        "\n",
        "    # Running Logarithmic cooling schedule\n",
        "    decodedMsg2, score2, cipher2, graph2 = metropolis(codedMsg[msgNum - 1], probsEnglish, times, T2(T_range), {}, False, gramNum, seed = test_seed)\n",
        "    plt.plot(graph2, label = 'Logarithmic')\n",
        "\n",
        "    # Running Linear cooling schedule\n",
        "    decodedMsg3, score3, cipher3, graph3 = metropolis(codedMsg[msgNum - 1], probsEnglish, times, T3(T_range), {}, False, gramNum, seed = test_seed)\n",
        "    plt.plot(graph3, label = 'Linear')\n",
        "\n",
        "    # Running Geometric cooling schedule\n",
        "    decodedMsg4, score4, cipher4, graph4 = metropolis(codedMsg[msgNum - 1], probsEnglish, times, T4(T_range), {}, False, gramNum, seed = test_seed)\n",
        "    plt.plot(graph4, label = 'Geometric')\n",
        "\n",
        "    plt.legend()\n",
        "    plt.title('Cooling schedules compared using gram number {}'.format(gramNum))\n",
        "    plt.xlabel('Iterations')\n",
        "    plt.ylabel('$S(m)$ score')\n",
        "    plt.show()"
      ],
      "execution_count": null,
      "outputs": []
    },
    {
      "cell_type": "markdown",
      "metadata": {
        "id": "Ukomw7yeB_K8"
      },
      "source": [
        "The example here seems to converge as expected. The Geometric cooling schedule is the fastest to reach some optimum but notice that it is not often a global optimum. This will therefore not be suitable for further use.\n",
        "\n",
        "The logarithmic cooling schedule converges much faster than the linear cooling schedule but, given its very slow decline, will take many more iterations to reach the global optimum.\n",
        "\n",
        "The original linear cooling schedule is much less efficient than the other cooling schedules but often gets close to the global optimum over the given iterations. It also seems to be the most consistent of the cooling schedules.\n",
        "\n",
        "The Geometric reciporocal cooling schedule, although not as fast as the logarithmic cooling schedule at getting close to the global optimum, still converges at a reasonable speed and, under certain conditions, doesn't succumb to the local optimum trap. However, if given a low number of iterations, like the Geometric cooling schedule, the $S(m)$ score can still get stuck in a local optimum when run using the Geometric reciprocal cooling schedule as we can see in the first graph."
      ]
    },
    {
      "cell_type": "markdown",
      "metadata": {
        "id": "KGAc6TuCP3jU"
      },
      "source": [
        "The above was run using the first improved `metropolis` function. This made it clearer to see the affect that each cooling schedule had on the convergence of the function. But given now that we have the further adapted `metropolis2` algorithm we thought it be best to reproduce the graphs using this.\n",
        "\n",
        "(The code below takes about 50 seconds to run)."
      ]
    },
    {
      "cell_type": "code",
      "metadata": {
        "id": "EMVDU93eQJtX"
      },
      "source": [
        "# Initial values\n",
        "test_seed = 12345678909098\n",
        "msgNum = 8\n",
        "T_range = [10,0.1]\n",
        "times = 5000\n",
        "zero = 1e-5\n",
        "\n",
        "# Reproducing the same graphs but using our metropolis2 function\n",
        "for gramNum in range(2,5):\n",
        "    # Running geometric reciprocal cooling schedule\n",
        "    decodedMsg1, score1, cipher1, graph1 = metropolis2(codedMsg[msgNum - 1], probsEnglish2, times, T1(T_range), {}, False, gramNum, seed = test_seed)\n",
        "    plt.plot(graph1, label = 'Geometric reciprocal')\n",
        "\n",
        "    # Running Logarithmic cooling schedule\n",
        "    decodedMsg2, score2, cipher2, graph2 = metropolis2(codedMsg[msgNum - 1], probsEnglish2, times, T2(T_range), {}, False, gramNum, seed = test_seed)\n",
        "    plt.plot(graph2, label = 'Logarithmic')\n",
        "\n",
        "    # Running Linear cooling schedule\n",
        "    decodedMsg3, score3, cipher3, graph3 = metropolis2(codedMsg[msgNum - 1], probsEnglish2, times, T3(T_range), {}, False, gramNum, seed = test_seed)\n",
        "    plt.plot(graph3, label = 'Linear')\n",
        "\n",
        "    # Running Geometric cooling schedule\n",
        "    decodedMsg4, score4, cipher4, graph4 = metropolis2(codedMsg[msgNum - 1], probsEnglish2, times, T4(T_range), {}, False, gramNum, seed = test_seed)\n",
        "    plt.plot(graph4, label = 'Geometric')\n",
        "\n",
        "    plt.legend()\n",
        "    plt.title('Cooling schedules compared using gram number {}'.format(gramNum))\n",
        "    plt.xlabel('Iterations')\n",
        "    plt.ylabel('$S(m)$ score')\n",
        "    plt.show()\n",
        "\n",
        "    # This outputs the times for each n-gram and each cooling schedule\n",
        "    print(f\"Below are the times that it takes for each of the {gramNum}-grams\")\n",
        "    print(time_measurements['metropolis2'][-4:])\n"
      ],
      "execution_count": null,
      "outputs": []
    },
    {
      "cell_type": "markdown",
      "metadata": {
        "id": "LMA6iTmIQLY3"
      },
      "source": [
        "The new algorithm interestingly, seems to reduce the dependency on the cooling schedule and is now more affected by the zero value which, in short, represents the level of deviation of the S value. Not only that but the consistency of all the cooling schedules has increased. The Linear cooling schedule is now as efficient as the other cooling shcedules and the Geometric, despite still getting trapped, is much less likely to stagnate.\n",
        "\n",
        "For consistencies sake we will continue using the Geometric reciprocal cooling schedule for the rest of the project as it has performed well in both tests.\n",
        "\n",
        "The time taken for `metropolis2` to run for each of the cooling schedules and n-gram can be seen above."
      ]
    },
    {
      "cell_type": "markdown",
      "metadata": {
        "id": "_9CgKEc0qPge"
      },
      "source": [
        "# Statistics<a id=Statistics></a>"
      ]
    },
    {
      "cell_type": "markdown",
      "metadata": {
        "id": "rXX9zsq5GPk7"
      },
      "source": [
        "In this section, we will be comparing the convergence of bigrams and trigrams.\n",
        "\n",
        "In the graph below we look at the relationship between `S(m)` score and the number of iterations, as well as comparing this with bigrams and trigrams."
      ]
    },
    {
      "cell_type": "markdown",
      "metadata": {
        "id": "kZDeZ0Wa2yTT"
      },
      "source": [
        "\n",
        "This is the function we used to generate the images below\n",
        "```\n",
        "plt.figure(figsize=(20,20))\n",
        "plt.subplot(2,2,1)\n",
        "mean = []\n",
        "var = []\n",
        "# sampling metrapolis2 20 times bigrams\n",
        "for i in range(20):\n",
        "    graph = metropolis2(codedMsg[1], probsEnglish2, 4000, T1([10,0.1]), {}, False, 2, False, 1e-10)[3]\n",
        "    # calculating mean and variance of this sample\n",
        "    mean.append(round(np.mean(graph)))\n",
        "    var.append(round(np.var(graph)))\n",
        "    # plotting the line of convergence of S\n",
        "    plt.plot(graph, label = f'Run {i+1}', color='b')\n",
        "\n",
        "plt.ylabel('S(m) for bigrams')\n",
        "plt.xlabel('Number of iterations')\n",
        "plt.title('Score of S(m) function of message 2 compared to how many iterations its had when using bigrams')\n",
        "plt.legend([f'Mean of means = {round(np.mean(mean))}, mean of variances = {round(np.mean(var))}'])\n",
        "\n",
        "plt.subplot(2,2,2)\n",
        "mean_t = []\n",
        "var_t = []\n",
        "# sampling metrapolis2 20 times trigrams\n",
        "for i in range(20):\n",
        "    graph = metropolis2(codedMsg[1], probsEnglish2, 4000, T1([10,0.1]), {}, False, 3, False, 1e-10)[3]\n",
        "    # calculating mean and variance of this sample\n",
        "    mean_t.append(round(np.mean(graph)))\n",
        "    var_t.append(round(np.var(graph)))\n",
        "    # plotting the line of convergence of S\n",
        "    plt.plot(graph, label = f'Run {i+1}',color='r')\n",
        "\n",
        "plt.ylabel('S(m) for trigrams')\n",
        "plt.xlabel('Number of iterations')\n",
        "plt.title('Score of S(m) function of message 2 compared to how many iterations its had when using trigrams')\n",
        "plt.legend([f'Mean of means = {round(np.mean(mean_t))}, mean of variances = {round(np.mean(var_t))}'])\n",
        "plt.show()\n",
        "\n",
        "```"
      ]
    },
    {
      "cell_type": "markdown",
      "metadata": {
        "id": "ujMHTe6I13wX"
      },
      "source": [
        "![stat1.png](data:image/png;base64,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)"
      ]
    },
    {
      "cell_type": "markdown",
      "metadata": {
        "id": "6B9LOZz36gvP"
      },
      "source": [
        "Through doing multiple runs, we can see what the average path of a bigram and trigram is. Trigrams tend to get stuck more, at around `-16000`, giving a greater variation in convergence.  The results are more varied for trigrams so we are more likely to get an inaccuarate result. For such a long message as coded message 2 the use of bigrams is better and especially more efficient at getting the correct answer."
      ]
    },
    {
      "cell_type": "markdown",
      "metadata": {
        "id": "UvNUUsmFFr7t"
      },
      "source": [
        "We also can look at a shorter, and therefore more difficult, code to break (in this case coded message 7)."
      ]
    },
    {
      "cell_type": "markdown",
      "metadata": {
        "id": "3SPecM8s25l2"
      },
      "source": [
        "This is the code used to generate graphs below.\n",
        "\n",
        "\n",
        "```\n",
        "plt.figure(figsize=(20,20))\n",
        "plt.subplot(2,2,1)\n",
        "mean = []\n",
        "var = []\n",
        "# sampling metropolis2 100 times bigrams\n",
        "for i in range(100):\n",
        "    graph = metropolis2(codedMsg[6], probsEnglish2, 4000, T1([10,0.1]), {}, False, 2, False, 1e-10)[3]\n",
        "    # calculating mean and variance of the sample\n",
        "    mean.append(round(np.mean(graph)))\n",
        "    var.append(round(np.var(graph)))\n",
        "    # plotting the line of convergence of S\n",
        "    plt.plot(graph, label = f'Run {i+1}',color='b' )\n",
        "\n",
        "plt.ylabel('S(m) for bigrams')\n",
        "plt.xlabel('Number of iterations')\n",
        "plt.title('Score of S(m) function  of message 7 compared to how many iterations its had when using bigrams')\n",
        "plt.legend([f'Mean of means = {round(np.mean(mean))}, mean of variances = {round(np.mean(var))}'])\n",
        "\n",
        "plt.subplot(2,2,2)\n",
        "mean_t = []\n",
        "var_t = []\n",
        "# sampling metropolis2 100 times bigrams\n",
        "for i in range(100):\n",
        "    graph = metropolis2(codedMsg[6], probsEnglish2, 4000, T1([10,0.1]), {}, False, 3, False, 1e-10)[3]\n",
        "    # calculating mean and variance of the sample\n",
        "    mean_t.append(round(np.mean(graph)))\n",
        "    var_t.append(round(np.var(graph)))\n",
        "    # plotting the line of convergence of S\n",
        "    plt.plot(graph, label = f'Run {i+1}',color='r')\n",
        "\n",
        "plt.ylabel('S(m) for trigrams')\n",
        "plt.xlabel('Number of iterations')\n",
        "plt.title('Score of S(m) function of message 7 compared to how many iterations its had when using trigrams')\n",
        "plt.legend([f'Mean of means = {round(np.mean(mean_t))}, mean of variances = {round(np.mean(var_t))}'])\n",
        "plt.show()\n",
        "```\n",
        "\n"
      ]
    },
    {
      "cell_type": "markdown",
      "metadata": {
        "id": "832bw6Twwh-d"
      },
      "source": [
        "![stat2.png](data:image/png;base64,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)"
      ]
    },
    {
      "cell_type": "markdown",
      "metadata": {
        "id": "qbOg5cxASFbP"
      },
      "source": [
        "From the graphs above it is clear to see the variation in convergence from the bigram and trigram Metropolis algorithm. Using trigrams, we get a greater spread in convergence which indicates the issues with using larger n-grams. Despite working well with certain messages they can get stuck in a local optimum and not converge further. This can be a problem but, given the correct seed, they can converge nicely and even closer to a grammatically correct sentence than when using bigrams. In the next chapter we will see there different uses for decoding different messages, specifically for messages of different lengths."
      ]
    },
    {
      "cell_type": "markdown",
      "metadata": {
        "id": "xpv-uPXPCs-I"
      },
      "source": [
        "# Decoding all the messages<a id=Decoding></a>"
      ]
    },
    {
      "cell_type": "markdown",
      "metadata": {
        "id": "K05KZ9K_TvqC"
      },
      "source": [
        "**Coded Message 3 and 4**"
      ]
    },
    {
      "cell_type": "markdown",
      "metadata": {
        "id": "eusFI8BQT1JL"
      },
      "source": [
        "The next two messages require no more than the simple Metropolis algorithm to solve. Now that we have our optimised algorithm however, we can find the correct message even more efficiently. When using our new Metropolis algorithm we have to make sure to adjust our parameters specifically for each message."
      ]
    },
    {
      "cell_type": "code",
      "metadata": {
        "id": "NIDLXaQGUESZ"
      },
      "source": [
        "decodedMsg, score, cipher, graph = metropolis2(codedMsg[2], probsEnglish2, 4000, T1([10,0.1]), {}, True, 2, False, zero = 1e-5)\n",
        "print(decodedMsg)"
      ],
      "execution_count": null,
      "outputs": []
    },
    {
      "cell_type": "markdown",
      "metadata": {
        "id": "GbJrdvsP7M05"
      },
      "source": [
        "This outputs the decoded message:\n",
        "\n",
        "CIPHERTEXTS PRODUCED BY A CLASSICAL CIPHER AND SOME MODERN CIPHERS WILL REVEAL STATISTICAL INFORMATION ABOUT THE PLAINTEXT AND THAT INFORMATION CAN OFTEN BE USED TO BREAK THE CIPHER AFTER THE DISCOVERY OF FREQUENCY ANALYSIS BY THE ARAB MATHEMATICIAN AND POLYMATH AL KINDI ALSO KNOWN AS ALKINDUS IN THE NINTH CENTURY NEARLY ALL SUCH CIPHERS COULD BE BROKEN BY AN INFORMED ATTACKER SUCH CLASSICAL CIPHERS STILL ENJOY POPULARITY TODAY THOUGH MOSTLY AS PUZZLES AL KINDI WROTE A BOOK ON CRYPTOGRAPHY ENTITLED RISALAH FI ISTIKHRAJ AL MUAMMA MANUSCRIPT FOR THE DECIPHERING CRYPTOGRAPHIC MESSAGES WHICH DESCRIBED THE FIRST KNOWN USE OF FREQUENCY ANALYSIS AND CRYPTANALYSIS TECHNIQUES AN IMPORTANT CONTRIBUTION OF IBN ADLAN WAS ON SAMPLE SIZE FOR USE OF FREQUENCY ANALYSIS\n",
        "\n",
        "Our best guess at the punctuated version is:\n",
        "\n",
        "\"Ciphertexts produced by a classical cipher and some modern ciphers will reveal statistical information about the plaintext, and that information can often be used to break the cipher. After the discovery of frequency analysis by the Arab mathematician and polymath al-Kindi, also known as Alkindus in the ninth century, all such classical ciphers could be broken by an informed attacker. Such classical ciphers still enjoy popularity today, although mostly as puzzles. Al Kindi wrote a book on cryptography entitled Risalah fi Istikhraj al-Mu'amma manuscript for the deciphering cryptographic messages which described the first known use of frequency analysis and cryptanalysis techniques. An important contribution of Iban Adlan was on sample size for use of frequency analysis.\"\n"
      ]
    },
    {
      "cell_type": "code",
      "metadata": {
        "id": "HUKGoD2LUI1m"
      },
      "source": [
        "decodedMsg, score, cipher, graph = metropolis2(codedMsg[3], probsEnglish2, 6000, T1([10,0.1]), {}, True, 2, False, zero = 1e-10)\n",
        "print(decodedMsg)"
      ],
      "execution_count": null,
      "outputs": []
    },
    {
      "cell_type": "markdown",
      "metadata": {
        "id": "Sy5KgNJLOf4g"
      },
      "source": [
        "Running this previously, with a specific seed, we managed to get the message:\n",
        "\n",
        "\n",
        "\n",
        "```\n",
        "Seed: 3940073469356524540\n",
        "RJLHXTNERXWZEWZSXLESNIFWX TEKJAAS NYSVEW -19078\n",
        "ZOLGRJFDZRWIDWISRLDSFUNWR JDPOAAS FTSHDW -15435\n",
        "DOLGRPUEDRYIEYIMRLEMUBVYR PEFOAAM UTMNEY -1901\n",
        "DOYGNPHEDNZIEZIMNYEMHBWZN PEFOAAM HUMREZ -5682\n",
        "DOCKNTHEDNMAEMAINCEIHPWMN TELOFFI HUIREM -1457\n",
        "DOCKNTHEDNMAEMAINCEIHPLMN TEGOSSI HUIREM -1427\n",
        "DRLKNTH DNMA MAINL IHCSMNET GROOIEHPIU M -1889\n",
        "GELMNTH GNUK UKINL IHCBUNAT DERRIAHOIP U -1488\n",
        "FCLYNTG FNSH SHANL AGEOSNIT WCRRAIGBAP S -1834\n",
        "CELBNTD CNSH SHANL ADMPSNIT WERRAIDYAO S -1055\n",
        "CELKPTG CPSH SHAPL AGMUSPIT WENNAIGYAO S -1382\n",
        "CEPFUTR CUSH SHAUP ARBMSUIT WENNAIRYAL S -1014\n",
        "CEGFUTRICUSHISHAUGIARDMSU TIWEPPA RYALIS -1084\n",
        "CIMVUPE CUSH SHAUM AEDYSUNP WILLANEFAT S -1429\n",
        "CRMVUPN CUSH SHAUM ANOYSUIP DRLLAINFAT S -1079\n",
        "CEMBUON CUXH XHAUM ANVYXUIO WELLAINGAT X -2548\n",
        "CEMFUON CUSH SHAUM ANVYSUIO WELLAINXAT S -2706\n",
        "CANBLOKRCLSHRSHELNREKGYSLIORWAMMEIKDETRS -1127\n",
        "VANBLDK VLSH SHELN EKMUSLID WAGGEIKOET S -1976\n",
        "CAJBUNF CUTH THEUJ EFMLTUIN WAPPEIFOES T -3351\n",
        "WARKUNF WUTH THEUR EFPBTUIN CAQQEIFOES T -5719\n",
        "WAOKUNX WUTH THEUO EXLVTUIN CAGGEIXRES T -1285\n",
        "WARKUNX WUTH THEUR EXGVTUIN CALLEIXOES T -868\n",
        "WARKUNX WUTH THEUR EXYBTUIN CALLEIXOES T -1202\n",
        "WORKUNX WUTH THEUR EXFBTUIN COLLEIXAEM T -921\n",
        "WORKINX WITH THEIR EXFCTIAN BOLLEAXUES T -2264\n",
        "WOJKINX WITH THEIJ EXFMTIAN COLLEAXUES T -2957\n",
        "WORKINP WITH THEIR EPFGTIAN COBBEAPUES T -867\n",
        "WORKINF WITH THEIR EFYGTIAN COBBEAFUES T -833\n",
        "WO KINFRWITHRTHEI REFYBTIANRCOLLEAFUESRT -1002\n",
        "WORKINY WITH THEIR EYFBTIAN QOLLEAYUES T -3231\n",
        "WORKINYEWITHETH IRE YFBTIANECOLL AYU SET -1308\n",
        "WORNIKY WITH THEIR EYDBTIAK COLLEAYUES T -1533\n",
        "WORKINY WITH THEIR EYGBTIAN COLLEAYUES T -807\n",
        "WORKIUG WITH THEIR EGYBTIAU COLLEAGNES T -886\n",
        "WORKING WITH THEIR EGYBTIAN COLLEAGUEJ T -4661\n",
        "WOJKING WITH THEIJ EGYBTIAN COLLEAGUES T -2900\n",
        " ORKINGW ITHWTHEIRWEGYBTIANWCOLLEAGUESWT -1138\n",
        "WYRKING WITH THEIR EGOBTIAN CYLLEAGUES T -1208\n",
        "WORKBNG WBTH THEBR EGYPTBAN COLLEAGUES T -863\n",
        "DORKING DITH THEIR EGYPTIAN COLLEAGUES T -817\n",
        "WORKINGCWITHCTHEIRCEGYPTIANC OLLEAGUESCT -1458\n",
        "WMRKING WITH THEIR EGYPTIAN CMLLEAGUES T -890\n",
        "ROWKING RITH THEIW EGYPTIAN COLLEAGUES T -821\n",
        "WOJKING WITH THEIJ EGYPTIAN COLLEAGUES T -2901\n",
        "WORKING WITH THEIR EGYPTIAN COLLEAGUES T -785\n",
        "WORKIGN WITH THEIR ENYPTIAG COLLEANUES T -826\n",
        "WORKINGHWIT HT EIRHEGYPTIANHCOLLEAGUESHT -1154\n",
        "WORKING WITH THZIR ZGYPTIAN COLLZAGUZS T -10216\n",
        "WYRKING WITH THEIR EGOPTIAN CYLLEAGUES T -1201\n",
        "WORKING WITD TDEIR EGYPTIAN COLLEAGUES T -898\n",
        "WORKING WITH THEIR EGYPTIAN COLLEAGUES T -774\n",
        "WORKINGSWITHSTHEIRSEGYPTIANSCOLLEAGUE ST -1618\n",
        "WORKING WITH THEIR EGYSTIAN COLLEAGUEP T -824\n",
        "WORKING WITH THEIR EGYUTIAN COLLEAGPES T -808\n",
        "WORKIQG WITH THEIR EGYPTIAQ COLLEAGUES T -5373\n",
        "WORKING WITH THQIR QGYPTIAN COLLQAGUQS T -7595\n",
        "WORKICG WITH THEIR EGYPTIAC NOLLEAGUES T -880\n",
        "WORKING WIEH EHTIR TGYPEIAN COLLTAGUTS E -985\n",
        "WORKICG WITH THEIR EGYPTIAC NOLLEAGUES T -880\n",
        "WORKING WITH THEIR EGYPTIAN UOLLEAGCES T -837\n",
        "WORKINGYWITHYTHEIRYEG PTIANYCOLLEAGUESYT -1414\n",
        "KORWING KITH THEIR EGYPTIAN COLLEAGUES T -802\n",
        "WORKING WITH THEIR EGYPTIAN COXXEAGUES T -1196\n",
        "WOAKING WITH THEIA EGYPTIRN COLLERGUES T -852\n",
        "WORKINGFWITHFTHEIRFEGYPTIANFCOLLEAGUESFT -1117\n",
        "WORKINGXWITHXTHEIRXEGYPTIANXCOLLEAGUESXT -15421\n",
        "WORKIMG WITH THEIR EGYPTIAM COLLEAGUES T -834\n",
        "WORKING WITH THEIR EGLPTIAN COYYEAGUES T -837\n",
        "WORKING WITS TSEIR EGYPTIAN COLLEAGUEH T -903\n",
        "WORKING WITH THEIR EGYCTIAN POLLEAGUES T -781\n",
        "WERKING WITH THOIR OGYPTIAN CELLOAGUOS T -832\n",
        "WONKIRG WITH THEIN EGYPTIAR COLLEAGUES T -810\n",
        "WORKING WIEH EHTIR TGYPEIAN COLLTAGUTS E -985\n",
        "WORKING WITH THFIR FGYPTIAN COLLFAGUFS T -1288\n",
        "WORKING WITH THEIR EGYPTIAN COLLEAGUES T -792\n",
        "WORKING WIYH YHEIR EGTPYIAN COLLEAGUES Y -1230\n",
        "WORKING WITH THEIR EGYCTIAN POLLEAGUES T -781\n",
        "WORKING WITB TBEIR EGYPTIAN COLLEAGUES T -868\n",
        "WORKING WITH THEIR EGYPTIAN COSSEAGUEL T -819\n",
        "WORKING WITH THMIR MGYPTIAN COLLMAGUMS T -1303\n",
        "WORKING WITH THEIR EGYVTIAN COLLEAGUES T -787\n",
        "WORHING WITK TKEIR EGYPTIAN COLLEAGUES T -879\n",
        "WORKING WITH THEIR EGYPTIAN COLLEAGDES T -848\n",
        "WORKING WITH THEIR EGYPTIAN COLLEAGUES T -1120\n",
        "WORKING WITH THEIR EGYPTIAN COLLEAGUES T -817\n",
        "WORKING WILH LHEIR EGYPLIAN COTTEAGUES L -890\n",
        "W RKINGOWITHOTHEIROEGYPTIANOC LLEAGUESOT -938\n",
        "WORKUNG WUTH THEUR EGYPTUAN COLLEAGIES T -801\n",
        "WORKING WITH THEIR EGYPTIAN LOCCEAGUES T -807\n",
        "WORKING WITH THEIR EGYPTIAN COLLEAGUES T -1161\n",
        "WORKINGAWITHATHEIRAEGYPTI NACOLLE GUESAT -902\n",
        "WORKING WITH THEIR EGYPTIAN DOLLEAGUES T -801\n",
        "WONKIRG WITH THEIN EGYPTIAR COLLEAGUES T -810\n",
        "WORKIPG WITH THEIR EGYNTIAP COLLEAGUES T -848\n",
        "WORKING WITH THEIR EGYPTIAN COLLEAGMES T -826\n",
        "EORKING EITH THWIR WGYPTIAN COLLWAGUWS T -1322\n",
        "WORKING WITH THEIR EGYPTIAN COLLEAGUEX T -2269\n",
        "WORKINV WITH THEIR EVYPTIAN COLLEAVUES T -805\n",
        " ORKINGW ITHWTHEIRWEGYPTIANWCOLLEAGUESWT -1135\n",
        "WORKING WITH THEIR EGYPTIAN COLLEAGUES THE DUTCH CONSULTANTS WERE RUNNING NUMBERS BOSKALISS ROLE WAS BASICALLY TO DO THE CALCULATIONS THE SUMS BERDOWSKI SAID SO WHEN THE STERN CAME FREE ON MONDAY MORNING WE CALCULATED THAT WE SHOULD LET TONNES OF WATER BALLAST IN AT THE REAR OF THE VESSEL TO PUSH THE STERN DOWN AND LIFT THE BOW\n",
        "```\n",
        "\n"
      ]
    },
    {
      "cell_type": "markdown",
      "metadata": {
        "id": "ayv3CkI2TwYf"
      },
      "source": [
        "This outputs the decoded message:\n",
        "\n",
        "WORKING WITH THEIR EGYPTIAN COLLEAGUES THE DUTCH CONSULTANTS WERE RUNNING NUMBERS BOSKALISS ROLE WAS BASICALLY TO DO THE CALCULATIONS THE SUMS BERDOWSKI SAID SO WHEN THE STERN CAME FREE ON MONDAY MORNING WE CALCULATED THAT WE SHOULD LET TONNES OF WATER BALLAST IN AT THE REAR OF THE VESSEL TO PUSH THE STERN DOWN AND LIFT THE BOW.\n",
        "\n",
        "Our best guess at the punctuated version is:\n",
        "\n",
        "\"Working with their Egyptian colleagues, the Dutch consultants were running numbers. Boskalis's role was basically to do the calculations. The sums Berdowski said so when the stern came free on Monday morning, we calculated that we should let tonnes of water ballast in at the rear of the vessell to push the stern down and lift the bow.\""
      ]
    },
    {
      "cell_type": "markdown",
      "metadata": {
        "id": "EiIb6ep_UKsP"
      },
      "source": [
        "**Coded Message 5**"
      ]
    },
    {
      "cell_type": "markdown",
      "metadata": {
        "id": "hXmJhR7JUQHZ"
      },
      "source": [
        "Message 5 is the first considerably short message which makes it much harder for the algorithm to give a complete answer without any user input. Initially we attempt this using the bigram `metropolis2` algorithm."
      ]
    },
    {
      "cell_type": "code",
      "metadata": {
        "id": "u5PHo_xfUTVb"
      },
      "source": [
        "decodedMsg, score, cipher, graph = metropolis2(codedMsg[4], probsEnglish2, 10000, T1([10,0.1]), {}, True, 2, False, zero = 1e-10)\n",
        "print(decodedMsg)"
      ],
      "execution_count": null,
      "outputs": []
    },
    {
      "cell_type": "markdown",
      "metadata": {
        "id": "_1KWy_smOyJr"
      },
      "source": [
        "Running the cell previously with a specific seed we got:\n",
        "\n",
        "\n",
        "\n",
        "```\n",
        "Seed: 4312104217487929661\n",
        "IZWLXSZF QEFLZTQUVLSZMIHZCIVLUZEDDZIUPZX -1130\n",
        "AEDIFNESTL SIEMLHPINEKACEWAPIHE YYEAHGEF -478\n",
        "AOPEGDONHY NEOKYBUEDOZACOTAUEBO FFOABSOG -472\n",
        "AOM WBOFHEIF OZECK BOLAYOTAK COIVVOACPOW -436\n",
        "OAQ MWASHEIS AREZK WAVOCATOK ZAIPPAOZDAM -446\n",
        "IAQ NPAKHEOK ALERM PAYIBATIM RAOSSAIRVAN -417\n",
        "EIP MLIRCUSR IZUDW LIJEFITEW DISNNIEDVIM -491\n",
        "RIU PGILMNCL IANDW GIBRSIERW DICHHIRDVIP -481\n",
        "CIXTNRIKDSMKTIWSHFTRIGCOI CFTHIMUUICHLIN -489\n",
        "OIXTNCIRMSDRTIWSBATCIGOPI OATBIDYYIOBLIN -486\n",
        "TRWISFRYHANYIRKAMUIFRLTBR TUIMRNCCRTMPRS -435\n",
        "TALIWVAHPRYHIAKRCUIVANTDA TUICAYFFATCMAW -431\n",
        "LAKENHAPGIMPEASIDUEHACLFA LUEDAMRRALDVAN -529\n",
        "A PWYE JOLTJW CLMVWE BAK IAVWM TRR AMS Y -541\n",
        "A JEGY WLTOWE RTNVEY PAS IAVEN OZZ ANM G -414\n",
        "A VEXM WTIOWE PINKEM HAD RAKEN OLL ANZ X -378\n",
        "A NEDQ MPOIME CORZEQ YAT LAZER ISS ARK D -396\n",
        "A LECH ZPOUZE MONTEH WAK RATEN USS ANY C -388\n",
        "A JEWT HPOUHE SONGET MAD LAGEN URR ANY W -460\n",
        "A MERT DPGUDE BGNVET HAS LAVEN UCC ANY R -402\n",
        "A KECN MBOUME PORDEN VAH TADER UGG ARY C -378\n",
        "A VEBR CYOUCE WONXER MAP TAXEN UDD ANG B -371\n",
        "A VEYF IHOUIE WONKEF MAL TAKEN UPP AND Y -413\n",
        "A VEYF BHOLBE WONKEF JAR TAKEN LPP AND Y -362\n",
        "AOZEDIOWH RWEOP NKEIOMAFOTAKENORLLOANYOD -402\n",
        "A BEDR WHIOWE PINKER CAL TAKEN OFF ANG D -340\n",
        "A VEDY WHIOWE JINKEY CAS TAKEN ORR ANL D -326\n",
        "A VEPY WHIOWE JIGCEY MAS TACEG ODD AGR P -335\n",
        "A MEWR LHIOLE BINKER PAV TAKEN ODD ANY W -381\n",
        "A PEKY WHIOWE RINCEY VAS TACEN OLL AND K -339\n",
        "A ZERM SHIOSE WINKEM GAD TAKEN OLL ANY R -348\n",
        "G VELY WHOIWE MODKEY PGN TGKED ICC GDR L -412\n",
        "F VEAY SHOISE WORKEY CFL TFKER INN FRD A -374\n",
        "A VEGY THOITE JONKEY FAS LAKEN IPP AND G -347\n",
        "A VECY KHOIKE FORNEY WAS TANER IPP ARD C -314\n",
        "A BEMY KWOIKE FORGEY HAS TAGER IPP ARD M -345\n",
        "A KEMY CHOICE GORNEY WAS TANER IFF ARD M -315\n",
        "A JEBY GHIOGE CIRNEY WAS TANER OFF ARD B -334\n",
        "A JEMY GHOIGE CORKEY WAS TAKER IFF ARD M -321\n",
        "A JEMY CHOICE PORNEY WAS TANER IFF ARX M -327\n",
        "A LEMY CHOICE PONBEY WAR TABEN IFF AND M -389\n",
        "A RKMY CHOICK PONBKY WAS TABKN IFF AND M -470\n",
        "A REMY CHOICE PONBEY WAS TABEN ILL AND M -404\n",
        "M REAY GHOIGE FONVEY WMS TMVEN ILL MND A -352\n",
        "A MEPY CHOICE FONVEY WAS TAVEN ILL AND P -308\n",
        "A MERY CHOICE FONKEY WAZ TAKEN IPP AND R -355\n",
        "A MEHY GROIGE FONKEY WAS TAKEN IPP AND H -317\n",
        "A MERY GHOKGE FONIEY WAS TAIEN KPP AND R -360\n",
        "A MERY CIOHCE FONKEY WAS TAKEN HLL AND R -335\n",
        "ANVERYNCHOICENFO KEYNWASNTAKE NILLNA DNR -415\n",
        "A VEIY CHORCE FONKEY WAS TAKEN RPP AND I -340\n",
        "A VERY CHOICE PODKEY WAS TAKED IMM ADN R -309\n",
        "A VERY CHOICE FONKEY WAJ TAKEN IMM AND R -370\n",
        "A VERY GPOIGE FONKEY WAS TAKEN IMM AND R -323\n",
        "A VCRY GHOIGC FONKCY WAS TAKCN IPP AND R -446\n",
        "A VERY GHOIGE MONKEY WAZ TAKEN IPP AND R -350\n",
        "A VERY GHOIGE MONKEY WAS LAKEN IPP AND R -333\n",
        "A VEPY GHOIGE FONKEY WAS TAKEN IRR AND P -304\n",
        "A VEOY GHRIGE FRNKEY WAS TAKEN IMM AND O -318\n",
        "A NERY CHOICE FOVKEY WAS TAKEV IMM AVD R -347\n",
        "A VERY CHOICE FOLKEY WAS TAKEL IMM ALD R -309\n",
        "A VERY CHOICE FONKEY WAS TAKEN IMM AND R -299\n",
        "AFVERYFCHOICEF ONKEYFWASFTAKENFIMMFANDFR -423\n",
        "A VERY CHOICE SONKEY WAF TAKEN IMM AND R -306\n",
        "A VERY CHONCE FOIKEY WAS TAKEI NMM AID R -329\n",
        "A VERY CHOICE FONKEY WAS TAKEN IMM AND R -313\n",
        "A VERY COHICE FHNKEY WAS TAKEN IMM AND R -321\n",
        "A VERY CHOICE FONKEY WAS TAKEN IMM ANX R -310\n",
        "A VERY CHOICE FONKEY WAS QAKEN IMM AND R -578\n",
        "AHVERYHC OICEHFONKEYHWASHTAKENHIMMHANDHR -403\n",
        "A VERY CHOICE FODKEY WAS TAKED IMM ADN R -308\n",
        "A VERQ CHOICE FONKEQ WAS TAKEN IMM AND R -335\n",
        "AOVERYOCH ICEOP NKEYOWASOTAKENOIMMOANDOR -369\n",
        "A VERY CHOICE PONSEY WAK TASEN IMM AND R -315\n",
        "L VERY CHOICE MONKEY WLS TLKEN IPP LND R -336\n",
        "A VERY CHOICE MOXKEY WAS TAKEX IPP AXD R -355\n",
        "AGVERYGCHOICEGPONKEYGWASGTAKENGIMMGANDGR -443\n",
        "A VERY CHOICE PONKEY WAS XAKEN IMM AND R -434\n",
        "A VERY KHOIKE PONCEY WAS TACEN IMM AND R -301\n",
        "A VERY GHOIGE MONKEY WAS TAKEN IXX AND R -325\n",
        "A VERY GHOIGE PONKEY WAS TAKEN IMM AND R -296\n",
        "A VERY GOHIGE FHNKEY WAS TAKEN IMM AND R -321\n",
        "A VESY GHOIGE FONKEY WAR TAKEN IMM AND S -301\n",
        "A VERY GHTIGE FTNKEY WAS OAKEN IMM AND R -350\n",
        "A IERY GHOVGE FONKEY WAS TAKEN VMM AND R -447\n",
        "A REVY GHOIGE FONKEY WAS TAKEN IMM AND V -305\n",
        "A CERY VHOIVE FONKEY WAS TAKEN IMM AND R -318\n",
        "A VERY CHOICE FONKEY WAS DAKEN IMM ANT R -331\n",
        "ASVERYSCHOICESFONKEYSWA STAKENSIMMSANDSR -363\n",
        "K VERY CHOICE FONAEY WKS TKAEN IMM KND R -367\n",
        "A VERY CHOICE FONKEY WAS TAKEN IMM AND R -294\n",
        "A VERY CHOICE FONKEY WAS TAKEN IMM AND R -294\n",
        "A VERY JHOIJE FONKEY WAS TAKEN IMM AND R -322\n",
        "A VERY CHOICE FONKEY BAS TAKEN IMM AND R -303\n",
        "A VERZ CHOICE FONKEZ WAS TAKEN IMM AND R -335\n",
        "ATVERYTCHOICETFONKEYTWAST AKENTIMMTANDTR -367\n",
        "A VEFY CHOICE RONKEY WAS TAKEN IMM AND F -304\n",
        "T VERY CHOICE FONKEY WTS ATKEN IMM TND R -355\n",
        "A VERY CHOICE FONKEY WAS TAKEN IMM AND R -294\n",
        "A VEJY CHOICE FONKEY WAS TAKEN IMM AND J -331\n",
        "A VERY CHOICE FONKEY WAS TAKEN IMM AND REQUSED TO EAT IT WAS THOUGHT HOWEVER THAT ITS ALLETITE FIGHT BE STIFUMATED BY A LINEALLME\n",
        "```\n",
        "\n"
      ]
    },
    {
      "cell_type": "markdown",
      "metadata": {
        "id": "tiBnldJIUW65"
      },
      "source": [
        "As you can see, this gives something close to a sentence that is not too difficult to understand. However, some swaps will be needed and the last word of the sentence is currently illegible. This wouldn't be too challenging to manually decipher but our optimised algorithm now gives us the option to consider trigram probabilities instead."
      ]
    },
    {
      "cell_type": "code",
      "metadata": {
        "id": "2We-Oxk2Umlv"
      },
      "source": [
        "decodedMsg, score, cipher, graph = metropolis2(codedMsg[4], probsEnglish2, 12000, T1([10,0.1]), {}, True, 3, False, zero = 1e-10)\n",
        "print(decodedMsg)"
      ],
      "execution_count": null,
      "outputs": []
    },
    {
      "cell_type": "markdown",
      "metadata": {
        "id": "d7e4HP1pPADY"
      },
      "source": [
        "We ran this separately and got the fully decoded message:\n",
        "\n",
        "\n",
        "\n",
        "```\n",
        "IZWLXSZF QEFLZTQUVLSZMIHZCIVLUZEDDZIUPZX -2299\n",
        "SABUGNAW OEWUAROFKUNAYSHATSKUFAELLASFPAG -1155\n",
        "SABEGYAT OITEADONKEYAWSHAMSKENAILLASNRAG -959\n",
        "SABEGCAD OIDEAVONKECAYSHATSKENAILLASNMAG -881\n",
        "SAHEDWAX OPXEAVORYEWAISNATSYERAPLLASRMAD -1022\n",
        "SAMEDWAX OIXEAVONCEWARSPAYSCENAILLASNHAD -1037\n",
        "SAYEHWAC OICEAVOFDEWANSRATSDEFAILLASFPAH -875\n",
        "SAYEHWAC OICEAFODBEWANSMATSBEDAILLASDUAH -944\n",
        "SAYE WABHOUBEAMONFEWAKSCATSFENAURRASNLA  -840\n",
        "SAYEDWABHOIBEAJORPEWAKSCATSPERAIMMASR AD -902\n",
        "SAXEDWAKHOIKEANO CEWAVSPATSCE AIRRAS MAD -908\n",
        "GAXEDWAYHOIYEACO MEWALGPATGME AIRRAG NAD -1013\n",
        "SAXEDWALHOILEABO VEWANSFATSVE AIRRAS MAD -966\n",
        "SAYEDWALHOILEACOFBEWANS ATSBEFAIRRASFMAD -873\n",
        "SAFEMWALHOILEACOKBEWANS ATSBEKAIRRASKDAM -840\n",
        "SAGEDFALHOILEACOKBEFANS ATSBEKAIRRASKMAD -911\n",
        " AXEDFALWOILEACOKBEFAN SAT BEKAIRRA KMAD -932\n",
        " AXEDWAZHOIZEACOKBEWAN LAT BEKAIRRA KMAD -875\n",
        " ADEVWASHOISEACORBEWAK NAT BERAILLA RMAV -830\n",
        "A VEYX RHOIRE BOSNEX DAM TANES ILL ASP Y -762\n",
        "A VETS CHOICE BORKES NAM WAKER IFF ARY T -893\n",
        "A PERY CHOICE BONKEY WAX TAKEN IFF ANS R -751\n",
        "ANPERYNCHOICENBO KEYNWAMNTAKE NILLNA SNR -1005\n",
        "A BTRY CHOICT DONKTY WAM EAKTN ILL ANS R -1085\n",
        "A VURY CHOICU BONKUY WAM TAKUN ILL ANS R -931\n",
        "S VERP CHOICE BONKEP WSM TSKEN IFF SND R -813\n",
        "A VERY CHOICE BONKEY WAS TAKEN IFF AND R -677\n",
        "A VEPY CHOICE RONKEY WAS TAKEN IFF AND P -592\n",
        "A VERY CHOICE PONKEY DAS TAKEN ILL ANW R -619\n",
        "W VERY CHOICE FONKEY AWS TWKEN ILL WND R -821\n",
        "A VERY CHOICE FONKEY MAS TAKEN ILL AND R -582\n",
        "A VERY CHZICE FZNKEY WAS TAKEN ILL AND R -805\n",
        "A VERY LHOILE FONKEY WAS TAKEN ICC AND R -660\n",
        "A VERY CHTICE MTNKEY WAS OAKEN ILL AND R -793\n",
        "A VERY CHOICE MONKEY WAS TAKEN ILL AND R -616\n",
        "A IERY CHOVCE MONKEY WAS TAKEN VLL AND R -924\n",
        "A VERY CHOICE MOPKEY WAS TAKEP ILL APD R -638\n",
        "A VERY CTOICE MONKEY WAS HAKEN ILL AND R -738\n",
        "A VERY CHOICE MONUEY WAS TAUEN ILL AND R -696\n",
        "A CERY VHOIVE MONKEY WAS TAKEN ILL AND R -612\n",
        "A VERY CHOICE MONSEY WAK TASEN ILL AND R -642\n",
        "A GERY CHOICE MONKEY WAS TAKEN ILL AND R -666\n",
        "A VERY CHOICE MONXEY WAS TAXEN ILL AND R -607\n",
        "A VERY CHOICE SONKEY WAM TAKEN ILL AND R -591\n",
        "A VERY CHOICE QONKEY WAS TAKEN ILL AND R -649\n",
        "A VEOY CHRICE MRNKEY WAS TAKEN ILL AND O -728\n",
        "X VERY CHOICE MONKEY WXS TXKEN ILL XND R -935\n",
        "A VERY CDOICE MONKEY WAS TAKEN ILL ANH R -803\n",
        "AXVERYXCHOICEXMONKEYXWASXTAKENXILLXANDXR -1549\n",
        "A VERP CHOICE MONKEP WAS TAKEN ILL AND R -641\n",
        "A VERY CHOICE MOQKEY WAS TAKEQ ILL AQD R -760\n",
        "A VERY CHOICE PONKEY WAS TAKEN ILL AND R -578\n",
        "A VERY CHOICE QONKEY WAS TAKEN ILL AND R -648\n",
        "A VERY CHOICE MONKEY WAS TAKEN ILL ANF R -595\n",
        "A VERY CBOICE MONKEY WAS TAKEN ILL AND R -716\n",
        "A VERY CHBICE MBNKEY WAS TAKEN ILL AND R -724\n",
        "A VERY CHOICE MONKEY WAS TAKEN ILL AND R -660\n",
        "A VERY CHOICE MONKEY WAB TAKEN ILL AND R -646\n",
        "AFVERYFCHOICEFMONKEYFWASFTAKENFILLFANDFR -1020\n",
        "A VERY CHOICE GONKEY WAS TAKEN ILL AND R -632\n",
        "A VERY CHOICE MONJEY WAS TAJEN ILL AND R -594\n",
        "A VWRY CHOICW MONKWY EAS TAKWN ILL AND R -995\n",
        "A VERY NHOINE MOCKEY WAS TAKEC ILL ACD R -627\n",
        "A VERY CHOICE MONKEY WAS TAKEN ILL AND R -572\n",
        "A VERY CWOICE MONKEY HAS TAKEN ILL AND R -720\n",
        "A VERY CHOICE MOKNEY WAS TANEK ILL AKD R -615\n",
        "A VERY CHOICE MONKEY WAS TAKEN IXX AND R -653\n",
        "A VEPY CHOICE MONKEY WAS TAKEN ILL AND P -594\n",
        "A VECY RHOIRE MONKEY WAS TAKEN ILL AND C -591\n",
        "A TERY CHOICE MONKEY WAS VAKEN ILL AND R -972\n",
        "A VERY WHOIWE MONKEY CAS TAKEN ILL AND R -594\n",
        "A VERL CHOICE MONKEL WAS TAKEN IYY AND R -692\n",
        "A VERY CHOICE MONZEY WAS TAZEN ILL AND R -580\n",
        "A VERY CHOICE MONKEY WAS TAKEN ILL AND R -548\n",
        "A VERY CHOICE MONKEY WAS JAKEN ILL AND R -1122\n",
        "A VERY CHOICE MONKEY WAS TAKEN ILL AND R -632\n",
        "A VERY CHOBCE MONKEY WAS TAKEN BLL AND R -836\n",
        "A VERY CHOICE MONKEY WAS TAKEN ILL AND R -548\n",
        "A VERY JHOIJE MONKEY WAS TAKEN ILL AND R -640\n",
        "A VERY CHOICE SONKEY WAM TAKEN ILL AND R -591\n",
        "AWVERYWCHOICEWMONKEYW ASWTAKENWILLWANDWR -968\n",
        "A VERY CHOICE MONKEY WAS TAKEN ILL ANU R -694\n",
        "A MERY CHOICE VONKEY WAS TAKEN ILL AND R -570\n",
        "D VERY CHOICE MONKEY WDS TDKEN ILL DNA R -831\n",
        "A VERY QHOIQE MONKEY WAS TAKEN ILL AND R -641\n",
        "A VKRY CHOICK MONEKY WAS TAEKN ILL AND R -1054\n",
        "A REVY CHOICE MONKEY WAS TAKEN ILL AND V -576\n",
        "A VXRY CHOICX MONKXY WAS TAKXN ILL AND R -1197\n",
        "A VERY CHOICE MONKEY WAD TAKEN ILL ANS R -608\n",
        "A VERY CMOICE HONKEY WAS TAKEN ILL AND R -712\n",
        "A IERY CHOVCE MONKEY WAS TAKEN VLL AND R -924\n",
        "A VERL CHOICE MONKEL WAS TAKEN IYY AND R -692\n",
        "A VERY CHOICE MONKEY WAS TAKEN ILL AND R -696\n",
        "A VERY CHOICE MOFKEY WAS TAKEF ILL AFD R -619\n",
        "A VERY CHOICE MONKEY WAU TAKEN ILL AND R -676\n",
        "A VERT CHOICE MONKET WAS YAKEN ILL AND R -860\n",
        "A VERY CHOWCE MONKEY IAS TAKEN WLL AND R -841\n",
        "A VERY CHOICE MONKEY WAS TAKEN ILL AND R -650\n",
        "A VORY CHEICO MENKOY WAS TAKON ILL AND R -663\n",
        "A VERY CHOICE MONKEY WAS TAKEN ILL AND R -653\n",
        "A VERY CHOICE MONKEY WAS TAKEN ILL AND REFUSED TO EAT IT WAS THOUGHT HOWEVER THAT ITS APPETITE MIGHT BE STIMULATED BY A PINEAPPLE\n",
        "```\n",
        "\n"
      ]
    },
    {
      "cell_type": "markdown",
      "metadata": {
        "id": "xBJjHgfnVKIv"
      },
      "source": [
        "This outputs the decoded message:\n",
        "\n",
        "A VERY CHOICE MONKEY WAS TAKEN ILL AND REFUSED TO EAT IT WAS THOUGHT HOWEVER THAT ITS APPETITE MIGHT BE STIMULATED BY A PINEAPPLE\n",
        "\n",
        "Our best guess at the punctuated version is:\n",
        "\n",
        "\"A very choice monkey was taken ill and refused to eat. It was thought, however, that its appetite might be stimulated by a pineapple.\""
      ]
    },
    {
      "cell_type": "markdown",
      "metadata": {
        "id": "Re2QBKzRUpdv"
      },
      "source": [
        "Given the correct seed, using the `metropolis2` algorithm for trigrams gives a perfectly decoded message. It is clear from this that larger grams can give much better approximation for certain messages such as message 5. It seems that the length of the message might be a good indicator for the choice of gram; shorter messages may require a larger gram."
      ]
    },
    {
      "cell_type": "markdown",
      "metadata": {
        "id": "Yabhq_r4UwHX"
      },
      "source": [
        "**Coded Message 6**"
      ]
    },
    {
      "cell_type": "markdown",
      "metadata": {
        "id": "-1dxmSn0U1yS"
      },
      "source": [
        "With coded message 6, due to its length, all that is required is to use our bigram `metropolis2` algorithm. This converges almost exactly to the correct decoded message. Below we will see that, given the correct seed, only one swap is needed to arrive at the final message."
      ]
    },
    {
      "cell_type": "code",
      "metadata": {
        "id": "nV7e5TNwVCPG"
      },
      "source": [
        "decodedMsg, score, cipher, graph = metropolis2(codedMsg[5], probsEnglish2, 8000, T1([10,0.1]), {}, True, 2, False, zero = 1e-10)\n",
        "print(decodedMsg)"
      ],
      "execution_count": null,
      "outputs": []
    },
    {
      "cell_type": "markdown",
      "metadata": {
        "id": "IcgxkhKjPY3b"
      },
      "source": [
        "Again, running the algorithm separately we arrived at:\n",
        "\n",
        "\n",
        "\n",
        "```\n",
        "RVRRKZHKTVYPJCGVCHGVGXECUKRKZGRSKZKWGVGR -1808\n",
        "RERRGWPGNEDAHI EIP E JKIUGRGW RSGWGY E R -802\n",
        "OROOPWMPARDSKI RIM R JFINPOPW OUPWPH R O -773\n",
        "OEOOPLYPNESTWA EAY E QKAUPOPL OFPLPI E O -748\n",
        "OSOOIMNIASTPRE SEN S ZGEKIOIM OFIMIC S O -699\n",
        "RSRRILNIASGOHE SEN S ZWEMIRIL RCILIT S R -708\n",
        "RSRRALMAISGBTE SEM S WUEKARAL RCALAY S R -691\n",
        "LELLORAOSEDCTN ENA E VUNBOLOR LMOROF E L -691\n",
        "IOIIERSETOBCAU OUS O GFUHEIER IMERED O I -651\n",
        "MOMMERBEPOSCAU OUB O NTUKEMER MIEREW O M -676\n",
        "FOFFERPEIOSAKU OUP O LNUDEFER FHEREC O F -642\n",
        "PSPPEDFEISLOAU SUF S RBUNEPED PHEDEG S P -638\n",
        "BSBBERTEISLOAU SUT S DPUNEBER BYEREG S B -608\n",
        "BSBBEVTEISLOAU SUT S MWUGEBEV BYEVEP S B -740\n",
        "LSLLERUEISNACO SOU S MWOGELER LYERED S L -642\n",
        "TSTTERDEISNAYO SOD S PUOMETER TCEREG S T -646\n",
        "TSTTENWEISLHYODSOWDSDJUOFETENDTGENEMDSDT -801\n",
        "TSTTANDAJSLHEO SOD S UIOBATAN TWANAM S T -737\n",
        "TSTTZDLZUSMHEN SNL S JINBZTZD TWZDZY S T -1213\n",
        "TOTTADGAFOPHEN ONG O JINSATAD TWADAU O T -617\n",
        "TFTTARGAMFPHEN FNG F JINDATAR TWARAU F T -669\n",
        "TOTTARDAMOPHEN OND O JINCATAR TWARAL O T -584\n",
        "TOTTARDAMOPWEN OND O SINCATAR THARAL O T -609\n",
        "TOTTARDASOP ENWONDWOWGINMATARWTHARALWOWT -743\n",
        "MOMMARDASOPWEN OND O XINTAMAR MHARAL O M -624\n",
        "TOTTQRDQBOPWAN OND O JINMQTQR THQRQS O T -1097\n",
        "TATTERDEBALWON AND A JINKETER THERES A T -535\n",
        "NANNERDEBALWOT ATD A JITKENER NHEREP A N -642\n",
        "TATTERYEBALUIN ANY A JONKETER THEREF A T -542\n",
        "WAWWERDEBALUIN AND A JONKEWER WHEREP A W -559\n",
        "TATTERDECALOIN AND A JUNKETER THEREF A T -540\n",
        "TOTTERDEBOLIAF OFD O MUFKETER THEREN O T -556\n",
        "TOTTERDEBOLIAN OND O MUNKETER THERES O T -521\n",
        "TATTERDEMALION AND A BUNKETER TYERES A T -559\n",
        "TATTERDEWALION AND A JUNKETER THERES A T -504\n",
        "TATTERFEMALION ANF A BUNKETER THERES A T -522\n",
        "YAYYERDEMALION AND A JUNKEYER YHERES A Y -562\n",
        "TATTERDEMALION AND A JUNKETER THERES A T -489\n",
        "TATTERDEMALIONQANDQAQJUNKETERQTHERESQAQT -1425\n",
        "TATTERDEYALION AND A JUNKETER THERES A T -515\n",
        "TATTERDEMALION AND A JUNKETER TWERES A T -514\n",
        "TATTGRDGMALION AND A JUNKGTGR THGRGS A T -612\n",
        "TATTERDEMAPION AND A BUNKETER THERES A T -501\n",
        "NANNERDEMALIOT ATD A BUTKENER NHERES A N -567\n",
        "TATTERZEMALION ANZ A BUNKETER THERES A T -549\n",
        "TATTERDEMALION AND A QUNKETER THERES A T -514\n",
        "TATTECDEMALION AND A BUNKETEC THECES A T -515\n",
        "TATTERDEMALION AND A QUNKETER THERES A T -474\n",
        "TATTERDEMALION AND A QUNGETER THERES A T -487\n",
        "TATTERDEMALION AND A QUNKETER THERES A T -481\n",
        "TATTERDEMALIUN AND A QONKETER THERES A T -524\n",
        "TATTERDEMALION AND A QUNPETER THERES A T -498\n",
        "TATTERDEMALION AND A QUNKETER THEREJ A T -559\n",
        "TETTARDAMELION END E QUNKATAR THARAS E T -505\n",
        "TATTERDEMALION AND A QUNKETER THERES A T -502\n",
        "TATTERDEMALIOG AGD A QUGKETER THERES A T -542\n",
        "TATTERDEMALION AND A QUNKETER THERES A T -487\n",
        "TATTERDEMALION AND A QUNWETER THERES A T -494\n",
        "TATTMRDMEALION AND A QUNKMTMR THMRMS A T -606\n",
        "TATTERDEMALION AND A FUNKETER THERES A T -607\n",
        "TATTERDEMALION AND A QUNKETER THERES A T -474\n",
        "TUTTERDEMULION UND U QANKETER THERES U T -525\n",
        "TATTPRDPMALION AND A BUNKPTPR THPRPS A T -595\n",
        "TATTERDEMALION AND A BUNKETER TYERES A T -539\n",
        "TATTVRDVMALION AND A BUNKVTVR THVRVS A T -887\n",
        "TATTERDEMALIBN AND A OUNKETER THERES A T -544\n",
        "TATTSRDSMALION AND A BUNKSTSR THSRSE A T -570\n",
        "TATTERDEUALION AND A BMNKETER THERES A T -519\n",
        "TATTERDEMALION AND A BQNKETER THERES A T -555\n",
        "TATTERDEMALION AND A BUNKETER THERES A T -504\n",
        "TATTEBDEMALION AND A RUNKETEB THEBES A T -523\n",
        "TATTERDEMALIONKANDKAKBUN ETERKTHERESKAKT -768\n",
        "TATTERDEMALION AND A BUNKETER THERES A T -474\n",
        "TATTZRDZMALION AND A QUNKZTZR THZRZS A T -1105\n",
        "TATTERDEMALION AND A QUNSETER THEREK A T -505\n",
        "TATTECDEMALION AND A QUNKETEC THECES A T -514\n",
        "TATTERDECALION AND A QUNKETER THERES A T -496\n",
        "TATTSRDSMALION AND A QUNKSTSR THSRSE A T -570\n",
        "TATTERDEMALION AND A QUNKETER TWERES A T -513\n",
        "TATTERDEMANIOL ALD A QULKETER THERES A T -509\n",
        "TATTKRDKMALION AND A BUNEKTKR THKRKS A T -670\n",
        "TUTTERDEMULION UND U BANKETER THERES U T -525\n",
        "TATTERDEMAHION AND A QUNKETER TLERES A T -524\n",
        "WAWWERDEMALION AND A QUNKEWER WHERES A W -494\n",
        "THTTERDEMHLION HND H QUNKETER TAERES H T -596\n",
        "QAQQERDEMALION AND A BUNKEQER QHERES A Q -822\n",
        "TATTERDEMALION AND A QUNKETER THERES A T -537\n",
        "TATTERDEMALION AND A QUNKETER TVERES A T -535\n",
        "TATTREDRMALION AND A QUNKRTRE THRERS A T -531\n",
        "TRTTEADEMRLION RND R BUNKETEA THEAES R T -532\n",
        "TATTERDEMALION AND A BFNKETER THERES A T -526\n",
        "TATTERDEMALION AND A BJNKETER THERES A T -544\n",
        "TATTERDEMALION AND A BUNKETER THERES A T -487\n",
        "XAXXERDEMALION AND A BUNKEXER XHERES A X -644\n",
        "TATTGRDGMALION AND A QUNKGTGR THGRGS A T -611\n",
        "TATTERDEMALION AND A QUNKETER THERES A T -474\n",
        "TATTERDEMALSON AND A BUNKETER THEREI A T -512\n",
        "TATTERDEMALIVN AND A BUNKETER THERES A T -619\n",
        "TATTERDEMALION AND A BUNKETER THERES A T -500\n",
        "TATTERDEMALION AND A PUNKETER THERES A T -482\n",
        "TATTERDEMALION AND A BUNKETER THERES A THIEF AND A DRAGONFLY TRUMPETER HES MY HERO FAIRY DANDY TICKLING THE FANCY OF HIS LADY FRIEND THE NYMPH IN YELLOW CAN WE SEE THE MASTER STROKE WHAT A QUAERE FELLOW\n",
        "```\n",
        "\n",
        "This requires only one swap, changing B to J. \n",
        "\n"
      ]
    },
    {
      "cell_type": "markdown",
      "metadata": {
        "id": "8fKElggNVthK"
      },
      "source": [
        "This outputs the decoded message:\n",
        "\n",
        "TATTERDEMALION AND A JUNKETER THERES A THIEF AND A DRAGONFLY TRUMPETER HES MY HERO FAIRY DANDY TICKLING THE FANCY OF HIS LADY FRIEND THE NYMPH IN YELLOW CAN WE SEE THE MASTER STROKE WHAT A QUAERE FELLOW\n",
        "\n",
        "Our best guess at a punctuated version is:\n",
        "\n",
        "\"Tatterdemalion and Junkter,\n",
        "\n",
        "There's a thief and a dragonfly trumpeter, He's my hero,\n",
        "\n",
        "fairy dandy tickling the fancy of his lady friend \n",
        "\n",
        "The nymph in yellow\n",
        "\n",
        "Can we see the master stroke?\n",
        "\n",
        "What a quaere fellow.\""
      ]
    },
    {
      "cell_type": "markdown",
      "metadata": {
        "id": "Q-iiIEjzVIzm"
      },
      "source": [
        "**Coded Message 7**"
      ]
    },
    {
      "cell_type": "markdown",
      "metadata": {
        "id": "WWItzJyBVM3e"
      },
      "source": [
        "This message, like coded message 5, is particularly short so might require the use of the trigram or maybe even larger gram, but initially we will see how it fairs just using bigrams. "
      ]
    },
    {
      "cell_type": "code",
      "metadata": {
        "id": "DwUJXdAOVMLh"
      },
      "source": [
        "decodedMsg, score, cipher, graph = metropolis2(codedMsg[6], probsEnglish2, 50000, T1([10,0.1]), {}, True, 2, False, zero = 1e-5)\n",
        "print(decodedMsg)"
      ],
      "execution_count": null,
      "outputs": []
    },
    {
      "cell_type": "markdown",
      "metadata": {
        "id": "8JHkh0NNVfT8"
      },
      "source": [
        "Clearly, it gets close enough for some understanding of the message but many swaps would be needed and often the first word is illegible. Now that we have the option, we will see whether running metropolis with a larger gram gives a better approximation. "
      ]
    },
    {
      "cell_type": "code",
      "metadata": {
        "id": "2KvKRZofVkND"
      },
      "source": [
        "decodedMsg, score, cipher, graph = metropolis2(codedMsg[6], probsEnglish2, 50000, T1([10,0.1]), {}, True, 5, False, zero = 1e-5)\n",
        "print(decodedMsg)"
      ],
      "execution_count": null,
      "outputs": []
    },
    {
      "cell_type": "markdown",
      "metadata": {
        "id": "eRJZaeDBVoBE"
      },
      "source": [
        "After some adjustments we managed to find a seed and intial conditions that output a perfectly decoded message. Interestingly this required the use a 5-gram to decode.\n",
        "\n",
        "\n",
        "\n",
        "```\n",
        "Seed: 5605643096397643010\n",
        "LOJ WUZCWKCTFHHFHTWUZFHQWMZEUW EAWKCWUZC -461\n",
        "VTNGUAWDUKDLYSSYSLUAWYSXUZWHAUGH UKDUAWD -452\n",
        "FK UJDTOJAOGZPPZPGJDTZPYJCTSDJUSVJAOJDTO -461\n",
        "DGEQTWIATSAZUNNUNZTWIUNMTFICWTQCOTSATWIA -461\n",
        "EDSUMRPIMZINTGGTGNMRPTGLMOPWRMUWKMZIMRPI -461\n",
        "BJ DPYZGPQGEUMMUMEPYZUMKPAZRYPDRLPQGPYZG -461\n",
        "UCONFLWXFKXTGBBGBTFLWGBQFRWDLFNDAFKXFLWX -457\n",
        "JO UNTGVNZVMDEEDEMNTGDEYNCGFTNUFQNZVNTGV -461\n",
        "FDQPUXAZUGZCJNNJNCUXAJNSUIAEXUPE UGZUXAZ -461\n",
        "GEFDSBQLSXLTPKKPKTSBQPKHSMQRBSDRISXLSBQL -461\n",
        "SJVHGWCUGZUEAXXAXEGWCAX GFCYWGHYQGZUGWCU -461\n",
        "JLYGEWNOE OSITTITSEWNITQEANCWEGCBE OEWNO -454\n",
        "WICVQLPRQNRJASSASJQLPASDQEP LQV ZQNRQLPR -460\n",
        " JRMSCAGSFGULPPLPUSCALPBSVAXCSMXHSFGSCAG -459\n",
        "CTBSZFXMZOMLINNINLZFXINJZPXWFZSWQZOMZFXM -456\n",
        "SMAPUQNLU LVEOOEOVUQNEOIUZNJQUPJRU LUQNL -461\n",
        "SLBKEQPHEUHIGFFGFIEQPGFTEAPRQEKRMEUHEQPH -461\n",
        "JEXSIHYKINKZTRRTRZIHYTRQIWY HIS FINKIHYK -433\n",
        "ZNJD SHE LEAQVVQVA SHQVY BHIS DIM LE SHE -409\n",
        "BVUS TNE MEOKHHKHO TNKHQ CNAT SAY ME TNE -428\n",
        "VXUSKTHEKBEMROOROMKTHRONKWHATKSAYKBEKTHE -450\n",
        "SRCX TBE HEGINNING TBIND WBJT XJO HE TBE -404\n",
        "YORM THE BEGIFFIFG THIFK WHAT MAD BE THE -331\n",
        "FVRM THS BSGINNING THINK WHAT MAY BS THS -346\n",
        "DQOW THE BEGINNING THINK MHAT WAY BE THE -281\n",
        "CDUL THE BEGINNING THINK WHAT LAY BE THE -267\n",
        "TFSO PHE BEGINNING PHIND WHAP OAK BE PHE -374\n",
        "XPOMNTHENBEGI  I GNTHI DNWHATNMAYNBENTHE -441\n",
        "LORM WHE BEGINNING WHIND THAW MAY BE WHE -326\n",
        "XZPS TGE BEHINNINH TGIND WGAT SAY BE TGE -403\n",
        "ZUPS THE REGINNING THIND WHAT SAY RE THE -282\n",
        "KVJLATHEABEGINNINGATHINDAWH TAL YABEATHE -405\n",
        "CXUS THE BEGINNING THINK WHAT SAY BE THE -260\n",
        "VOUS THE BEWINNINW THINK GHAT SAY BE THE -319\n",
        "ROUS THE BELINNINL THINK WHAT SAY BE THE -291\n",
        "PRDS THC BCGINNING THINK WHAT SAY BC THC -349\n",
        "QJXS THE BEGINNING THINK WHCT SCY BE THE -308\n",
        "ZORS THE BEGINNING THINK DHAT SAY BE THE -275\n",
        "CROM THE BEGINNING THINK WHAT MAY BE THE -250\n",
        "FRPM THE BEGINNING THINK WHAT MAY BE THE -262\n",
        "FROM TQE BEGINNING TQINK WQAT MAY BE TQE -366\n",
        "FROM THE BEGINNING THINZ WHAT MAY BE THE -259\n",
        "FROM THE BEGINNING THINK WHAT MAY BE THE -243\n",
        "FROM THE BEGINNING THIND AHWT MWY BE THE -291\n",
        "FROM THE BEGWNNWNG THWNK IHAT MAY BE THE -325\n",
        "FROM THE BEGINNING THINV WHAT MAY BE THE -261\n",
        "FROQ THE BEGINNING THINK WHAT QAY BE THE -290\n",
        "FQOM THE BEGINNING THIND WHAT MAY BE THE -257\n",
        "FROW THE BEGINNING THIND MHAT WAY BE THE -281\n",
        "SROM THE BEGINNING THIND WHAT MAY BE THE -250\n",
        "FROM THE BEGIVVIVG THIVK WHAT MAY BE THE -306\n",
        "FROM THE BEGIYYIYG THIYK WHAT MAN BE THE -312\n",
        "FROM THE BEGINNING THINK WHAT MAY BE THE -239\n",
        "FROM THE BEGINNING THIND WHAT MAY BE THE -242\n",
        "FROM THE XEGINNING THIND WHAT MAY XE THE -292\n",
        "FROM CHE BEGINNING CHIND WHAC MAY BE CHE -332\n",
        "FRO MTHEMBEGINNINGMTHINDMWHATM AYMBEMTHE -424\n",
        "FROM IHE BEGTNNTNG IHTNK WHAI MAY BE IHE -393\n",
        "FROM THE BEGINNING THINK WHAT MAY BE THE -239\n",
        "FROM THE BEGWNNWNG THWNK IHAT MAY BE THE -323\n",
        "FROM THE BEGINNING THINK WHXT MXY BE THE -287\n",
        "VROM THE BEGINNING THINK WHAT MAY BE THE -247\n",
        "FROM THE BEGINNING THINK WHAT MAY BE THE -239\n",
        "FROX THE BEGINNING THINK WHAT XAY BE THE -289\n",
        "FROM UHE BEGINNING UHINK WHAU MAY BE UHE -351\n",
        "FROM THE BEGINNING THINK WHAT MAY BE THE -239\n",
        "FROM THE BEQINNINQ THINK WHAT MAY BE THE -290\n",
        "FROMNTHENBEGI  I GNTHI KNWHATNMAYNBENTHE -440\n",
        "FROM THE BEGINNING THINK WHAT MAY BE THE -239\n",
        "FRBM THE OEGINNING THINK WHAT MAY OE THE -299\n",
        "FROQ THE BEGINNING THINK WHAT QAY BE THE -290\n",
        "FROM CHE BEGINNING CHINK WHAC MAY BE CHE -335\n",
        "FROM THE BEGINNING THINK WHAT MAY BE THE -239\n",
        "FROC THE BEGINNING THINK WHAT CAY BE THE -281\n",
        "FROM THE BEGINNING THINK WHAT MAY BE THE -241\n",
        "FROM THE BEGINNING THINK WHAT MAY BE THE -239\n",
        "FIOM THE BEGRNNRNG THRNK WHAT MAY BE THE -312\n",
        "FROM THE BEGINNING THINU WHAT MAY BE THE -255\n",
        "FROM THE BEGINNING THINK WHCT MCY BE THE -284\n",
        "FROM TSE BEGINNING TSINK WSAT MAY BE TSE -352\n",
        "FROM THI BIGENNENG THENK WHAT MAY BI THI -363\n",
        "FROM THE BEGINNING THINK WHAT MAY BE THE -239\n",
        "AROM THE BEGINNING THINK WHFT MFY BE THE -295\n",
        "FROMBTHEB EGINNINGBTHINKBWHATBMAYB EBTHE -430\n",
        "GROM THE BEFINNINF THINK WHAT MAY BE THE -289\n",
        "FROM THE BEGXNNXNG THXNK WHAT MAY BE THE -302\n",
        "FROM THE WEGINNING THINK BHAT MAY WE THE -280\n",
        "FROM THQ BQGINNING THINK WHAT MAY BQ THQ -334\n",
        "FROM THE BEGINNING THINK WHAT MAY BE THE -239\n",
        "FROM THE BEGJNNJNG THJNK WHAT MAY BE THE -302\n",
        "F OMRTHERBEGINNINGRTHINKRWHATRMAYRBERTHE -390\n",
        "FRO MTHEMBEGINNINGMTHINKMWHATM AYMBEMTHE -418\n",
        "FRUM THE BEGINNING THINK WHAT MAY BE THE -257\n",
        "FROMVTHEVBEGINNINGVTHINKVWHATVMAYVBEVTHE -427\n",
        "FROM THE BEGXNNXNG THXNK WHAT MAY BE THE -302\n",
        "FROM THE BEGINNING THIND WHAT MAY BE THE -242\n",
        "FROM THE BESINNINS THINK WHAT MAY BE THE -268\n",
        "EROM THF BFGINNING THINK WHAT MAY BF THF -343\n",
        "FROM THE BEGINNING THINK WHAT MAY BE THE -239\n",
        "FROM NHE BEGITTITG NHITK WHAN MAY BE NHE -395\n",
        "FROM THE BEGINNING THINK WHAT MAY BE THE END\n",
        "```\n",
        "\n",
        "\n"
      ]
    },
    {
      "cell_type": "markdown",
      "metadata": {
        "id": "4YFj0YGuNxcj"
      },
      "source": [
        "The final decoded message is:\n",
        "\n",
        "FROM THE BEGINNING THINK WHAT MAY BE THE END\n",
        "\n",
        "Our best guess at a punctuated version is:\n",
        "\n",
        "\"From the beginning, think what may be the end.\""
      ]
    },
    {
      "cell_type": "markdown",
      "metadata": {
        "id": "Pt3MsatEV2M0"
      },
      "source": [
        "**Coded Message 8**"
      ]
    },
    {
      "cell_type": "markdown",
      "metadata": {
        "id": "28NH70_LWEyg"
      },
      "source": [
        "This message can be worked out perfectly and very quickly with both the bigram and trigram `metropolis2` algorithm but using bigrams is more efficient in this situation. From below we can see that it can be solved in only 5000 iterations."
      ]
    },
    {
      "cell_type": "code",
      "metadata": {
        "id": "LNqjBQ5fWDtN"
      },
      "source": [
        "decodedMsg, score, cipher, graph = metropolis2(codedMsg[7], probsEnglish2, 5000, T1([10,0.1]), {}, True, 2, False, zero = 1e-5)\n",
        "print(decodedMsg)"
      ],
      "execution_count": null,
      "outputs": []
    },
    {
      "cell_type": "markdown",
      "metadata": {
        "id": "cTd8FxPMAeND"
      },
      "source": [
        "Below we have a decoding that we have performed previously:\n",
        "\n",
        "\n",
        "\n",
        "```\n",
        "EYENXRPSURPGUUIRKSUGURSHYY NXRCUUIREPRCH -1138\n",
        "EDEKNRYSORY OOTRXSO ORSUDDHKNRIOOTREYRIU -1096\n",
        "ECEPIRYSXRY XXARDSX XRSUCCMPIRKXXAREYRKU -1271\n",
        "ECELIRYSARY AATRDSA ARSNCCMLIRUAATREYRUN -993\n",
        "ECELP YST YRTTA WSTRT SNCCULP VTTA EY VN -939\n",
        "EMELK YIT YRTTA WITRT INMMULK BTTA EY BN -936\n",
        "TNTRK GHE GSEEI FHESE HWNNURK BEEI TG BW -851\n",
        "TPTLY WHE WSEEI FHESE HNPPMLY BEEI TW BN -879\n",
        "ZSZLY WHE WNEEI FHENE HRSSCLY UEEI ZW UR -1040\n",
        "ABALS WHE WNEEI KHENE HRBBULS TEEI AW TR -832\n",
        "ABALD WHE WNEEI SHENE HRBBULD CEEI AW CR -792\n",
        "ATAND WHS WESSY PHSES HLTTUND CSSY AW CL -890\n",
        "AYAND WHE WSEET GHESE HBYYUND FEET AW FB -804\n",
        "AXAND FHE FSEET GHESE HBXXOND REET AF RB -827\n",
        "AXAND WHE WSEET MHESE HBXXIND GEET AW GB -799\n",
        "AXAND WHE WSEET UHESE HBXXIND FEET AW FB -798\n",
        "AZAND WHE WSEET VHESE HYZZIND MEET AW MY -769\n",
        "AZANG WSE WHEET KSEHE SYZZING REET AW RY -801\n",
        "AMANG WHE WSEET KHESE HYMMPNG REET AW RY -799\n",
        "DMDNG WHE WSEET KHESE HYMMING REET DW RY -818\n",
        "AFANG WHE WSEET CHESE HYFFING REET AW RY -728\n",
        "AYAXG WHE WSEET CHESE HRYYIXG FEET AW FR -859\n",
        "AYAQG WHE WSEET CHESE HRYYIQG FEET AW FR -923\n",
        "APANG WHY WSYYT CHYSY HRPPING FYYT AW FR -829\n",
        "AMANG CHE CTEES WHETE HRMMING PEES AC PR -723\n",
        "AZANG WHE WLEES CHELE HRZZING UEES AW UR -719\n",
        "ANAZG WHE WTEES CHETE HRNNIZG MEES AW MR -881\n",
        "AZANG WHE WMEES CHEME HRZZING TEES AW TR -717\n",
        "AFANG WHE WMEES CHEME HRFFING TEES AW TR -733\n",
        "AKANG WYE WMEES CYEME YRKKING TEES AW TR -768\n",
        "APANG WHE WMEES CHEME HRPPING TEES AW TR -724\n",
        "APANG WHX WMXXS CHXMX HRPPING TXXS AW TR -1028\n",
        "ATANG WHE WREES UHERE HMTTING PEES AW PM -720\n",
        "ATANG WHE WREES CHERE HMTTING PEES AW PM -713\n",
        "AWANG YHE YREES CHERE HMWWING PEES AY PM -722\n",
        "AYANG THE TREES CHERE HMYYING FEES AT FM -701\n",
        "AWANG THE TREES CHERE HMWWING FEES AT FM -668\n",
        "AMANGT HET REESTCHERETHUMMINGTBEESTA TBU -811\n",
        "AMAGN THE TREES CHERE HUMMIGN BEES AT BU -706\n",
        "AMANG THE TREES VHERE HUMMING BEES AT BU -674\n",
        "AMANG THE TREES CHERE HUMMING BEES AT BU -667\n",
        "NMNAG THE TREES CHERE HUMMIAG BEES NT BU -775\n",
        "AMANG THE TREES CHERE HYMMING BEES AT BY -667\n",
        "AMANG RHE RTEES CHETE HUMMING BEES AR BU -710\n",
        "AMANG THE TREES CHERE HUMMING BEES AT BU -644\n",
        "AMANG THE TREES CHERE HUMMING BEES AT BU -672\n",
        "AMANG THE TQEES CHEQE HUMMING BEES AT BU -857\n",
        "AMANG THI TRIIS CHIRI HUMMENG BIIS AT BU -724\n",
        "AMANG THE TREES CHERE HUMMING BEES AT BU -638\n",
        "AMANG THE TREES CHERE HPMMING BEES AT BP -673\n",
        "APANG THE TREEZ CHERE HUPPING BEEZ AT BU -785\n",
        "APANGZTHEZTREESZCHEREZHUPPINGZBEESZATZBU -1344\n",
        "APANG THE TREES CHERE HUPPING BEES AT BU -637\n",
        "APANG THE TREES CHERE HUPPING BEES AT BU -662\n",
        "APANG THE TREES WHERE HUPPING BEES AT BU -657\n",
        "APAEG THN TRNNS WHNRN HUPPIEG BNNS AT BU -848\n",
        "ABANG THE TREES WHERE HUBBING PEES AT PU -640\n",
        "APANG THE TREES WHERE HUPPING BEES AT BU -633\n",
        "APANG THE TREES WHERE HUPPING BEES AT BU -628\n",
        "APANGRTHERT EESRWHE ERHUPPINGRBEESRATRBU -811\n",
        "APANV THE TREES WHERE HUPPINV BEES AT BU -697\n",
        "APAN GTHEGTREESGWHEREGHUPPIN GBEESGATGBU -923\n",
        "APANG THE TREEM WHERE HUPPING BEEM AT BU -659\n",
        "APANG THE TREES ZHERE HUPPING BEES AT BU -676\n",
        "APANV THE TREES WHERE HUPPINV BEES AT BU -697\n",
        "APATG NHE NREES WHERE HUPPITG BEES AN BU -755\n",
        "APANX THE TREES WHERE HUPPINX BEES AT BU -691\n",
        "APANG THE TREES WHERE HUPPBNG IEES AT IU -705\n",
        "APANG THE TREES WHERE HUPPING BEES AT BU -628\n",
        "APANG TYE TREES WYERE YUPPING BEES AT BU -694\n",
        "AQANG THE TREES WHERE HUQQING BEES AT BU -681\n",
        "APANG THE TREES WHERE HUPPING YEES AT YU -653\n",
        "APANG THE TREES WHERE HUPPING BEES AT BU -655\n",
        "AMANG EHT ERTTS WHTRT HUMMING BTTS AE BU -768\n",
        "AMANG THE TREES WHERE HUMMING BEES AT BU -628\n",
        "AMANG THE TREES WHERE HUMMYNG BEES AT BU -680\n",
        "JMJNG THE TREES WHERE HUMMING BEES JT BU -904\n",
        "AMANG EHT ERTTS WHTRT HUMMING BTTS AE BU -768\n",
        "AMANG THE TREEI WHERE HUMMSNG BEEI AT BU -692\n",
        "AMANG THE TREES WHERE HUMMKNG BEES AT BU -700\n",
        "AMANG THE TDEES WHEDE HUMMING BEES AT BU -673\n",
        "AMANG THE TREES WHERE HUMMING BEES AT BU -669\n",
        "AOANG THE TREES WHERE HUOOING BEES AT BU -676\n",
        "APANG WHE WREES THERE HUPPING BEES AW BU -656\n",
        "APANG THE TREES WHERE HUPPING BEES AT BU -639\n",
        "AMANGPTHEPTREESPWHEREPHUMMINGPBEESPATPBU -900\n",
        "AMANG RHE RTEES WHETE HUMMING BEES AR BU -696\n",
        "AMANG THE TREES WHERE HUMMONG BEES AT BU -651\n",
        "AMANG TDE TREES WDERE DUMMING BEES AT BU -730\n",
        "AMANF THE TREES WHERE HUMMINF BEES AT BU -664\n",
        "AMANG THE TREEX WHERE HUMMING BEEX AT BU -745\n",
        "AMANK THE TREES WHERE HUMMINK BEES AT BU -649\n",
        "AMANG THE TREES WHERE HUMMING BEES AT BU -654\n",
        "AMANG THE TREES WHERE HXMMING BEES AT BX -684\n",
        "AMANG THE TREES WHERE HUMMING BEES AT BU -628\n",
        "APANX THE TREES WHERE HUPPINX BEES AT BU -691\n",
        "APANG TME TREES WMERE MUPPING BEES AT BU -684\n",
        "APANG THE TREES WHERE HUPPING BEES AT BU -628\n",
        "QMQNG THE TREES WHERE HUMMING BEES QT BU -886\n",
        "AMANG THE TREEC WHERE HUMMING BEEC AT BU -685\n",
        "AMANG THE TREES WHERE HUMMING BEES AT BUDS AND FLOWERS WERE HINGING O AULD CALEDON DREW OUT HE DRONE AND TO HER PIPE WAS SINGING O TWAS PIBROCH SANG STRATHSPEYS AND REELS SHE DIRLD THEM AFF FU CLEARLY O WHEN THERE CAM A YELL O FOREIGN SQUEELS THAT DANG HER TAPSALTEERIE O\n",
        "```\n",
        "\n"
      ]
    },
    {
      "cell_type": "code",
      "metadata": {
        "id": "QSyWwkdzAuw2"
      },
      "source": [
        "decodedMsg, score, cipher, graph = metropolis2(codedMsg[7], probsEnglish2, 5000, T1([10,0.1]), {}, True, 3, False, zero = 1e-5)\n",
        "print(decodedMsg)"
      ],
      "execution_count": null,
      "outputs": []
    },
    {
      "cell_type": "markdown",
      "metadata": {
        "id": "3D3TG0aPX23c"
      },
      "source": [
        "The final decoded message is:\n",
        "\n",
        "AMANG THE TREES WHERE HUMMING BEES AT BUDS AND FLOWERS WERE HINGING O AULD CALEDON DREW OUT HE DRONE AND TO HER PIPE WAS SINGING O TWAS PIBROCH SANG STRATHSPEYS AND REELS SHE DIRLD THEM AFF FU CLEARLY O WHEN THERE CAM A YELL O FOREIGN SQUEELS THAT DANG HER TAPSALTEERIE O\n",
        "\n",
        "Our best guess at a punctuated version is:\n",
        "\n",
        "\"Amang the trees, where humming bees \n",
        "\n",
        "At buds and flowers were hinging, \n",
        "\n",
        "O, Auld Caledon drew out her drone, \n",
        "\n",
        "And to her pipe was singing, O. \n",
        "\n",
        "'Twas Pibroch, Sang, Strathpeys, and Reels, \n",
        "\n",
        "She dirl'd them aff fu' clearly, O, \n",
        "\n",
        "When there cam a yell o' foreign squeels, \n",
        "\n",
        "That dang her tapsalteerie, O!\""
      ]
    },
    {
      "cell_type": "markdown",
      "metadata": {
        "id": "MvlMSRm8Wr0_"
      },
      "source": [
        "**Coded Message 9**"
      ]
    },
    {
      "cell_type": "markdown",
      "metadata": {
        "id": "AT6DfrVwWz7a"
      },
      "source": [
        "When running this message through the `metropolis2` algorithm using our English sample text we noticed that the algorithm tended to converge on a message that, by the spelling and structure of the words, seemed to be French. You can see this below."
      ]
    },
    {
      "cell_type": "code",
      "metadata": {
        "id": "Apv2tH3HW1PO"
      },
      "source": [
        "decodedMsg, score, cipher, graph = metropolis2(codedMsg[8], probsEnglish2, 10000, T1([10,0.1]), {}, True, 2, False, zero = 1e-3)\n",
        "print(decodedMsg)"
      ],
      "execution_count": null,
      "outputs": []
    },
    {
      "cell_type": "markdown",
      "metadata": {
        "id": "RgW2FIRmW5jK"
      },
      "source": [
        "Even using the English sample text the message gets reasonably close to a grammatically correct sentence:\n",
        "\n",
        "\n",
        "\n",
        "```\n",
        "Seed: 2421280391441951146\n",
        "WDYRDYLDQCSLR KTYDPYZ LXSKTYWDYQ U KTYZO -1907\n",
        "ZD ID LDMBKLIRAY DE GRLCKAY ZD MRSRAY GO -1342\n",
        "WA NA OAKBTONERY AI GEOPTRY WA KEQERY GH -1266\n",
        "WE GE YENLIYGARS EK DAYPIRS WE NAUARS DM -1176\n",
        "IE LE OENWJOLAUS EY MAODJUS IE NAFAUS MG -1292\n",
        "METLETFENKIFLORSTEDTCOFPIRSTMETNOXORSTCB -1342\n",
        "XE FE MEHLAMFURS ET YUMVARS XE HUPURS YN -1285\n",
        "VE FE TENBATFURS EO WUTYARS VE NUPURS WL -1123\n",
        "JE XE RENVARXUTS EO CURYATS JE NUHUTS CM -1169\n",
        "FE BE RENMARBUTS EG JURKATS FE NUCUTS JH -1123\n",
        "LE TE RENDURTAIS EG PARKUIS LE NABAIS PH -1112\n",
        "CE PE RENLURPAIS ED FARZUIS CE NAXAIS FT -1087\n",
        "VE PE REOLNRPAIS ED HARZNIS VE OAMAIS HT -1204\n",
        "JE PE BENROBPAIF ED HABLOIF JE NAMAIF HT -1134\n",
        "JE FE RENHGRFIAD EY SIRZGAD JE NIVIAD ST -1167\n",
        "CE PE RENHORPIFD ES LIRXOFD CE NIVIFD LT -1153\n",
        "WE ME RENHORMIAD ES PIRXOAD WE NIFIAD PT -1071\n",
        "BE ME RENCORMIAD ES ZIRHOAD BE NIFIAD ZT -1061\n",
        "VERMER ENBO MIASREDRHI WOASRVERNICIASRHT -1244\n",
        "WEBMEBREN ORMIASBEDBFIRGOASBWEBNICIASBFT -1420\n",
        "JE UE RENBORUIAS ED FIRGOAS JE NICIAS FT -1103\n",
        "ZE CE RENYORCIAS ED FIRMOAS ZE NIPIAS FT -1054\n",
        "JE LE RENBORLIAG ED MIRVOAG JE NIHIAG MT -1065\n",
        "VE ME RENBORMIAS ED LIRWOAS VE NIPIAS LT -1031\n",
        "VE ME UENBOUMAIS ED WAUGOIS VE NAPAIS WT -1059\n",
        "VE NE REMBORNAIS ED WARFOIS VE MAPAIS WH -1060\n",
        "YE LE RENBORLFIS ED WFRMOIS YE NFPFIS WH -1066\n",
        "ME LE RENBDRLAIS EO WARKDIS ME NAPAIS WH -1143\n",
        "JE FE RENBORFDIS EA TDRMOIS JE NDPDIS TH -1105\n",
        "YE XE RENBORXAIS ED TARVOIS YE NAPAIS TH -1044\n",
        "JE LE RENBORLAIS ED TARVOIS JE NACAIS TH -1042\n",
        "JE LE RENBORLAIS ED WARVOIS JE NACAIS WH -1000\n",
        "LE ME RENBORMAIS ED WARYOIS LE NACAIS WH -993\n",
        "HE ME RENBORMAIS ED WARVOIS HE NACAIS WL -996\n",
        "HE ME RENBORMDIS EA WDRVOIS HE NDCDIS WL -1078\n",
        "HE ME RENDORMAIS EB WARVOIS HE NACAIS WL -1065\n",
        "HE ME RENBORMAIP ED WARVOIP HE NACAIP WL -1074\n",
        "WE ME RENBORMAIS ED HARKOIS WE NACAIS HL -1009\n",
        "BE ME RENTORMAIS ED WARKOIS BE NACAIS WL -1004\n",
        "WE ME RENTORMKIS ED BKRYOIS WE NKCKIS BL -1060\n",
        "BECMECRENTORMAISCEDCWARYOISCBECNAGAISCWL -1284\n",
        "BS MS RSNTORMAIE SD WARCOIE BS NAYAIE WL -1130\n",
        "WE ME RENTORMAIS EY BARCOIS WE NAVAIS BL -1049\n",
        "CE ME REUTORMAIS ED BARWOIS CE UAZAIS BL -1129\n",
        "CE ME RENTORMAIS ED BARYOIS CE NAWAIS BL -1004\n",
        "BE ME RENTORMAIS ED WARYOIS BE NAPAIS WL -1013\n",
        "VE ME RENTORMAIS ED BARYOIS VE NACAIS BL -998\n",
        "VE ME RENTORMAIS EW BARDOIS VE NACAIS BL -1051\n",
        "KE ME RENTORMAIS ED BARWOIS KE NACAIS BZ -1064\n",
        "PE FE RENTORFAIS ED BARVOIS PE NACAIS BL -1015\n",
        "PE ME RENTORMAIS ED BARVOIS PE NACAIS BL -997\n",
        "VE ME REPTORMAIS ED BARCOIS VE PANAIS BL -1061\n",
        "VE WE RENTORWAIS ED BARCOIS VE NAPAIS BL -1008\n",
        "VE ME RENTCRMAIS ED BAROCIS VE NAPAIS BL -1087\n",
        "EV MV RVNTORMAIS VD BARCOIS EV NAPAIS BL -1451\n",
        "VEIMEIRENTORMA SIEDIBARCO SIVEINAPA SIBL -1153\n",
        "VE ME RENTORMAIQ ED BARYOIQ VE NACAIQ BL -1204\n",
        "VE ME HENTOHMAIS ED BAHZOIS VE NACAIS BL -1066\n",
        "VE ME RENTORMAIS ED BARJOIS VE NAWAIS BL -999\n",
        "VE ME RENTORMAIS ED BARJOIS VE NAPAIS BL -1000\n",
        "VE ME REUTORMAIS ED BARJOIS VE UACAIS BL -1119\n",
        "EV MV RVNTORMAIS VD BARYOIS EV NACAIS BL -1450\n",
        "WE ME RENTORMAIS ED BARYOIS WE NAVAIS BL -1000\n",
        "WE ME RENAORMTIS ED BTRYOIS WE NTCTIS BL -1079\n",
        "QE ME RENTORMAIS ED BARWOIS QE NACAIS BL -1037\n",
        "KE ME RENTORMAIS ED BARWOIS KE NACAIS BL -993\n",
        "KE ME RENAORMTIS ED BTRWOIS KE NTCTIS BL -1074\n",
        "KO MO RONTERMAIS OD BARWEIS KO NACAIS BL -1085\n",
        "KV MV RVNTORMAIS VD BARWOIS KV NACAIS BL -1458\n",
        "KE ME CENTOCMAIS ED BACWOIS KE NARAIS BL -1048\n",
        "XE ME RENTORMAIS ED BARKOIS XE NACAIS BL -1006\n",
        "KE ME RENTORMAIC ED BARWOIC KE NASAIC BL -1073\n",
        "KE ME RENTORMAIS ED BARWOIS KE NACAIS BL -1020\n",
        "KE ME RENTBRMAIS ED OARWBIS KE NACAIS OL -1078\n",
        "KECMECRENTORMAISCEDCBARWOISCKECNA AISCBL -1253\n",
        "VE ME RENTORMAIS EK BARYOIS VE NACAIS BL -1038\n",
        "VE ME RENTORMAIS ED BARYOIS VE NACAIS BL -989\n",
        "VE ME RENTHRMAIS ED BARYHIS VE NACAIS BL -1064\n",
        "VE JE RENTORJAIS ED BARYOIS VE NACAIS BL -1022\n",
        "VE ME RENTORMAIS ED BARYOIS VE NACAIS BL -1063\n",
        "VE ME REJTORMAIS ED BARYOIS VE JACAIS BL -1145\n",
        "VE ME XENTOXMAIS ED BAXYOIS VE NACAIS BL -1089\n",
        "VE ME RENTLRMAIS ED BARYLIS VE NACAIS BO -1084\n",
        "VE ME RENTORMAIS ED XARYOIS VE NACAIS XL -1031\n",
        "VE ME RENSORMAIT ED BARYOIT VE NACAIT BL -1007\n",
        "VE ME HENTOHMAIS ED BAHYOIS VE NACAIS BL -1067\n",
        "VN MN RNETORMAIS ND BARYOIS VN EACAIS BL -1198\n",
        "VE ME RENTORMAIS ED BARYOIS VE NACAIS BJ -1040\n",
        "DE ME RENTORMAIS EV BARYOIS DE NACAIS BL -1057\n",
        "VE ME RENTORMAIS ED JARYOIS VE NACAIS JL -1017\n",
        "VE ME RENTORMAIB ED SARYOIB VE NACAIB SL -1098\n",
        "VE ME RENTORMAIS ED BARYOIS VE NACAIS BL -1011\n",
        "VELMELRENTORMAISLEDLBARYOISLVELNACAISLB  -1241\n",
        "VE ME RENTORMAID ES BARYOID VE NACAID BL -1005\n",
        "VE ME RENTSRMAIO ED BARYSIO VE NACAIO BL -1098\n",
        "VEFMEFRENTORMAISFEDFBARYOISFVEFNACAISFBL -1315\n",
        "VY MY RYNTORMAIS YD BAREOIS VY NACAIS BL -1172\n",
        "VE ME RENTWRMAIS ED BARYWIS VE NACAIS BL -1082\n",
        "VE ME RENJORMAIS ED BARYOIS VE NACAIS BL -1021\n",
        "VE ME RENTORMAIS ED BARYOIS VE NACAIS BL -1015\n",
        "VE ME RENTORMAIS ED BARYOIS VE NACAIS BLUS QUE TE HOURDS RECEILS TUN INSDAND LE DEMBS TENDENTRE LES HRAQUEMENDS ORFANIQUES TES POISERIES TOUCRIR LES KEUG BOUR YIGER LE WALEITOSHOBE TE LOPSHURIDE TE FO DER FR HE UNE LUEUR MOMENDAN E TE HONSHIENHE LE SOMMEIL OU EDAIEND BLONF S LES MEUPLES LA HJAMPRE LE DOUD TOND VE NEDAIS QUUNE BEDIDE BARDIE ED A LINSENSIPILIDE TUQUEL VE REDOURNAIS CIDE MUNIR\n",
        "```\n",
        "\n",
        "We thought, however, it would be best to instead find a French sample text for this question. We found a French version of Jane Eyre which we will read and sort below."
      ]
    },
    {
      "cell_type": "code",
      "metadata": {
        "id": "rd2UoE8UXM6f"
      },
      "source": [
        "french_sample_text = processAnyText('https://www.gutenberg.org/files/16235/16235-8.txt', 'french.txt', 797)"
      ],
      "execution_count": null,
      "outputs": []
    },
    {
      "cell_type": "markdown",
      "metadata": {
        "id": "fXQvRth8XRSh"
      },
      "source": [
        "Using our new sample text we can now calucate the probabilites and rerun the metropolis algorithm using the French sample text.\n"
      ]
    },
    {
      "cell_type": "code",
      "metadata": {
        "id": "kZrPRTL8XkjX"
      },
      "source": [
        "probsFrench2 = Probs2(5, french_sample_text)"
      ],
      "execution_count": null,
      "outputs": []
    },
    {
      "cell_type": "code",
      "metadata": {
        "id": "FOvGAUSFMPMd"
      },
      "source": [
        "decodedMsg, score, cipher, graph = metropolis2(codedMsg[8], probsFrench2, 4000, T1([10,0.1]), {}, True, 3, False, zero = 1e-3)\n",
        "print(decodedMsg)"
      ],
      "execution_count": null,
      "outputs": []
    },
    {
      "cell_type": "markdown",
      "metadata": {
        "id": "2EtKyqfTQ5ga"
      },
      "source": [
        "We managed to find a near perfect solution below:\n",
        "\n",
        "```\n",
        "Seed: 8749449819374576025\n",
        "WDYRDYLDQCSLR KTYDPYZ LXSKTYWDYQ U KTYZO -2666\n",
        "FAYNAYRAQCGRNET YAHYVERXGT YFAYQEKET YVO -2544\n",
        "CA LA RAQTPRLIES AD NIRFPES CA QIJIES NO -2309\n",
        "MA TA FACLDFTIUS AV YIFRDUS MA CIJIUS YB -2283\n",
        "KA MA RATCPRMOUS AV GORFPUS KA TOJOUS GL -2162\n",
        "KA CA RATMNRCOUS AV FORGNUS KA TOJOUS FL -2099\n",
        "QA CA RAZMNRCOUS AV FORGNUS QA ZOJOUS FL -2142\n",
        "QA CA RATMNRCOIS AV FORKNIS QA TOXOIS FL -2086\n",
        "HA IA RATMGRIOCS AU PORKGCS HA TONOCS PL -2163\n",
        "BA CA UATMRUCOIS AV POUKRIS BA TOGOIS PF -2154\n",
        "WE CE UENLRUCOIS EV POUDRIS WE NOGOIS PM -2031\n",
        "HE CE IENMRICOUS ET POIDRUS HE NOGOUS PL -1923\n",
        "HE ME IENDRIMCUS ET PCIORUS HE NCGCUS PL -1940\n",
        "CE ME IEQDRIMOUS ET POIWRUS CE QOGOUS PL -1996\n",
        "CR MR IRNDEIMOUS RT POIBEUS CR NOYOUS PL -2106\n",
        "CE ME RENDIRMOUS ET PORBIUS CE NOYOUS PL -1843\n",
        "CEYMEYRENDIRMOUSYETYPORBIUSYCEYNO OUSYPL -2372\n",
        "FE ME RENDIRMOUS ET PORWIUS FE NOZOUS PL -1864\n",
        "CE ME RENDIRMOUY ET PORHIUY CE NOVOUY PL -1999\n",
        "CE ME RENDWRMOIS ET PORHWIS CE NOGOIS PL -1838\n",
        "CK MK RKNDARMOIS KT PORYAIS CK NOBOIS PL -2197\n",
        "FE ME RENDARMOIS ET PORVAIS FE NOBOIS PL -1745\n",
        "GE ME RENDARMOIS EU PORVAIS GE NOBOIS PL -1896\n",
        "GE ME PENDAPMOIS ET ROPJAIS GE NOBOIS RL -1828\n",
        "GE ME RENDXRMOIS ET PORVXIS GE NOFOIS PL -1801\n",
        "GE ME JENDAJMOIS ET POJYAIS GE NOFOIS PL -1805\n",
        "GE ME RENLARMOIS ET PORKAIS GE NOFOIS PD -1760\n",
        "QE ME RENDARMOIS ET PORKAIS QE NOFOIS PL -1725\n",
        "JE ME RENDARMOIS ET PORKAIS JE NOHOIS PL -1711\n",
        "JE ME RENDIRMOAS ET PORFIAS JE NOVOAS PL -1817\n",
        "JE ME RENDARMOIS ET PORBAIS JE NOVOIS PL -1707\n",
        "DE ME RENJORMAIS ET PARFOIS DE NAVAIS PL -1666\n",
        "JE ME RENDORMWIS ET PWRFOIS JE NWVWIS PL -1742\n",
        "JE ME RENDORMAIS ET PARFOIS JE NAVAIS PL -1626\n",
        "JE ME RENDORMTIS EA PTRFOIS JE NTVTIS PL -1829\n",
        "JC MC RCNDORMAIS CT PARWOIS JC NAVAIS PL -2128\n",
        "JE ME RENDORMAIS ET PARWOIS JE NAVAIS PB -1724\n",
        "JENMENRE DORMAISNETNPARWOISNJEN AVAISNPL -2073\n",
        "JE ME RENDXRMAIS ET PARQXIS JE NAVAIS PL -1742\n",
        "JE ME RENDORMAIS ET PARQOIS JE NAXAIS PL -1643\n",
        "JEAMEARENDORM ISAETAP RQOISAJEAN V ISAPL -2130\n",
        "JE ME RENUORMAIS ET PARFOIS JE NAVAIS PL -1782\n",
        "JE ME HENDOHMAIS ET PAHFOIS JE NAVAIS PL -1681\n",
        "JESMESRENDORMAI SETSPARFOI SJESNAVAI SPL -1974\n",
        "JE ME RENDORMAIS ET PARFOIS JE NAVAIS PL -1727\n",
        "JE ME SENDOSMAIR ET PASFOIR JE NAVAIR PL -1665\n",
        "JE ME RENDTRMAIS EO PARFTIS JE NAVAIS PL -1832\n",
        "HE ME RENDORMAIS ET PARFOIS HE NAVAIS PL -1590\n",
        "J EM ER NDORMAISE TEPARFOISEJ ENAVAISEPL -2018\n",
        "QE ME RENDORMAIS ET PARFOIS QE NAVAIS PL -1638\n",
        "JE ME RENDQRMAIS ET PARFQIS JE NAVAIS PL -1713\n",
        "JE ME RENDORMAIS ET PARXOIS JE NAVAIS PL -1578\n",
        "JE ME RECDORMAIS ET PARFOIS JE CAVAIS PL -1708\n",
        "JK MK RKNDORMAIS KT PARFOIS JK NAVAIS PL -2085\n",
        "JE ME RENDORMAIS ET PARFOIS JE NAVAIS PL -1579\n",
        "JE ME RENDORMAIS ET PARFOIS JE NAVAIS PL -1572\n",
        "JE ME RENDORMAIS ET PARFOIS JE NAVAIS PL -1730\n",
        "JV MV RVNDORMAIS VT PARFOIS JV NAEAIS PL -2158\n",
        "JE ME RENGORMAIS ET PARFOIS JE NAVAIS PL -1615\n",
        "JE ME RENDORMAIS ET PARFOIS JE NAVAIS PL -1563\n",
        "JE ME RENDORMAIS ET PARFOIS JE NAVAIS PL -1611\n",
        "GE ME RENDORMAIS ET PARFOIS GE NAVAIS PL -1582\n",
        "JE ME RENDORMAIG ET PARFOIG JE NAVAIG PL -1727\n",
        "JE ME RENDORMAIS ET PARFOIS JE NAVAIS PL -1608\n",
        "JE ME RENDORMAIS ET PARFOIS JE NAVAIS PL -1563\n",
        "JE ME RENODRMAIS ET PARFDIS JE NAVAIS PL -1745\n",
        "JE ME RENDORMAIS ET PARFOIS JE NABAIS PL -1588\n",
        "JE ME RECDORMAIS ET PARFOIS JE CAVAIS PL -1708\n",
        "JE ME RENDORMAIS ET PARVOIS JE NAFAIS PL -1576\n",
        "JE ME RENDORMAIS ET PARFOIS JE NACAIS PL -1599\n",
        "JE ZE RENDORZAIS ET PARFOIS JE NAVAIS PL -1637\n",
        "JT MT RTNDORMAIS TE PARFOIS JT NAVAIS PL -1961\n",
        "JE ME RENDORMFIS ET PFRAOIS JE NFVFIS PL -1669\n",
        "JE ME RENDXRMAIS ET PARFXIS JE NAVAIS PL -1692\n",
        "JEDMEDREN ORMAISDETDPARFOISDJEDNAVAISDPL -2138\n",
        "JE ME RENDORMAIS ET PARFOIS JE NAVAIS PL -1569\n",
        "JESMESRENDORMAI SETSPARFOI SJESNAVAI SPL -1973\n",
        "JE BE RENDORBAIS ET PARFOIS JE NAVAIS PL -1626\n",
        "JE ME RENDORMAIW ET PARFOIW JE NAVAIW PL -1776\n",
        "JE QE RENDORQAIS ET PARFOIS JE NAVAIS PL -1659\n",
        "JE ME RENDORMAIS ET PARFOIS JE NAVAIS PL -1608\n",
        "JE ME RENDORMAIS EQ PARFOIS JE NAVAIS PL -1787\n",
        "JE ME RENDORMAIS EX PARFOIS JE NAVAIS PL -1713\n",
        "JE ME RENDORMAIS ET CARFOIS JE NAVAIS CL -1603\n",
        "JE ME RENDORMAIS ET PARFOIS JE NAVAIS PL -1583\n",
        "JE ME RENDORMAIS ET PARFOIS JE NACAIS PL -1599\n",
        "JE ME WENDOWMAIS ET PAWFOIS JE NAVAIS PL -1696\n",
        "DE ME RENJORMAIS ET PARFOIS DE NAVAIS PL -1593\n",
        "JE ME RENDORMAIS ET PARFOIS JE NAVAIS PL -1725\n",
        "JE PE RENDORPAIS ET MARFOIS JE NAVAIS ML -1604\n",
        "JE ME RENDORMAIS ET PARFOIS JE NAVAIS PL -1589\n",
        "JE ME RENDORMAIS ET PARCOIS JE NAVAIS PL -1596\n",
        "JE FE RENDORFAIS ET PARMOIS JE NAVAIS PL -1603\n",
        "JE ME RENDORMAIS ET PARFOIS JE NAVAIS PQ -1722\n",
        "GE ME RENDORMAIS ET PARFOIS GE NAVAIS PL -1582\n",
        "JE ME RENDORMAIS ET PARFOIS JE NAVAIS PX -1712\n",
        "JE ME REKDORMAIS ET PARFOIS JE KAVAIS PL -1739\n",
        "JE ME RENDORMFIS ET PFRAOIS JE NFVFIS PL -1669\n",
        "JB MB RBNDORMAIS BT PARFOIS JB NAVAIS PL -2139\n",
        "JE ME GENDOGMAIS ET PAGFOIS JE NAVAIS PL -1666\n",
        "JE ME RENDORMAIS ET PARFOIS JE NAVAIS PLUS QUE DE COURTS REVEILS DUN INSTANT LE TEMPS DENTENDRE LES CRAQUEMENTS ORGANIQUES DES BOISERIES DOUVRIR LES YEUX POUR FIXER LE WALEIDOSCOPE DE LOBSCURITE DE GO TER GR CE UNE LUEUR MOMENTAN E DE CONSCIENCE LE SOMMEIL OU ETAIENT PLONG S LES MEUBLES LA CHAMBRE LE TOUT DONT JE NETAIS QUUNE PETITE PARTIE ET A LINSENSIBILITE DUQUEL JE RETOURNAIS VITE MUNIR\n",
        "```\n",
        "\n"
      ]
    },
    {
      "cell_type": "markdown",
      "metadata": {
        "id": "1HBT967bawKW"
      },
      "source": [
        "The decoded message is:\n",
        "\n",
        "JE ME RENDORMAIS ET PARFOIS JE NAVAIS PLUS QUE DE COURTS REVEILS DUN INSTANT LE TEMPS DENTENDRE LES CRAQUEMENTS ORGANIQUES DES BOISERIES DOUVRIR LES YEUX POUR FIXER LE WALEIDOSCOPE DE LOBSCURITE DE GO TER GR CE UNE LUEUR MOMENTAN E DE CONSCIENCE LE SOMMEIL OU ETAIENT PLONG S LES MEUBLES LA CHAMBRE LE TOUT DONT JE NETAIS QUUNE PETITE PARTIE ET A LINSENSIBILITE DUQUEL JE RETOURNAIS VITE MUNIR\n",
        "\n",
        "Sadly none of us speak French but a little google search brought us to the actual text:\n",
        "\n",
        "\"Je me rendormais, et parfois je n'avais plus que de courts réveils d'un instant, le temps d'entendre les craquements organiques des boiseries, d'ouvrir les yeux pour fixer le kaléidoscope de l'obscurité, de goûter grâce à une lueur momentanée de conscience le sommeil où étaient plongés les meubles, la chambre, le tout dont je n'étais qu'une petite partie et à l'insensibilité duquel je retournais vite m'unir.\""
      ]
    },
    {
      "cell_type": "markdown",
      "metadata": {
        "id": "O6wRbmCZYERu"
      },
      "source": [
        "**Coded Message 10**"
      ]
    },
    {
      "cell_type": "markdown",
      "metadata": {
        "id": "VfVsGI0uYJ1Q"
      },
      "source": [
        "The last 3 messages are particularly challenging due to the length of the sentences and the structure of the words within the sentence. We therefore added initial character swap/fix options to allow us to test the water when trying to decode the messages."
      ]
    },
    {
      "cell_type": "markdown",
      "metadata": {
        "id": "JaioCL_6Mwme"
      },
      "source": [
        "Using our original metropolis alogrithm the output messages would finish with a space. This is of course incorrect and gave us another way to optimise our algorithm, preventing spaces from occuring at the beginning and end of a message."
      ]
    },
    {
      "cell_type": "markdown",
      "metadata": {
        "id": "_LW3QzW0M2rl"
      },
      "source": [
        "With our new algorithm spaces at the begining and end of a message are unable to form.\n",
        "\n",
        "After runnning this multiple times we assumed that a ' ' was in the 'X' postion. Therfore we decided to make this swap and fix ' '."
      ]
    },
    {
      "cell_type": "code",
      "metadata": {
        "id": "9N3FkggajM_F"
      },
      "source": [
        "decodedMsg, score, cipher, graph = metropolis2(codedMsg[9], probsEnglish2, 50000, T1([10,0.1]), {'X':' '}, True, 3, False, zero = 1e-5)\n",
        "print(decodedMsg)"
      ],
      "execution_count": null,
      "outputs": []
    },
    {
      "cell_type": "markdown",
      "metadata": {
        "id": "KlXI3DYtjXIx"
      },
      "source": [
        "Using trigrams we often get an output that has word structures that aren't commonly seen in the English language such as 'll' in the middle of a 4 letter word.\n",
        "\n",
        "This can be changed, using our new letter swapping ability, to a vowel, most likely 'E' or 'O'. Below we can see the effect this will have on the decoding of the message.\n",
        "\n",
        "Also, given in previous short messages we have seen good results when running the algorithm using a larger gram, we decided to  attempt the following using a 5-gram.\n",
        "\n",
        "\n"
      ]
    },
    {
      "cell_type": "code",
      "metadata": {
        "id": "fs8denpoNN8T"
      },
      "source": [
        "## With E, and space fixed\n",
        "\n",
        "decodedMsg, score, cipher, graph = metropolis2(codedMsg[9], probsEnglish2, 50000, T1([10,0.1]), {'X':' ', 'Y':'E'}, True, 5, False, zero = 1e-5)\n",
        "print(decodedMsg)"
      ],
      "execution_count": null,
      "outputs": []
    },
    {
      "cell_type": "markdown",
      "metadata": {
        "id": "llvhzQ4DNR4g"
      },
      "source": [
        "Considering the output from many previous runs of the algorithm we will also fix the letter M in the first position."
      ]
    },
    {
      "cell_type": "code",
      "metadata": {
        "id": "YLsUJeu3rnpO"
      },
      "source": [
        "## With M, E, and space fixed\n",
        "\n",
        "decodedMsg, score, cipher, graph = metropolis2(codedMsg[9], probsEnglish2, 50000, T1([10,0.1]), {'X':' ', 'Y':'E', 'G':'M'}, True, 5, False, zero = 1e-5)\n",
        "print(decodedMsg)"
      ],
      "execution_count": null,
      "outputs": []
    },
    {
      "cell_type": "markdown",
      "metadata": {
        "id": "rdAGA3QKSydj"
      },
      "source": [
        "We have previously managed to arrive at the correct message but unfortunately have no record of this. Running the code several times above ahould arrive at something close to the decoded message below."
      ]
    },
    {
      "cell_type": "markdown",
      "metadata": {
        "id": "ZtE40l5abZ8P"
      },
      "source": [
        "The decoded mesage is:\n",
        "\n",
        "MEET AT MIDNIGHT\n",
        "\n",
        "Fully punctuated:\n",
        "\n",
        "\"Meet at midnight.\""
      ]
    },
    {
      "cell_type": "markdown",
      "metadata": {
        "id": "vGwPPf4ZiJWX"
      },
      "source": [
        "**Coded Message 11**"
      ]
    },
    {
      "cell_type": "markdown",
      "metadata": {
        "id": "AWXeoDQziXeB"
      },
      "source": [
        "As usual, the best method is to run the bigram metropolis algorithm once through on the coded message and see how we can optimise this afterwards. "
      ]
    },
    {
      "cell_type": "code",
      "metadata": {
        "id": "vX3t9LT5iS_8"
      },
      "source": [
        "decodedMsg, score, cipher, graph = metropolis2(codedMsg[10], probsEnglish2, 50000, T1([10,0.1]), {}, True, 2, False, zero = 1e-5)\n",
        "print(decodedMsg)"
      ],
      "execution_count": null,
      "outputs": []
    },
    {
      "cell_type": "markdown",
      "metadata": {
        "id": "ePLeDNAOilXr"
      },
      "source": [
        "Notice that the output message again often contains letter combinations that don’t fit in certain positions, for example, ‘ll’ in the middle of a 4 letter word is uncommon. This is because the algorithm is considering possibilities from much longer words from the sample text. To fix this we will restrict our sample text to only words of lengths that are contained in the message. In this case, the words seem to be of length 3 and 4."
      ]
    },
    {
      "cell_type": "code",
      "metadata": {
        "id": "wht4EZI7irSS"
      },
      "source": [
        "# This takes any text and removes any word that is not of a given length\n",
        "# word_len is a list with entries being the accepted length i.e. [3,5,6] accepts words of length 3, 5, and 6\n",
        "## Problem with this is that sentence structure will be wrong\n",
        "def compact_text(text, word_len):\n",
        "    new_text = []\n",
        "    for x in text.split():\n",
        "        if len(x) in word_len:\n",
        "            new_text.append(x)\n",
        "    return ' '.join(new_text)"
      ],
      "execution_count": null,
      "outputs": []
    },
    {
      "cell_type": "markdown",
      "metadata": {
        "id": "-LgArlS2i56P"
      },
      "source": [
        "Now we can recompute our probabilities for the compacted English sample text."
      ]
    },
    {
      "cell_type": "code",
      "metadata": {
        "id": "yBkwwkgSi-o5"
      },
      "source": [
        "com_english_sample_text = compact_text(english_sample_text, [3,4]) # Restricts to words of only 3 or 4 letters\n",
        "\n",
        "probsComEnglish = Probs2(5, com_english_sample_text)"
      ],
      "execution_count": null,
      "outputs": []
    },
    {
      "cell_type": "markdown",
      "metadata": {
        "id": "soF4Nhqajf6j"
      },
      "source": [
        "From here, we can apply our metropolis function to the compacted sample text and hopefully arrive at an answer that is more readable."
      ]
    },
    {
      "cell_type": "code",
      "metadata": {
        "id": "bJHEsz6DjtLH"
      },
      "source": [
        "decodedMsg, score, cipher, graph = metropolis2(codedMsg[10], probsComEnglish, 50000, T1([10,0.1]), {}, True, 2, False, zero = 1e-5)\n",
        "print(decodedMsg)"
      ],
      "execution_count": null,
      "outputs": []
    },
    {
      "cell_type": "markdown",
      "metadata": {
        "id": "6ZFK7vkOjznE"
      },
      "source": [
        "Some swaps are still required to get to the final answer but as you can see, the message seems much closer to a grammatically correct sentence. Note however that this method only works when using bigrams. This is due to the fact that many words have been taken out of the sample text making the new sample text gramatically incorrect. The bigram algorithm can never consider letters from two different words which allows this to converge reasonably well."
      ]
    },
    {
      "cell_type": "markdown",
      "metadata": {
        "id": "O24gbnT9OyZ9"
      },
      "source": [
        "We also decided to run this message through using a larger gram and, again, given a good choice of seed, we managed to converge reasonably close to the correct message."
      ]
    },
    {
      "cell_type": "code",
      "metadata": {
        "id": "8M5hL0QgOzb4"
      },
      "source": [
        "decodedMsg, score, cipher, graph = metropolis2(codedMsg[10], probsEnglish2, 50000, T1([10,0.1]), {}, True, 4, False, zero = 1e-5)\n",
        "print(decodedMsg)"
      ],
      "execution_count": null,
      "outputs": []
    },
    {
      "cell_type": "markdown",
      "metadata": {
        "id": "GLyCcvM7O2XC"
      },
      "source": [
        "\n",
        "As is quite common with the shorter messages, swaps are still needed but in our best case only two. Also, and more importantly, the message is rather easy to manually decode from the output."
      ]
    },
    {
      "cell_type": "markdown",
      "metadata": {
        "id": "5XV69H4fb_IR"
      },
      "source": [
        "Decoded message:\n",
        "\n",
        "SEE YOU SOON\n",
        "\n",
        "Punctuated:\n",
        "\n",
        "\"See you soon.\""
      ]
    },
    {
      "cell_type": "markdown",
      "metadata": {
        "id": "t_QWakbpktqU"
      },
      "source": [
        "**Coded Message 12**"
      ]
    },
    {
      "cell_type": "markdown",
      "metadata": {
        "id": "Pt92LJ5br3cP"
      },
      "source": [
        "Initially, we will try and run our algorithm to see if we can output something close to a sentence."
      ]
    },
    {
      "cell_type": "code",
      "metadata": {
        "id": "0tCetqJAsIGL"
      },
      "source": [
        "decodedMsg, score, cipher, graph = metropolis2(codedMsg[11], probsEnglish2, 50000, T1([10,0.1]), {}, True, 2, False, zero = 1e-3)\n",
        "print(decodedMsg)"
      ],
      "execution_count": null,
      "outputs": []
    },
    {
      "cell_type": "markdown",
      "metadata": {
        "id": "Uv-33fFYkxVm"
      },
      "source": [
        "This is clearly no where near a sentence that is gramtically correct. Maybe a couple words seem reasonable but, as a whole, the message is not.\n",
        "\n",
        "The first thing to note with this question is that, apart from the spaces, every letter appears once and only once. These sentences are known as perfect pangrams. The fact that every letter appears once and only once makes this question particularly hard to solve as the Metropolis algorithm works on the fact that certain letters are commonly followed by others. The algorithm, therefore, has no good starting point to solve a message of this form. Not only that, perfect pangrams often include words and abbreviations that are not commonly used in texts or sentences for that matter. We have therefore found a list of pangrams that we will be using as a sample text to, hopefully, get to a message that is somewhat readable.\n",
        "\n",
        "We wrote a short function below just to check whether the message is a pangram given that the spaces are fixed."
      ]
    },
    {
      "cell_type": "code",
      "metadata": {
        "id": "OlwYHm4iT4zX"
      },
      "source": [
        "# Checks whether code is a pangram or not\n",
        "# This does not consider spaces\n",
        "def is_pangram(code):\n",
        "    for x in symbols[1:]: # Loops through all characters apart from space\n",
        "        if code.count(x) != 1:\n",
        "            return False    \n",
        "    return True"
      ],
      "execution_count": null,
      "outputs": []
    },
    {
      "cell_type": "code",
      "metadata": {
        "id": "Kp4uMs6kPTgL"
      },
      "source": [
        "# Pangram check\n",
        "is_pangram(codedMsg[11])"
      ],
      "execution_count": null,
      "outputs": []
    },
    {
      "cell_type": "markdown",
      "metadata": {
        "id": "D7NK7I3bPfbn"
      },
      "source": [
        "As it is a pangram we will now read and process the pangram sample text as well as calculate the probabilities."
      ]
    },
    {
      "cell_type": "code",
      "metadata": {
        "id": "PcaaFi6NraEu"
      },
      "source": [
        "pangram_sample_text = processAnyText('https://raw.githubusercontent.com/JeremiahMunson/Pangram-Decoder/master/pangrams.txt', 'pangram.txt')"
      ],
      "execution_count": null,
      "outputs": []
    },
    {
      "cell_type": "code",
      "metadata": {
        "id": "JvuedDdCrjSC"
      },
      "source": [
        "# Calculating probilities from multiple pangrams\n",
        "probsPangram = Probs2(6, pangram_sample_text)"
      ],
      "execution_count": null,
      "outputs": []
    },
    {
      "cell_type": "markdown",
      "metadata": {
        "id": "Rkrv_so_t94G"
      },
      "source": [
        "Now we can run the code using our new sample text and with spaces intially fixed.\n"
      ]
    },
    {
      "cell_type": "code",
      "metadata": {
        "id": "L9lZftXjt9VB"
      },
      "source": [
        "decodedMsg, score, cipher, graph = metropolis2(codedMsg[11], probsPangram, 100000, T1([10,0.01]), {' ':' '}, True, 6, False, zero = 1e-50)\n",
        "print(decodedMsg)"
      ],
      "execution_count": null,
      "outputs": []
    },
    {
      "cell_type": "markdown",
      "metadata": {
        "id": "RDSkL1Xir0rZ"
      },
      "source": [
        "Notice now that the message doesn't necessarily make more sense but the vowels (and less common consonants such as 'Z') in particular are spread more evenly throughout."
      ]
    },
    {
      "cell_type": "markdown",
      "metadata": {
        "id": "48QllN0TGQdL"
      },
      "source": [
        "#Conclusion <a id=Conclusion></a>"
      ]
    },
    {
      "cell_type": "markdown",
      "metadata": {
        "id": "Lb9x4sFO7f_P"
      },
      "source": [
        "The ability to use n-grams for $n>2$ was an important part of the project and our development, especially when decoding the shorter messages. The `metropolis` algorithm that we first created required the class `Probs` which was not so efficient at producing the probabilities. This meant that, when trying to produce a 6-gram for example, we would get an error due to the running time. In comparison, the `Probs2` class is much more efficient at producing the probabilities which allows us to construct much larger grams with ease. The highest we went to was a 12-gram and that took less than a minute to compute."
      ]
    },
    {
      "cell_type": "markdown",
      "metadata": {
        "id": "lyLjD5pb7jst"
      },
      "source": [
        "Throughout the course of this project we have become increasingly aware that the Metropolis algorithm works very well for longer messages but rapidly declines in ability as the length of the message decreases. This is due to the fact that the algorithm converges based off of the probabilities of certain characters following an initial character. In shorter messages, these probabilities are much less likely to occur, if they occur at all, and therefore causes disparities from the desired outcome.\n",
        "\n",
        "An improvement to this issue would be to consider the probability of words rather than n-grams. This means that, rather than swapping random characters, the algorithm would swap specific words as long as those words fit correctly into the coded message. The algorithm would swap words until it finds the set of words that, based off our sample text, are most commonly found consecutively. This may, however, stagnate rather easily when it finds a sentence that is close to making sense. Also, this would require a dictionary of words to loop through and test. This could, most likely, be formed from the sample text provided but doing this might miss out words that are necessary for the decoding.\n"
      ]
    },
    {
      "cell_type": "markdown",
      "metadata": {
        "id": "_HiWs6b17pUw"
      },
      "source": [
        "We also noticed that the algorithm would converge on a message that, despite words forming, structurally doesn’t make sense. The algorithm is greedy and thus always attempts to get the greatest S value even if the words aren’t often seen together.\n",
        "\n",
        "To improve on this we could consider producing another score that relates the probability of two words being seen together. This would allow us to make decisions based on, not only the S value, but also on this new score. Finding out how to combine or consider both these scores in the algorithm would be challenging but would hopefully lead to a reduction in the amount the algorithm would stagnate.\n"
      ]
    },
    {
      "cell_type": "markdown",
      "metadata": {
        "id": "RPDKibij7vXO"
      },
      "source": [
        "In papers (4) and (5) it discusses using a mixture of two methods, namely, simulated annealing (SA) and the Multiple Try Metropolis (MTM) algorithm. The MTM algorithm involves making multiple random swaps each loop and choosing the one which returns the best S value. This allows for larger jumps towards the global optimum so can be used in conjunction with a rapidly decreasing cooling schedule, possibly even the geometric cooling schedule. It also reduces the likelihood of local optimisation which our algorithm often struggles with, especially when dealing with shorter messages. The MTMSA algorithm, a mixture of the MTM and SA, according to paper (4) produces amazing results with regards to the reduction in local optimisation, nearly always converging to the global optimum.\n",
        "\n",
        "Implementing the MTMSA algorithm would therefore be a massive improvement on our current Metropolis algorithm, considerably reducing the chance of converging to a local optimum and, additionally, increasing the speed due to a change in cooling schedule."
      ]
    },
    {
      "cell_type": "markdown",
      "metadata": {
        "id": "sQS1M1JA70qa"
      },
      "source": [
        "Throughout this project we have been told, and thus assumed, that the messages were substitution ciphers. But what if the coded messages weren’t substitution ciphers?\n",
        "\n",
        "In a substitution cipher the plain text is coded by substituting letters, spaces or punctuating are replaced by other letters or symbols. A good example of this is the Caesar cipher (6), in which, each letter in the alphabet is replaced by another letter that is a number of fixed positions along the alphabet. Coded message 1 uses a Caesar cipher that includes spaces and has a shift of 9 down the alphabet. However, you can also use a Transposition cipher to create a cipher text out of a plain text. Transposition ciphers use the position of the character rather than the character itself. An example of this is the Rail Fence Cipher (7), which is made by writing the message on diagonals, as shown below with the word 'HELLO', and then writing the characters from left to right along the rows. In this example, the cipher text would be 'HOELL'."
      ]
    },
    {
      "cell_type": "code",
      "metadata": {
        "id": "TesvibzbH052",
        "colab": {
          "base_uri": "https://localhost:8080/"
        },
        "outputId": "d2c8983e-57a3-45c0-8d37-36af6a45cd44"
      },
      "source": [
        "print(np.array([[\"H\", \"-\", \"-\", \"-\", \"O\"],[\"-\", \"E\", \"-\", \"L\", \"-\"],[\"-\", \"-\", \"L\", \"-\", \"-\"]]))"
      ],
      "execution_count": null,
      "outputs": [
        {
          "output_type": "stream",
          "text": [
            "[['H' '-' '-' '-' 'O']\n",
            " ['-' 'E' '-' 'L' '-']\n",
            " ['-' '-' 'L' '-' '-']]\n"
          ],
          "name": "stdout"
        }
      ]
    },
    {
      "cell_type": "markdown",
      "metadata": {
        "id": "9Sqq0HzGP4EI"
      },
      "source": [
        "Both of these ciphers have disadvantages. As we have shown throughout this project, substitution ciphers can be broken using the Metropolis algorithm. Transposition ciphers can be broken through knowing the character frequencies. Using a combination of both types of ciphers can make a code stronger, and thus much harder to decode, than either of them by themselves."
      ]
    },
    {
      "cell_type": "markdown",
      "metadata": {
        "id": "tDOr-DEWHFx0"
      },
      "source": [
        "#Bibliography <a href=#Bibliography></a>\n",
        "\n"
      ]
    },
    {
      "cell_type": "markdown",
      "metadata": {
        "id": "BkE9HS-MHbjQ"
      },
      "source": [
        "(1) \n",
        "Authors: \n",
        "Walid Mahdi Seyyid Ahmed Medjahed and Mohammed Ouali \n",
        "\n",
        "Title:\n",
        "Performance Analysis of Simulated Annealing Cooling Schedules in the Context of Dense Image Matching\n",
        "\n",
        "Institution:\n",
        "Taif University and College of Computers and Information Technology, Kingdom of Saudi Arabia and the University of Sfax, Multimedia Information Systems and Advanced Computing Laboratory, Tunisia.\n",
        "\n",
        "Date accessed:\n",
        "11/05/2021\n",
        "\n",
        "URL: http://www.scielo.org.mx/pdf/cys/v21n3/1405-5546-cys-21-03-00493.pdf\n",
        "\n",
        "(2)\n",
        "Authors: S. Kirkpatrick, C. D. Gelatt, Jr., M. P. Vecchi\n",
        "\n",
        "Title: Optimization by Simulated Annealing\n",
        "\n",
        "Institution:\n",
        "Science\n",
        "\n",
        "Date accessed:\n",
        "13/05/2021\n",
        "\n",
        "URL:\n",
        "http://wexler.free.fr/library/files/kirkpatrick%20(1983)%20optimization%20by%20simulated%20annealing.pdf\n",
        "\n",
        "(3)\n",
        "Authors: Peprah, A.K., Ap- piah, S.K. and Amponsah, S.K. (2017)\n",
        "\n",
        "Title: \n",
        "\"An Optimal Cooling Schedule Using a Simulated Annealing Based Approach\". Applied Mathematics, 8, 1195-1210\n",
        "\n",
        "Date accessed:\n",
        "14/05/2021\n",
        "\n",
        "URL:\n",
        "https://doi.org/10.4236/am.2017.88090 \n",
        "\n",
        "(4)\n",
        "Authors:\n",
        "Wei Shao, Guangbao Guo\n",
        "\n",
        "Title:\n",
        "\"Multiple-Try Simulated Annealing Algorithm for Global Optimization\", Mathematical Problems in Engineering, vol. 2018, Article ID 9248318, 11 pages, 2018. \n",
        "\n",
        "Date accessed:\n",
        "14/05/2021\n",
        "\n",
        "URL:\n",
        "https://doi.org/10.1155/2018/9248318\n",
        "\n",
        "(5)\n",
        "Authors:\n",
        "Silvia Pandolfi, Francesco Bartolucci, Nial Friel\n",
        "\n",
        "Title:\n",
        "A generalization of the Multiple-try Metropolis algorithm for Bayesian estimation and model selection\n",
        "\n",
        "Date accessed:\n",
        "14/05/2021\n",
        "\n",
        "URL:\n",
        "http://proceedings.mlr.press/v9/pandolfi10a/pandolfi10a.pdf\n",
        "\n",
        "\n",
        "(6) \n",
        "Authors:\n",
        "K.Renuka devi & G.N.Harshini\n",
        "\n",
        "Title:\n",
        "Analysis and Comparison of Substitution and Transposition Cipher\n",
        "\n",
        "Institution:\n",
        "College of Engineering and Technology, Tamilnadu, India\n",
        "\n",
        "Date accessed: \n",
        "15/05/2021\n",
        "\n",
        "URL:\n",
        "https://asutoshcollege.in/Study_Material/substitution_vs_transposition_06042020.pdf\n",
        "\n",
        "(7)\n",
        "Title:\n",
        "Rail Fence Cipher – Encryption and Decryption\n",
        "\n",
        "Date accessed:\n",
        "15/05/2021\n",
        "\n",
        "Institution:\n",
        "Geeks for geeks\n",
        "\n",
        "\n",
        "URL:\n",
        "https://www.geeksforgeeks.org/rail-fence-cipher-encryption-decryption/\n",
        "\n"
      ]
    }
  ]
}